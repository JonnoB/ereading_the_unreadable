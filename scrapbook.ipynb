{
 "cells": [
  {
   "cell_type": "code",
   "execution_count": 6,
   "metadata": {},
   "outputs": [],
   "source": [
    "import pandas as pd\n",
    "import numpy as np\n",
    "import os\n"
   ]
  },
  {
   "cell_type": "markdown",
   "metadata": {},
   "source": [
    "# Scrap book\n",
    "\n",
    "This ipynb, is for all the wierd fiddly bits you need to have. It is not in marimo as it probably contains many unrelated bits that could take a while to run.\n",
    "\n",
    "This is annoying but, it is life"
   ]
  },
  {
   "cell_type": "markdown",
   "metadata": {},
   "source": [
    "## Making Ground truth\n",
    "\n",
    "Because there are so many bounding boxes in the NCSE test set I am using the response from pixtral to create the initial GT text files. I can then replace the text in them with the actual GT from the transcriptions. This should make it faster as I can read what is in there.\n"
   ]
  },
  {
   "cell_type": "code",
   "execution_count": 13,
   "metadata": {},
   "outputs": [],
   "source": [
    "\n",
    "\n",
    "pixtral_ncse_test_response_path = 'data/download_jobs/experiments/dataframe/NCSE_deskew_True_max_ratio_1.csv'\n",
    "\n",
    "pixtral_response_df = pd.read_csv(pixtral_ncse_test_response_path)\n",
    "\n",
    "bbox_transcripts_path = 'data/transcripts/bbox_pixtral'\n",
    "\n",
    "os.makedirs(bbox_transcripts_path, exist_ok=True)"
   ]
  },
  {
   "cell_type": "code",
   "execution_count": 15,
   "metadata": {},
   "outputs": [],
   "source": [
    "for index, row in pixtral_response_df.iterrows():\n",
    "    with open(os.path.join(bbox_transcripts_path , row['filename']), 'w') as file:  # 'w' for text mode\n",
    "        file.write(row['content'])"
   ]
  }
 ],
 "metadata": {
  "kernelspec": {
   "display_name": ".venv",
   "language": "python",
   "name": "python3"
  },
  "language_info": {
   "codemirror_mode": {
    "name": "ipython",
    "version": 3
   },
   "file_extension": ".py",
   "mimetype": "text/x-python",
   "name": "python",
   "nbconvert_exporter": "python",
   "pygments_lexer": "ipython3",
   "version": "3.12.3"
  }
 },
 "nbformat": 4,
 "nbformat_minor": 2
}
