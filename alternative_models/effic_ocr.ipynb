{
 "cells": [
  {
   "cell_type": "code",
   "execution_count": 1,
   "metadata": {},
   "outputs": [
    {
     "name": "stderr",
     "output_type": "stream",
     "text": [
      "INFO:faiss.loader:Loading faiss with AVX512 support.\n",
      "INFO:faiss.loader:Successfully loaded faiss with AVX512 support.\n",
      "/home/zeus/miniconda3/envs/cloudspace/lib/python3.10/site-packages/timm/models/hub.py:4: FutureWarning: Importing from timm.models.hub is deprecated, please import via timm.models\n",
      "  warnings.warn(f\"Importing from {__name__} is deprecated, please import via timm.models\", FutureWarning)\n"
     ]
    }
   ],
   "source": [
    "from efficient_ocr import EffOCR"
   ]
  },
  {
   "cell_type": "code",
   "execution_count": 2,
   "metadata": {},
   "outputs": [
    {
     "name": "stdout",
     "output_type": "stream",
     "text": [
      "GPU is available?: False\n",
      "Initializing model...\n",
      "Loading (HF) pretrained word recognizer model!\n"
     ]
    },
    {
     "name": "stdout",
     "output_type": "stream",
     "text": [
      "Initializing model...\n",
      "Loading (HF) pretrained char recognizer model!\n"
     ]
    }
   ],
   "source": [
    "model = EffOCR(\n",
    "  config={\n",
    "      'Recognizer': {\n",
    "          'char': {\n",
    "              'model_backend': 'onnx',\n",
    "              'model_dir': './models',\n",
    "              'hf_repo_id': 'dell-research-harvard/effocr_en/char_recognizer',\n",
    "          },\n",
    "          'word': {\n",
    "              'model_backend': 'onnx',\n",
    "              'model_dir': './models',\n",
    "              'hf_repo_id': 'dell-research-harvard/effocr_en/word_recognizer',\n",
    "          },\n",
    "      },\n",
    "      'Localizer': {\n",
    "          'model_dir': './models',\n",
    "          'hf_repo_id': 'dell-research-harvard/effocr_en',\n",
    "          'model_backend': 'onnx'\n",
    "      },\n",
    "      'Line': {\n",
    "          'model_dir': './models',\n",
    "          'hf_repo_id': 'dell-research-harvard/effocr_en',\n",
    "          'model_backend': 'onnx',\n",
    "      },\n",
    "  }\n",
    ")"
   ]
  },
  {
   "cell_type": "code",
   "execution_count": 28,
   "metadata": {},
   "outputs": [],
   "source": [
    "import os\n",
    "from pathlib import Path\n",
    "from tqdm import tqdm\n",
    "\n",
    "def process_images_to_text(model, source_folder, destination_folder, supported_extensions=('.jpg', '.jpeg', '.png')):\n",
    "    \"\"\"\n",
    "    Process all images in source folder and save inference results as text files.\n",
    "    Skips files that have already been processed.\n",
    "    \n",
    "    Args:\n",
    "        model: The inference model to use\n",
    "        source_folder (str): Path to folder containing source images\n",
    "        destination_folder (str): Path to folder where text files will be saved\n",
    "        supported_extensions (tuple): Tuple of supported image file extensions\n",
    "    \"\"\"\n",
    "    # Create destination folder if it doesn't exist\n",
    "    os.makedirs(destination_folder, exist_ok=True)\n",
    "    \n",
    "    # Get list of already processed files\n",
    "    existing_txt_files = {Path(f).stem for f in os.listdir(destination_folder) if f.endswith('.txt')}\n",
    "    \n",
    "    # Get list of all image files that need processing\n",
    "    image_files = [\n",
    "        f for f in os.listdir(source_folder) \n",
    "        if f.lower().endswith(supported_extensions) \n",
    "        and Path(f).stem not in existing_txt_files\n",
    "    ]\n",
    "    \n",
    "    # Counter for errors\n",
    "    errors = 0\n",
    "    \n",
    "    # Process files with progress bar\n",
    "    for filename in tqdm(image_files, desc=\"Processing images\"):\n",
    "        try:\n",
    "            # Construct full path for input image\n",
    "            image_path = os.path.join(source_folder, filename)\n",
    "            \n",
    "            # Perform inference\n",
    "            result = model.infer(image_path)\n",
    "            \n",
    "            # Create text file name (same name as image but with .txt extension)\n",
    "            text_filename = Path(filename).stem + '.txt'\n",
    "            text_path = os.path.join(destination_folder, text_filename)\n",
    "            \n",
    "            # Save the inference result to text file\n",
    "            with open(text_path, 'w', encoding='utf-8') as f:\n",
    "                f.write(result[0].text)\n",
    "                \n",
    "        except Exception as e:\n",
    "            errors += 1\n",
    "            print(f\"\\nError processing {filename}: {str(e)}\")\n",
    "    \n",
    "    # Final summary\n",
    "    total_processed = len(image_files) - errors\n",
    "    already_existing = len(existing_txt_files)\n",
    "    \n",
    "    print(\"\\nProcessing complete!\")\n",
    "    print(f\"Already existing files: {already_existing}\")\n",
    "    print(f\"Newly processed files: {total_processed}\")\n",
    "    print(f\"Errors encountered: {errors}\")\n",
    "    print(f\"Total files in destination: {already_existing + total_processed}\")\n",
    "\n",
    "# Example usage:\n",
    "# source_folder = \"Images_jpg\"\n",
    "# destination_folder = \"Text_output\"\n",
    "# process_images_to_text(model, source_folder, destination_folder)"
   ]
  },
  {
   "cell_type": "code",
   "execution_count": 25,
   "metadata": {},
   "outputs": [
    {
     "ename": "TypeError",
     "evalue": "'tuple' object does not support item assignment",
     "output_type": "error",
     "traceback": [
      "\u001b[0;31m---------------------------------------------------------------------------\u001b[0m",
      "\u001b[0;31mTypeError\u001b[0m                                 Traceback (most recent call last)",
      "Cell \u001b[0;32mIn[25], line 1\u001b[0m\n\u001b[0;32m----> 1\u001b[0m result \u001b[38;5;241m=\u001b[39m \u001b[43mmodel\u001b[49m\u001b[38;5;241;43m.\u001b[39;49m\u001b[43minfer\u001b[49m\u001b[43m(\u001b[49m\u001b[38;5;124;43m'\u001b[39;49m\u001b[38;5;124;43mImages_jpg/3200797037.jpg\u001b[39;49m\u001b[38;5;124;43m'\u001b[39;49m\u001b[43m)\u001b[49m\n\u001b[1;32m      3\u001b[0m result[\u001b[38;5;241m0\u001b[39m]\u001b[38;5;241m.\u001b[39mtext\n",
      "File \u001b[0;32m~/efficient_ocr/src/efficient_ocr/model/effocr.py:326\u001b[0m, in \u001b[0;36mEffOCR.infer\u001b[0;34m(self, imgs, make_coco_annotations, visualize, save_crops, to_display, **kwargs)\u001b[0m\n\u001b[1;32m    302\u001b[0m \u001b[38;5;250m\u001b[39m\u001b[38;5;124;03m'''\u001b[39;00m\n\u001b[1;32m    303\u001b[0m \u001b[38;5;124;03mLast character recognition:\u001b[39;00m\n\u001b[1;32m    304\u001b[0m \u001b[38;5;124;03m    Input: detections as a dictionary with format as described above\u001b[39;00m\n\u001b[0;32m   (...)\u001b[0m\n\u001b[1;32m    321\u001b[0m \u001b[38;5;124;03m        If a punctuation mark was detected, all of the characters list, the overlaps object, and the word image and bounding boxes will be adjusted to reflect that detection. \u001b[39;00m\n\u001b[1;32m    322\u001b[0m \u001b[38;5;124;03m'''\u001b[39;00m\n\u001b[1;32m    324\u001b[0m \u001b[38;5;28;01mif\u001b[39;00m \u001b[38;5;129;01mnot\u001b[39;00m \u001b[38;5;28mself\u001b[39m\u001b[38;5;241m.\u001b[39mconfig[\u001b[38;5;124m'\u001b[39m\u001b[38;5;124mGlobal\u001b[39m\u001b[38;5;124m'\u001b[39m][\u001b[38;5;124m'\u001b[39m\u001b[38;5;124mchar_only\u001b[39m\u001b[38;5;124m'\u001b[39m]:\n\u001b[1;32m    325\u001b[0m     \u001b[38;5;66;03m# TODO: skip on language from config\u001b[39;00m\n\u001b[0;32m--> 326\u001b[0m     last_char_results \u001b[38;5;241m=\u001b[39m \u001b[43minfer_last_chars\u001b[49m\u001b[43m(\u001b[49m\u001b[43mlocalizer_results\u001b[49m\u001b[43m,\u001b[49m\u001b[43m \u001b[49m\u001b[38;5;28;43mself\u001b[39;49m\u001b[38;5;241;43m.\u001b[39;49m\u001b[43mchar_model\u001b[49m\u001b[43m,\u001b[49m\u001b[43m \u001b[49m\u001b[38;5;241;43m*\u001b[39;49m\u001b[38;5;241;43m*\u001b[39;49m\u001b[43mkwargs\u001b[49m\u001b[43m)\u001b[49m \u001b[38;5;66;03m# Passes back detections and cropped images\u001b[39;00m\n\u001b[1;32m    328\u001b[0m \u001b[38;5;250m\u001b[39m\u001b[38;5;124;03m'''\u001b[39;00m\n\u001b[1;32m    329\u001b[0m \u001b[38;5;124;03mWord Recognition: \u001b[39;00m\n\u001b[1;32m    330\u001b[0m \u001b[38;5;124;03m    Input: detections as a dictionary with format as described above under Last Char Recognition\u001b[39;00m\n\u001b[0;32m   (...)\u001b[0m\n\u001b[1;32m    351\u001b[0m \n\u001b[1;32m    352\u001b[0m \u001b[38;5;124;03m'''\u001b[39;00m\n\u001b[1;32m    354\u001b[0m \u001b[38;5;28;01mif\u001b[39;00m \u001b[38;5;129;01mnot\u001b[39;00m \u001b[38;5;28mself\u001b[39m\u001b[38;5;241m.\u001b[39mconfig[\u001b[38;5;124m'\u001b[39m\u001b[38;5;124mGlobal\u001b[39m\u001b[38;5;124m'\u001b[39m][\u001b[38;5;124m'\u001b[39m\u001b[38;5;124mchar_only\u001b[39m\u001b[38;5;124m'\u001b[39m]:\n\u001b[1;32m    355\u001b[0m     \u001b[38;5;66;03m# TODO: skip on language from config, work with skipped final punctuation step\u001b[39;00m\n",
      "File \u001b[0;32m~/efficient_ocr/src/efficient_ocr/recognition/infer_recognize.py:121\u001b[0m, in \u001b[0;36minfer_last_chars\u001b[0;34m(localizer_results, recognizer)\u001b[0m\n\u001b[1;32m    119\u001b[0m \u001b[38;5;66;03m# Adjust the word bounding box to reflect the removal of the last character\u001b[39;00m\n\u001b[1;32m    120\u001b[0m \u001b[38;5;28;01mif\u001b[39;00m to_remove \u001b[38;5;241m>\u001b[39m \u001b[38;5;241m0\u001b[39m:\n\u001b[0;32m--> 121\u001b[0m     \u001b[43mlocalizer_results\u001b[49m\u001b[43m[\u001b[49m\u001b[43mbbox_idx\u001b[49m\u001b[43m]\u001b[49m\u001b[43m[\u001b[49m\u001b[43mline_idx\u001b[49m\u001b[43m]\u001b[49m\u001b[43m[\u001b[49m\u001b[38;5;124;43m'\u001b[39;49m\u001b[38;5;124;43mwords\u001b[39;49m\u001b[38;5;124;43m'\u001b[39;49m\u001b[43m]\u001b[49m\u001b[43m[\u001b[49m\u001b[43mi\u001b[49m\u001b[43m]\u001b[49m\u001b[43m[\u001b[49m\u001b[38;5;241;43m0\u001b[39;49m\u001b[43m]\u001b[49m \u001b[38;5;241m=\u001b[39m localizer_results[bbox_idx][line_idx][\u001b[38;5;124m'\u001b[39m\u001b[38;5;124mwords\u001b[39m\u001b[38;5;124m'\u001b[39m][i][\u001b[38;5;241m0\u001b[39m][:, :(\u001b[38;5;241m-\u001b[39m\u001b[38;5;241m1\u001b[39m \u001b[38;5;241m*\u001b[39m to_remove)] \u001b[38;5;66;03m# Remove the left edge of the word image\u001b[39;00m\n\u001b[1;32m    122\u001b[0m \u001b[38;5;66;03m# Remove the last character from the list of overlapping characters\u001b[39;00m\n\u001b[1;32m    123\u001b[0m localizer_results[bbox_idx][line_idx][\u001b[38;5;124m'\u001b[39m\u001b[38;5;124moverlaps\u001b[39m\u001b[38;5;124m'\u001b[39m][i] \u001b[38;5;241m=\u001b[39m overlaps[:\u001b[38;5;241m-\u001b[39m\u001b[38;5;241m1\u001b[39m] \u001b[38;5;66;03m# Remove the last character from the overlaps list \u001b[39;00m\n",
      "\u001b[0;31mTypeError\u001b[0m: 'tuple' object does not support item assignment"
     ]
    }
   ],
   "source": [
    "\n",
    "result = model.infer('Images_jpg/3200797037.jpg')\n",
    "\n",
    "result[0].text"
   ]
  },
  {
   "cell_type": "code",
   "execution_count": 30,
   "metadata": {},
   "outputs": [
    {
     "name": "stderr",
     "output_type": "stream",
     "text": [
      "Processing images:   0%|          | 1/577 [00:02<23:54,  2.49s/it]"
     ]
    },
    {
     "name": "stdout",
     "output_type": "stream",
     "text": [
      "\n",
      "Error processing 3200797037.jpg: 'tuple' object does not support item assignment\n"
     ]
    },
    {
     "name": "stderr",
     "output_type": "stream",
     "text": [
      "Processing images:   0%|          | 2/577 [00:05<25:29,  2.66s/it]"
     ]
    },
    {
     "name": "stdout",
     "output_type": "stream",
     "text": [
      "\n",
      "Error processing 3206254571.jpg: 'tuple' object does not support item assignment\n"
     ]
    },
    {
     "name": "stderr",
     "output_type": "stream",
     "text": [
      "Processing images:   1%|          | 3/577 [00:08<28:15,  2.95s/it]"
     ]
    },
    {
     "name": "stdout",
     "output_type": "stream",
     "text": [
      "\n",
      "Error processing 3200813282.jpg: 'tuple' object does not support item assignment\n"
     ]
    },
    {
     "name": "stderr",
     "output_type": "stream",
     "text": [
      "Processing images:   1%|          | 4/577 [00:11<28:20,  2.97s/it]"
     ]
    },
    {
     "name": "stdout",
     "output_type": "stream",
     "text": [
      "\n",
      "Error processing 3200811565.jpg: 'tuple' object does not support item assignment\n"
     ]
    },
    {
     "name": "stderr",
     "output_type": "stream",
     "text": [
      "Processing images:   2%|▏         | 9/577 [00:35<37:29,  3.96s/it]"
     ]
    },
    {
     "name": "stdout",
     "output_type": "stream",
     "text": [
      "\n",
      "Error processing 3206260965.jpg: 'tuple' object does not support item assignment\n"
     ]
    },
    {
     "name": "stderr",
     "output_type": "stream",
     "text": [
      "Processing images:   8%|▊         | 45/577 [04:08<40:02,  4.52s/it]  "
     ]
    },
    {
     "name": "stdout",
     "output_type": "stream",
     "text": [
      "\n",
      "Error processing 3206201313.jpg: 'tuple' object does not support item assignment\n"
     ]
    },
    {
     "name": "stderr",
     "output_type": "stream",
     "text": [
      "Processing images:   9%|▉         | 54/577 [05:07<50:10,  5.76s/it]  "
     ]
    },
    {
     "name": "stdout",
     "output_type": "stream",
     "text": [
      "\n",
      "Error processing 3206201960.jpg: 'tuple' object does not support item assignment\n"
     ]
    },
    {
     "name": "stderr",
     "output_type": "stream",
     "text": [
      "Processing images:  11%|█         | 63/577 [05:53<40:39,  4.75s/it]"
     ]
    },
    {
     "name": "stdout",
     "output_type": "stream",
     "text": [
      "\n",
      "Error processing 3200811765.jpg: 'tuple' object does not support item assignment\n"
     ]
    },
    {
     "name": "stderr",
     "output_type": "stream",
     "text": [
      "Processing images:  12%|█▏        | 67/577 [06:10<37:35,  4.42s/it]"
     ]
    },
    {
     "name": "stdout",
     "output_type": "stream",
     "text": [
      "\n",
      "Error processing 3206208471.jpg: 'tuple' object does not support item assignment\n"
     ]
    },
    {
     "name": "stderr",
     "output_type": "stream",
     "text": [
      "Processing images:  14%|█▎        | 79/577 [07:17<38:46,  4.67s/it]"
     ]
    },
    {
     "name": "stdout",
     "output_type": "stream",
     "text": [
      "\n",
      "Error processing 3206197609.jpg: 'tuple' object does not support item assignment\n"
     ]
    },
    {
     "name": "stderr",
     "output_type": "stream",
     "text": [
      "Processing images:  15%|█▌        | 88/577 [08:02<35:40,  4.38s/it]"
     ]
    },
    {
     "name": "stdout",
     "output_type": "stream",
     "text": [
      "\n",
      "Error processing 3206275818.jpg: 'tuple' object does not support item assignment\n"
     ]
    },
    {
     "name": "stderr",
     "output_type": "stream",
     "text": [
      "Processing images:  16%|█▋        | 94/577 [08:37<40:32,  5.04s/it]"
     ]
    },
    {
     "name": "stdout",
     "output_type": "stream",
     "text": [
      "\n",
      "Error processing 3200807902.jpg: 'tuple' object does not support item assignment\n"
     ]
    },
    {
     "name": "stderr",
     "output_type": "stream",
     "text": [
      "Processing images:  16%|█▋        | 95/577 [08:41<37:03,  4.61s/it]"
     ]
    },
    {
     "name": "stdout",
     "output_type": "stream",
     "text": [
      "\n",
      "Error processing 3207642541.jpg: 'tuple' object does not support item assignment\n"
     ]
    },
    {
     "name": "stderr",
     "output_type": "stream",
     "text": [
      "Processing images:  17%|█▋        | 97/577 [08:48<33:13,  4.15s/it]"
     ]
    },
    {
     "name": "stdout",
     "output_type": "stream",
     "text": [
      "\n",
      "Error processing 3200809739.jpg: 'tuple' object does not support item assignment\n"
     ]
    },
    {
     "name": "stderr",
     "output_type": "stream",
     "text": [
      "Processing images:  18%|█▊        | 104/577 [09:28<39:49,  5.05s/it]"
     ]
    },
    {
     "name": "stdout",
     "output_type": "stream",
     "text": [
      "\n",
      "Error processing 3206328941.jpg: 'tuple' object does not support item assignment\n"
     ]
    },
    {
     "name": "stderr",
     "output_type": "stream",
     "text": [
      "Processing images:  24%|██▍       | 138/577 [12:33<29:02,  3.97s/it]"
     ]
    },
    {
     "name": "stdout",
     "output_type": "stream",
     "text": [
      "\n",
      "Error processing 3206313644.jpg: 'tuple' object does not support item assignment\n"
     ]
    },
    {
     "name": "stderr",
     "output_type": "stream",
     "text": [
      "Processing images:  28%|██▊       | 162/577 [14:50<34:53,  5.05s/it]"
     ]
    },
    {
     "name": "stdout",
     "output_type": "stream",
     "text": [
      "\n",
      "Error processing 3200812698.jpg: 'tuple' object does not support item assignment\n"
     ]
    },
    {
     "name": "stderr",
     "output_type": "stream",
     "text": [
      "Processing images:  29%|██▉       | 170/577 [15:36<35:51,  5.29s/it]"
     ]
    },
    {
     "name": "stdout",
     "output_type": "stream",
     "text": [
      "\n",
      "Error processing 3206248855.jpg: 'tuple' object does not support item assignment\n"
     ]
    },
    {
     "name": "stderr",
     "output_type": "stream",
     "text": [
      "Processing images:  31%|███▏      | 181/577 [16:37<32:55,  4.99s/it]"
     ]
    },
    {
     "name": "stdout",
     "output_type": "stream",
     "text": [
      "\n",
      "Error processing 3200811421.jpg: 'tuple' object does not support item assignment\n"
     ]
    },
    {
     "name": "stderr",
     "output_type": "stream",
     "text": [
      "Processing images:  33%|███▎      | 191/577 [17:38<34:15,  5.33s/it]"
     ]
    },
    {
     "name": "stdout",
     "output_type": "stream",
     "text": [
      "\n",
      "Error processing 3206250097.jpg: 'tuple' object does not support item assignment\n"
     ]
    },
    {
     "name": "stderr",
     "output_type": "stream",
     "text": [
      "Processing images:  41%|████      | 237/577 [22:00<21:58,  3.88s/it]"
     ]
    },
    {
     "name": "stdout",
     "output_type": "stream",
     "text": [
      "\n",
      "Error processing 3206270362.jpg: 'tuple' object does not support item assignment\n"
     ]
    },
    {
     "name": "stderr",
     "output_type": "stream",
     "text": [
      "Processing images:  41%|████▏     | 239/577 [22:10<24:33,  4.36s/it]"
     ]
    },
    {
     "name": "stdout",
     "output_type": "stream",
     "text": [
      "\n",
      "Error processing 3200810641.jpg: 'tuple' object does not support item assignment\n"
     ]
    },
    {
     "name": "stderr",
     "output_type": "stream",
     "text": [
      "Processing images:  43%|████▎     | 247/577 [22:59<29:18,  5.33s/it]"
     ]
    },
    {
     "name": "stdout",
     "output_type": "stream",
     "text": [
      "\n",
      "Error processing 3206223532.jpg: 'tuple' object does not support item assignment\n"
     ]
    },
    {
     "name": "stderr",
     "output_type": "stream",
     "text": [
      "Processing images:  44%|████▎     | 252/577 [23:26<26:37,  4.92s/it]"
     ]
    },
    {
     "name": "stdout",
     "output_type": "stream",
     "text": [
      "\n",
      "Error processing 3206236091.jpg: list index out of range\n"
     ]
    },
    {
     "name": "stderr",
     "output_type": "stream",
     "text": [
      "Processing images:  45%|████▌     | 260/577 [24:13<24:17,  4.60s/it]"
     ]
    },
    {
     "name": "stdout",
     "output_type": "stream",
     "text": [
      "\n",
      "Error processing 3206187528.jpg: 'tuple' object does not support item assignment\n"
     ]
    },
    {
     "name": "stderr",
     "output_type": "stream",
     "text": [
      "Processing images:  46%|████▌     | 264/577 [24:30<20:47,  3.99s/it]"
     ]
    },
    {
     "name": "stdout",
     "output_type": "stream",
     "text": [
      "\n",
      "Error processing 3206274525.jpg: 'tuple' object does not support item assignment\n"
     ]
    },
    {
     "name": "stderr",
     "output_type": "stream",
     "text": [
      "Processing images:  53%|█████▎    | 305/577 [28:25<21:18,  4.70s/it]"
     ]
    },
    {
     "name": "stdout",
     "output_type": "stream",
     "text": [
      "\n",
      "Error processing 3206258241.jpg: 'tuple' object does not support item assignment\n"
     ]
    },
    {
     "name": "stderr",
     "output_type": "stream",
     "text": [
      "Processing images:  54%|█████▍    | 312/577 [29:03<21:47,  4.93s/it]"
     ]
    },
    {
     "name": "stdout",
     "output_type": "stream",
     "text": [
      "\n",
      "Error processing 3206222248.jpg: 'tuple' object does not support item assignment\n"
     ]
    },
    {
     "name": "stderr",
     "output_type": "stream",
     "text": [
      "Processing images:  55%|█████▍    | 315/577 [29:16<18:55,  4.34s/it]"
     ]
    },
    {
     "name": "stdout",
     "output_type": "stream",
     "text": [
      "\n",
      "Error processing 3200811448.jpg: 'tuple' object does not support item assignment\n"
     ]
    },
    {
     "name": "stderr",
     "output_type": "stream",
     "text": [
      "Processing images:  56%|█████▌    | 321/577 [29:42<16:47,  3.93s/it]"
     ]
    },
    {
     "name": "stdout",
     "output_type": "stream",
     "text": [
      "\n",
      "Error processing 3200812374.jpg: list index out of range\n"
     ]
    },
    {
     "name": "stderr",
     "output_type": "stream",
     "text": [
      "Processing images:  59%|█████▊    | 338/577 [31:16<19:24,  4.87s/it]"
     ]
    },
    {
     "name": "stdout",
     "output_type": "stream",
     "text": [
      "\n",
      "Error processing 3206304562.jpg: 'tuple' object does not support item assignment\n"
     ]
    },
    {
     "name": "stderr",
     "output_type": "stream",
     "text": [
      "Processing images:  60%|██████    | 349/577 [32:19<18:58,  4.99s/it]"
     ]
    },
    {
     "name": "stdout",
     "output_type": "stream",
     "text": [
      "\n",
      "Error processing 3200810766.jpg: 'tuple' object does not support item assignment\n"
     ]
    },
    {
     "name": "stderr",
     "output_type": "stream",
     "text": [
      "Processing images:  61%|██████    | 352/577 [32:31<15:57,  4.26s/it]"
     ]
    },
    {
     "name": "stdout",
     "output_type": "stream",
     "text": [
      "\n",
      "Error processing 3206277695.jpg: 'tuple' object does not support item assignment\n"
     ]
    },
    {
     "name": "stderr",
     "output_type": "stream",
     "text": [
      "Processing images:  62%|██████▏   | 359/577 [33:09<19:25,  5.35s/it]"
     ]
    },
    {
     "name": "stdout",
     "output_type": "stream",
     "text": [
      "\n",
      "Error processing 3200810690.jpg: 'tuple' object does not support item assignment\n"
     ]
    },
    {
     "name": "stderr",
     "output_type": "stream",
     "text": [
      "Processing images:  63%|██████▎   | 364/577 [33:36<17:35,  4.96s/it]"
     ]
    },
    {
     "name": "stdout",
     "output_type": "stream",
     "text": [
      "\n",
      "Error processing 3206232849.jpg: 'tuple' object does not support item assignment\n"
     ]
    },
    {
     "name": "stderr",
     "output_type": "stream",
     "text": [
      "Processing images:  64%|██████▍   | 372/577 [34:25<18:47,  5.50s/it]"
     ]
    },
    {
     "name": "stdout",
     "output_type": "stream",
     "text": [
      "\n",
      "Error processing 3206320990.jpg: 'tuple' object does not support item assignment\n"
     ]
    },
    {
     "name": "stderr",
     "output_type": "stream",
     "text": [
      "Processing images:  65%|██████▍   | 375/577 [34:36<13:47,  4.10s/it]"
     ]
    },
    {
     "name": "stdout",
     "output_type": "stream",
     "text": [
      "\n",
      "Error processing 3200810698.jpg: 'tuple' object does not support item assignment\n"
     ]
    },
    {
     "name": "stderr",
     "output_type": "stream",
     "text": [
      "Processing images:  66%|██████▌   | 380/577 [34:58<12:54,  3.93s/it]"
     ]
    },
    {
     "name": "stdout",
     "output_type": "stream",
     "text": [
      "\n",
      "Error processing 3206224251.jpg: 'tuple' object does not support item assignment\n"
     ]
    },
    {
     "name": "stderr",
     "output_type": "stream",
     "text": [
      "Processing images:  66%|██████▋   | 383/577 [35:13<14:13,  4.40s/it]"
     ]
    },
    {
     "name": "stdout",
     "output_type": "stream",
     "text": [
      "\n",
      "Error processing 3200812186.jpg: 'tuple' object does not support item assignment\n"
     ]
    },
    {
     "name": "stderr",
     "output_type": "stream",
     "text": [
      "Processing images:  67%|██████▋   | 384/577 [35:16<13:03,  4.06s/it]"
     ]
    },
    {
     "name": "stdout",
     "output_type": "stream",
     "text": [
      "\n",
      "Error processing 3200811332.jpg: 'tuple' object does not support item assignment\n"
     ]
    },
    {
     "name": "stderr",
     "output_type": "stream",
     "text": [
      "Processing images:  69%|██████▉   | 398/577 [36:31<13:02,  4.37s/it]"
     ]
    },
    {
     "name": "stdout",
     "output_type": "stream",
     "text": [
      "\n",
      "Error processing 3200810460.jpg: 'tuple' object does not support item assignment\n"
     ]
    },
    {
     "name": "stderr",
     "output_type": "stream",
     "text": [
      "Processing images:  72%|███████▏  | 416/577 [38:13<12:57,  4.83s/it]"
     ]
    },
    {
     "name": "stdout",
     "output_type": "stream",
     "text": [
      "\n",
      "Error processing 3206260890.jpg: 'tuple' object does not support item assignment\n"
     ]
    },
    {
     "name": "stderr",
     "output_type": "stream",
     "text": [
      "Processing images:  72%|███████▏  | 418/577 [38:22<11:41,  4.41s/it]"
     ]
    },
    {
     "name": "stdout",
     "output_type": "stream",
     "text": [
      "\n",
      "Error processing 3200810293.jpg: 'tuple' object does not support item assignment\n"
     ]
    },
    {
     "name": "stderr",
     "output_type": "stream",
     "text": [
      "Processing images:  73%|███████▎  | 419/577 [38:25<10:22,  3.94s/it]"
     ]
    },
    {
     "name": "stdout",
     "output_type": "stream",
     "text": [
      "\n",
      "Error processing 3200810261.jpg: 'tuple' object does not support item assignment\n"
     ]
    },
    {
     "name": "stderr",
     "output_type": "stream",
     "text": [
      "Processing images:  73%|███████▎  | 424/577 [38:51<11:51,  4.65s/it]"
     ]
    },
    {
     "name": "stdout",
     "output_type": "stream",
     "text": [
      "\n",
      "Error processing 3206232852.jpg: 'tuple' object does not support item assignment\n"
     ]
    },
    {
     "name": "stderr",
     "output_type": "stream",
     "text": [
      "Processing images:  74%|███████▍  | 428/577 [39:10<11:20,  4.57s/it]"
     ]
    },
    {
     "name": "stdout",
     "output_type": "stream",
     "text": [
      "\n",
      "Error processing 3200811895.jpg: 'tuple' object does not support item assignment\n"
     ]
    },
    {
     "name": "stderr",
     "output_type": "stream",
     "text": [
      "Processing images:  77%|███████▋  | 444/577 [40:34<09:54,  4.47s/it]"
     ]
    },
    {
     "name": "stdout",
     "output_type": "stream",
     "text": [
      "\n",
      "Error processing 3206262517.jpg: 'tuple' object does not support item assignment\n"
     ]
    },
    {
     "name": "stderr",
     "output_type": "stream",
     "text": [
      "Processing images:  79%|███████▉  | 456/577 [41:36<08:28,  4.20s/it]"
     ]
    },
    {
     "name": "stdout",
     "output_type": "stream",
     "text": [
      "\n",
      "Error processing 3200811234.jpg: 'tuple' object does not support item assignment\n"
     ]
    },
    {
     "name": "stderr",
     "output_type": "stream",
     "text": [
      "Processing images:  81%|████████▏ | 469/577 [42:41<08:29,  4.72s/it]"
     ]
    },
    {
     "name": "stdout",
     "output_type": "stream",
     "text": [
      "\n",
      "Error processing 3200812528.jpg: list index out of range\n"
     ]
    },
    {
     "name": "stderr",
     "output_type": "stream",
     "text": [
      "Processing images:  81%|████████▏ | 470/577 [42:43<07:18,  4.10s/it]"
     ]
    },
    {
     "name": "stdout",
     "output_type": "stream",
     "text": [
      "\n",
      "Error processing 3200810216.jpg: 'tuple' object does not support item assignment\n"
     ]
    },
    {
     "name": "stderr",
     "output_type": "stream",
     "text": [
      "Processing images:  82%|████████▏ | 475/577 [43:11<08:10,  4.81s/it]"
     ]
    },
    {
     "name": "stdout",
     "output_type": "stream",
     "text": [
      "\n",
      "Error processing 3200811366.jpg: 'tuple' object does not support item assignment\n"
     ]
    },
    {
     "name": "stderr",
     "output_type": "stream",
     "text": [
      "Processing images:  82%|████████▏ | 476/577 [43:14<07:08,  4.24s/it]"
     ]
    },
    {
     "name": "stdout",
     "output_type": "stream",
     "text": [
      "\n",
      "Error processing 3200811032.jpg: 'tuple' object does not support item assignment\n"
     ]
    },
    {
     "name": "stderr",
     "output_type": "stream",
     "text": [
      "Processing images:  83%|████████▎ | 478/577 [43:23<06:56,  4.20s/it]"
     ]
    },
    {
     "name": "stdout",
     "output_type": "stream",
     "text": [
      "\n",
      "Error processing 3200811894.jpg: 'tuple' object does not support item assignment\n"
     ]
    },
    {
     "name": "stderr",
     "output_type": "stream",
     "text": [
      "Processing images:  84%|████████▍ | 486/577 [44:10<08:01,  5.29s/it]"
     ]
    },
    {
     "name": "stdout",
     "output_type": "stream",
     "text": [
      "\n",
      "Error processing 3200810942.jpg: 'tuple' object does not support item assignment\n"
     ]
    },
    {
     "name": "stderr",
     "output_type": "stream",
     "text": [
      "Processing images:  85%|████████▌ | 491/577 [44:33<06:22,  4.45s/it]"
     ]
    },
    {
     "name": "stdout",
     "output_type": "stream",
     "text": [
      "\n",
      "Error processing 3200810957.jpg: 'tuple' object does not support item assignment\n"
     ]
    },
    {
     "name": "stderr",
     "output_type": "stream",
     "text": [
      "Processing images:  86%|████████▌ | 497/577 [44:59<05:21,  4.02s/it]"
     ]
    },
    {
     "name": "stdout",
     "output_type": "stream",
     "text": [
      "\n",
      "Error processing 3200808398.jpg: 'tuple' object does not support item assignment\n"
     ]
    },
    {
     "name": "stderr",
     "output_type": "stream",
     "text": [
      "Processing images:  90%|█████████ | 520/577 [47:06<05:04,  5.35s/it]"
     ]
    },
    {
     "name": "stdout",
     "output_type": "stream",
     "text": [
      "\n",
      "Error processing 3200813276.jpg: 'tuple' object does not support item assignment\n"
     ]
    },
    {
     "name": "stderr",
     "output_type": "stream",
     "text": [
      "Processing images:  92%|█████████▏| 533/577 [48:10<03:09,  4.32s/it]"
     ]
    },
    {
     "name": "stdout",
     "output_type": "stream",
     "text": [
      "\n",
      "Error processing 3206314316.jpg: 'tuple' object does not support item assignment\n"
     ]
    },
    {
     "name": "stderr",
     "output_type": "stream",
     "text": [
      "Processing images:  97%|█████████▋| 561/577 [50:41<01:08,  4.30s/it]"
     ]
    },
    {
     "name": "stdout",
     "output_type": "stream",
     "text": [
      "\n",
      "Error processing 3206234742.jpg: 'tuple' object does not support item assignment\n"
     ]
    },
    {
     "name": "stderr",
     "output_type": "stream",
     "text": [
      "Processing images:  98%|█████████▊| 564/577 [50:54<00:50,  3.92s/it]"
     ]
    },
    {
     "name": "stdout",
     "output_type": "stream",
     "text": [
      "\n",
      "Error processing 3206277737.jpg: 'tuple' object does not support item assignment\n"
     ]
    },
    {
     "name": "stderr",
     "output_type": "stream",
     "text": [
      "Processing images:  99%|█████████▊| 569/577 [51:23<00:42,  5.25s/it]"
     ]
    },
    {
     "name": "stdout",
     "output_type": "stream",
     "text": [
      "\n",
      "Error processing 3206212365.jpg: 'tuple' object does not support item assignment\n"
     ]
    },
    {
     "name": "stderr",
     "output_type": "stream",
     "text": [
      "Processing images:  99%|█████████▉| 574/577 [51:49<00:14,  4.85s/it]"
     ]
    },
    {
     "name": "stdout",
     "output_type": "stream",
     "text": [
      "\n",
      "Error processing 3200810145.jpg: 'tuple' object does not support item assignment\n"
     ]
    },
    {
     "name": "stderr",
     "output_type": "stream",
     "text": [
      "Processing images: 100%|██████████| 577/577 [52:07<00:00,  5.42s/it]"
     ]
    },
    {
     "name": "stdout",
     "output_type": "stream",
     "text": [
      "\n",
      "Processing complete!\n",
      "Already existing files: 23\n",
      "Newly processed files: 515\n",
      "Errors encountered: 62\n",
      "Total files in destination: 538\n"
     ]
    },
    {
     "name": "stderr",
     "output_type": "stream",
     "text": [
      "\n"
     ]
    }
   ],
   "source": [
    "process_images_to_text(model, 'Images_jpg', 'BLN_effocr', supported_extensions=('.jpg', '.png'))"
   ]
  },
  {
   "cell_type": "code",
   "execution_count": 26,
   "metadata": {},
   "outputs": [
    {
     "name": "stdout",
     "output_type": "stream",
     "text": [
      "Processed: TEC_1886-03-01_page_59_B0C1R2.png -> TEC_1886-03-01_page_59_B0C1R2.txt\n",
      "Processed: TEC_1890-09-15_page_5_B0C2R10.png -> TEC_1890-09-15_page_5_B0C2R10.txt\n",
      "Processed: NSS_1852-10-02_page_14_B0C2R13.png -> NSS_1852-10-02_page_14_B0C2R13.txt\n",
      "Processed: EWJ_1858-09-01_page_25_B0C1R3.png -> EWJ_1858-09-01_page_25_B0C1R3.txt\n",
      "Processed: NSS_1852-10-02_page_14_B0C1R7.png -> NSS_1852-10-02_page_14_B0C1R7.txt\n",
      "Processed: EWJ_1859-05-01_page_66_B0C1R2.png -> EWJ_1859-05-01_page_66_B0C1R2.txt\n",
      "Processed: CLD_1855-08-18_page_7_B0C1R6.png -> CLD_1855-08-18_page_7_B0C1R6.txt\n",
      "Processed: TTW_1867-12-21_page_12_B0C4R44.png -> TTW_1867-12-21_page_12_B0C4R44.txt\n",
      "Processed: MRP_1807-10-02_page_13_B0C1R2.png -> MRP_1807-10-02_page_13_B0C1R2.txt\n",
      "Processed: TEC_1886-03-01_page_59_B0C1R9.png -> TEC_1886-03-01_page_59_B0C1R9.txt\n",
      "Processed: TTW_1868-01-25_page_3_B0C1R2.png -> TTW_1868-01-25_page_3_B0C1R2.txt\n",
      "Processed: TTW_1867-12-21_page_12_B0C4R45.png -> TTW_1867-12-21_page_12_B0C4R45.txt\n",
      "Processed: TEC_1883-12-06_page_312_B0C1R5.png -> TEC_1883-12-06_page_312_B0C1R5.txt\n",
      "Processed: NS2_1843-04-01_page_4_B0C3R25.png -> NS2_1843-04-01_page_4_B0C3R25.txt\n",
      "Processed: TEC_1886-03-01_page_59_B0C1R5.png -> TEC_1886-03-01_page_59_B0C1R5.txt\n",
      "Processed: TTW_1867-12-21_page_12_B0C3R34.png -> TTW_1867-12-21_page_12_B0C3R34.txt\n",
      "Processed: TTW_1867-12-21_page_12_B0C1R9.png -> TTW_1867-12-21_page_12_B0C1R9.txt\n",
      "Processed: TEC_1890-09-15_page_5_B0C2R19.png -> TEC_1890-09-15_page_5_B0C2R19.txt\n",
      "Processed: EWJ_55_1858-06-01_page_55_B0C1R2.png -> EWJ_55_1858-06-01_page_55_B0C1R2.txt\n",
      "Processed: TTW_1867-12-21_page_12_B0C2R18.png -> TTW_1867-12-21_page_12_B0C2R18.txt\n",
      "Processed: TTW_1868-05-16_page_5_B0C1R2.png -> TTW_1868-05-16_page_5_B0C1R2.txt\n",
      "Processed: NSS_1852-10-02_page_14_B0C1R8.png -> NSS_1852-10-02_page_14_B0C1R8.txt\n",
      "Processed: TEC_1890-09-15_page_5_B0C2R20.png -> TEC_1890-09-15_page_5_B0C2R20.txt\n",
      "Processed: TTW_1867-12-21_page_12_B0C3R30.png -> TTW_1867-12-21_page_12_B0C3R30.txt\n",
      "Processed: NS2_1843-04-01_page_4_B0C5R48.png -> NS2_1843-04-01_page_4_B0C5R48.txt\n",
      "Processed: NSS_1852-10-02_page_14_B0C2R12.png -> NSS_1852-10-02_page_14_B0C2R12.txt\n",
      "Processed: CLD_1855-08-18_page_7_B0C3R28.png -> CLD_1855-08-18_page_7_B0C3R28.txt\n",
      "Processed: NS2_1843-04-01_page_4_B0C5R42.png -> NS2_1843-04-01_page_4_B0C5R42.txt\n",
      "Processed: CLD_1855-08-18_page_7_B0C1R3.png -> CLD_1855-08-18_page_7_B0C1R3.txt\n",
      "Processed: CLD_1852-04-24_page_6_B0C3R22.png -> CLD_1852-04-24_page_6_B0C3R22.txt\n",
      "Processed: CLD_1852-04-24_page_6_B0C2R14.png -> CLD_1852-04-24_page_6_B0C2R14.txt\n",
      "Processed: MRP_1815-11-02_page_54_B0C1R5.png -> MRP_1815-11-02_page_54_B0C1R5.txt\n",
      "Processed: CLD_1852-04-24_page_6_B0C1R5.png -> CLD_1852-04-24_page_6_B0C1R5.txt\n",
      "Processed: EWJ_1860-05-01_page_49_B0C1R4.png -> EWJ_1860-05-01_page_49_B0C1R4.txt\n",
      "Processed: EWJ_1860-01-01_page_19_B0C1R3.png -> EWJ_1860-01-01_page_19_B0C1R3.txt\n",
      "Processed: CLD_1852-04-24_page_6_B0C3R26.png -> CLD_1852-04-24_page_6_B0C3R26.txt\n",
      "Processed: MRP_1834-06-02_page_41_B0C1R1.png -> MRP_1834-06-02_page_41_B0C1R1.txt\n",
      "Processed: NS2_1843-04-01_page_4_B0C3R29.png -> NS2_1843-04-01_page_4_B0C3R29.txt\n",
      "Processed: CLD_1852-04-24_page_6_B0C3R24.png -> CLD_1852-04-24_page_6_B0C3R24.txt\n",
      "Processed: TTW_1867-09-14_page_1_B0C2R12.png -> TTW_1867-09-14_page_1_B0C2R12.txt\n",
      "Processed: EWJ_1860-05-01_page_49_B0C1R3.png -> EWJ_1860-05-01_page_49_B0C1R3.txt\n",
      "Processed: TEC_1890-09-15_page_5_B0C2R12.png -> TEC_1890-09-15_page_5_B0C2R12.txt\n",
      "Processed: NS2_1843-04-01_page_4_B0C6R52.png -> NS2_1843-04-01_page_4_B0C6R52.txt\n",
      "Processed: MRP_1815-11-02_page_54_B0C1R2.png -> MRP_1815-11-02_page_54_B0C1R2.txt\n",
      "Processed: TEC_1889-05-01_page_8_B0C1R3.png -> TEC_1889-05-01_page_8_B0C1R3.txt\n",
      "Processed: MRP_1817-07-02_page_60_B0C2R5.png -> MRP_1817-07-02_page_60_B0C2R5.txt\n",
      "Processed: MRP_1817-07-02_page_60_B0C2R6.png -> MRP_1817-07-02_page_60_B0C2R6.txt\n",
      "Processed: NSS_1852-10-02_page_14_B0C1R5.png -> NSS_1852-10-02_page_14_B0C1R5.txt\n",
      "Processed: MRP_1815-11-02_page_54_B0C1R6.png -> MRP_1815-11-02_page_54_B0C1R6.txt\n",
      "Processed: EWJ_1858-09-01_page_25_B0C1R4.png -> EWJ_1858-09-01_page_25_B0C1R4.txt\n",
      "Error processing CLD_1855-08-18_page_7_B0C2R19.png: torch.cat(): expected a non-empty list of Tensors\n",
      "Processed: NS2_1843-04-01_page_4_B0C5R41.png -> NS2_1843-04-01_page_4_B0C5R41.txt\n",
      "Processed: TEC_1883-12-06_page_312_B0C1R4.png -> TEC_1883-12-06_page_312_B0C1R4.txt\n",
      "Processed: TTW_1867-12-21_page_12_B0C4R46.png -> TTW_1867-12-21_page_12_B0C4R46.txt\n",
      "Processed: TTW_1867-12-21_page_12_B0C2R16.png -> TTW_1867-12-21_page_12_B0C2R16.txt\n",
      "Processed: TEC_1890-09-15_page_5_B0C2R11.png -> TEC_1890-09-15_page_5_B0C2R11.txt\n",
      "Processed: TEC_1886-03-01_page_59_B0C1R7.png -> TEC_1886-03-01_page_59_B0C1R7.txt\n",
      "Processed: EWJ_1859-03-01_page_17_B0C1R2.png -> EWJ_1859-03-01_page_17_B0C1R2.txt\n",
      "Processed: MRP_1807-05-02_page_54_B0C1R5.png -> MRP_1807-05-02_page_54_B0C1R5.txt\n",
      "Processed: TTW_1867-12-21_page_12_B0C3R31.png -> TTW_1867-12-21_page_12_B0C3R31.txt\n",
      "Processed: NSS_1852-10-02_page_14_B0C2R11.png -> NSS_1852-10-02_page_14_B0C2R11.txt\n",
      "Processed: NS2_1843-04-01_page_4_B0C6R50.png -> NS2_1843-04-01_page_4_B0C6R50.txt\n",
      "Processed: TTW_1867-12-21_page_12_B0C3R32.png -> TTW_1867-12-21_page_12_B0C3R32.txt\n",
      "Processed: TTW_1867-09-14_page_1_B0C2R9.png -> TTW_1867-09-14_page_1_B0C2R9.txt\n",
      "Processed: TEC_1890-09-15_page_5_B0C1R9.png -> TEC_1890-09-15_page_5_B0C1R9.txt\n",
      "Processed: CLD_1853-07-30_page_2_B0C2R11.png -> CLD_1853-07-30_page_2_B0C2R11.txt\n",
      "Processed: TTW_1868-01-25_page_3_B0C1R4.png -> TTW_1868-01-25_page_3_B0C1R4.txt\n",
      "Processed: TTW_1867-12-21_page_12_B0C3R36.png -> TTW_1867-12-21_page_12_B0C3R36.txt\n",
      "Processed: TTW_1867-12-21_page_12_B0C1R11.png -> TTW_1867-12-21_page_12_B0C1R11.txt\n",
      "Processed: NS2_1843-04-01_page_4_B0C4R32.png -> NS2_1843-04-01_page_4_B0C4R32.txt\n",
      "Processed: TEC_1889-05-01_page_8_B0C1R2.png -> TEC_1889-05-01_page_8_B0C1R2.txt\n",
      "Processed: CLD_1853-07-30_page_2_B0C1R4.png -> CLD_1853-07-30_page_2_B0C1R4.txt\n",
      "Processed: NS2_1843-04-01_page_4_B0C5R40.png -> NS2_1843-04-01_page_4_B0C5R40.txt\n",
      "Processed: CLD_1855-08-18_page_7_B0C3R33.png -> CLD_1855-08-18_page_7_B0C3R33.txt\n",
      "Processed: MRP_1815-07-02_page_29_B0C1R2.png -> MRP_1815-07-02_page_29_B0C1R2.txt\n",
      "Processed: MRP_1817-07-02_page_60_B0C1R2.png -> MRP_1817-07-02_page_60_B0C1R2.txt\n",
      "Processed: TTW_1867-12-21_page_12_B0C2R21.png -> TTW_1867-12-21_page_12_B0C2R21.txt\n",
      "Processed: CLD_1853-07-30_page_2_B0C3R12.png -> CLD_1853-07-30_page_2_B0C3R12.txt\n",
      "Processed: NS2_1843-04-01_page_4_B0C4R34.png -> NS2_1843-04-01_page_4_B0C4R34.txt\n",
      "Processed: TTW_1867-12-21_page_12_B0C1R12.png -> TTW_1867-12-21_page_12_B0C1R12.txt\n",
      "Processed: NS2_1843-04-01_page_4_B0C4R33.png -> NS2_1843-04-01_page_4_B0C4R33.txt\n",
      "Processed: NSS_1852-10-02_page_14_B0C3R15.png -> NSS_1852-10-02_page_14_B0C3R15.txt\n",
      "Processed: EWJ_55_1858-06-01_page_55_B0C1R3.png -> EWJ_55_1858-06-01_page_55_B0C1R3.txt\n",
      "Processed: TTW_1867-12-21_page_12_B0C1R2.png -> TTW_1867-12-21_page_12_B0C1R2.txt\n",
      "Processed: EWJ_1858-08-01_page_5_B0C1R2.png -> EWJ_1858-08-01_page_5_B0C1R2.txt\n",
      "Processed: MRP_1831-01-02_page_32_B0C1R1.png -> MRP_1831-01-02_page_32_B0C1R1.txt\n",
      "Processed: CLD_1855-08-18_page_7_B0C2R26.png -> CLD_1855-08-18_page_7_B0C2R26.txt\n",
      "Processed: NSS_1852-10-02_page_14_B0C3R16.png -> NSS_1852-10-02_page_14_B0C3R16.txt\n",
      "Processed: CLD_1855-08-18_page_7_B0C3R29.png -> CLD_1855-08-18_page_7_B0C3R29.txt\n",
      "Processed: TEC_1889-05-01_page_8_B0C1R9.png -> TEC_1889-05-01_page_8_B0C1R9.txt\n",
      "Processed: NSS_1852-10-02_page_14_B0C1R4.png -> NSS_1852-10-02_page_14_B0C1R4.txt\n",
      "Processed: CLD_1855-08-18_page_7_B0C1R9.png -> CLD_1855-08-18_page_7_B0C1R9.txt\n",
      "Processed: CLD_1855-08-18_page_7_B0C2R23.png -> CLD_1855-08-18_page_7_B0C2R23.txt\n",
      "Processed: NS2_1843-04-01_page_4_B0C6R60.png -> NS2_1843-04-01_page_4_B0C6R60.txt\n",
      "Processed: NS2_1843-04-01_page_4_B0C1R5.png -> NS2_1843-04-01_page_4_B0C1R5.txt\n",
      "Processed: MRP_1807-10-02_page_13_B0C1R3.png -> MRP_1807-10-02_page_13_B0C1R3.txt\n",
      "Processed: TTW_1867-09-14_page_1_B0C2R6.png -> TTW_1867-09-14_page_1_B0C2R6.txt\n",
      "Processed: NS2_1843-04-01_page_4_B0C1R7.png -> NS2_1843-04-01_page_4_B0C1R7.txt\n",
      "Processed: CLD_1853-07-30_page_2_B0C2R8.png -> CLD_1853-07-30_page_2_B0C2R8.txt\n",
      "Processed: CLD_1852-04-24_page_6_B0C2R7.png -> CLD_1852-04-24_page_6_B0C2R7.txt\n",
      "Processed: NS2_1843-04-01_page_4_B0C5R37.png -> NS2_1843-04-01_page_4_B0C5R37.txt\n",
      "Processed: MRP_1834-06-02_page_41_B0C1R2.png -> MRP_1834-06-02_page_41_B0C1R2.txt\n",
      "Processed: TTW_1867-12-21_page_12_B0C3R24.png -> TTW_1867-12-21_page_12_B0C3R24.txt\n",
      "Processed: NS2_1843-04-01_page_4_B0C3R24.png -> NS2_1843-04-01_page_4_B0C3R24.txt\n",
      "Processed: CLD_1852-04-24_page_6_B0C3R28.png -> CLD_1852-04-24_page_6_B0C3R28.txt\n",
      "Processed: MRP_1807-05-02_page_54_B0C1R2.png -> MRP_1807-05-02_page_54_B0C1R2.txt\n",
      "Processed: CLD_1853-07-30_page_2_B0C1R2.png -> CLD_1853-07-30_page_2_B0C1R2.txt\n",
      "Processed: TTW_1867-12-21_page_12_B0C3R25.png -> TTW_1867-12-21_page_12_B0C3R25.txt\n",
      "Processed: NS2_1843-04-01_page_4_B0C2R15.png -> NS2_1843-04-01_page_4_B0C2R15.txt\n",
      "Processed: TEC_1889-05-01_page_8_B0C1R7.png -> TEC_1889-05-01_page_8_B0C1R7.txt\n",
      "Processed: TTW_1868-05-16_page_5_B0C1R7.png -> TTW_1868-05-16_page_5_B0C1R7.txt\n",
      "Processed: EWJ_55_1858-06-01_page_55_B0C1R5.png -> EWJ_55_1858-06-01_page_55_B0C1R5.txt\n",
      "Processed: NS2_1843-04-01_page_4_B0C2R14.png -> NS2_1843-04-01_page_4_B0C2R14.txt\n",
      "Processed: TTW_1867-09-14_page_1_B0C2R8.png -> TTW_1867-09-14_page_1_B0C2R8.txt\n",
      "Processed: NS2_1843-04-01_page_4_B0C6R57.png -> NS2_1843-04-01_page_4_B0C6R57.txt\n",
      "Processed: NS2_1843-04-01_page_4_B0C6R53.png -> NS2_1843-04-01_page_4_B0C6R53.txt\n",
      "Processed: TEC_1889-05-01_page_8_B0C2R12.png -> TEC_1889-05-01_page_8_B0C2R12.txt\n",
      "Processed: TTW_1867-09-14_page_1_B0C1R2.png -> TTW_1867-09-14_page_1_B0C1R2.txt\n",
      "Processed: TTW_1868-05-16_page_5_B0C1R3.png -> TTW_1868-05-16_page_5_B0C1R3.txt\n",
      "Processed: TTW_1867-09-14_page_1_B0C2R11.png -> TTW_1867-09-14_page_1_B0C2R11.txt\n",
      "Processed: NS2_1843-04-01_page_4_B0C1R1.png -> NS2_1843-04-01_page_4_B0C1R1.txt\n",
      "Processed: EWJ_1858-08-01_page_5_B0C1R1.png -> EWJ_1858-08-01_page_5_B0C1R1.txt\n",
      "Processed: CLD_1852-04-24_page_6_B0C3R23.png -> CLD_1852-04-24_page_6_B0C3R23.txt\n",
      "Processed: EWJ_1860-05-01_page_49_B0C1R7.png -> EWJ_1860-05-01_page_49_B0C1R7.txt\n",
      "Processed: TTW_1867-12-21_page_12_B0C3R37.png -> TTW_1867-12-21_page_12_B0C3R37.txt\n",
      "Processed: NS2_1843-04-01_page_4_B0C6R58.png -> NS2_1843-04-01_page_4_B0C6R58.txt\n",
      "Processed: CLD_1853-07-30_page_2_B0C3R16.png -> CLD_1853-07-30_page_2_B0C3R16.txt\n",
      "Processed: EWJ_1860-01-01_page_19_B0C1R2.png -> EWJ_1860-01-01_page_19_B0C1R2.txt\n",
      "Processed: MRP_1831-01-02_page_32_B0C1R5.png -> MRP_1831-01-02_page_32_B0C1R5.txt\n",
      "Processed: MRP_1822-10-02_page_14_B0C2R5.png -> MRP_1822-10-02_page_14_B0C2R5.txt\n",
      "Processed: MRP_1834-06-02_page_41_B0C1R4.png -> MRP_1834-06-02_page_41_B0C1R4.txt\n",
      "Processed: NS2_1843-04-01_page_4_B0C5R46.png -> NS2_1843-04-01_page_4_B0C5R46.txt\n",
      "Processed: CLD_1852-04-24_page_6_B0C3R20.png -> CLD_1852-04-24_page_6_B0C3R20.txt\n",
      "Processed: TEC_1890-09-15_page_5_B0C1R8.png -> TEC_1890-09-15_page_5_B0C1R8.txt\n",
      "Error processing MRP_1831-01-02_page_32_B0C1R3.png: torch.cat(): expected a non-empty list of Tensors\n",
      "Processed: MRP_1815-11-02_page_54_B0C1R1.png -> MRP_1815-11-02_page_54_B0C1R1.txt\n",
      "Processed: EWJ_1859-03-01_page_17_B0C1R1.png -> EWJ_1859-03-01_page_17_B0C1R1.txt\n",
      "Processed: MRP_1817-07-02_page_60_B0C1R1.png -> MRP_1817-07-02_page_60_B0C1R1.txt\n",
      "Processed: CLD_1852-04-24_page_6_B0C3R25.png -> CLD_1852-04-24_page_6_B0C3R25.txt\n",
      "Processed: CLD_1852-04-24_page_6_B0C1R2.png -> CLD_1852-04-24_page_6_B0C1R2.txt\n",
      "Processed: NSS_1852-10-02_page_14_B0C1R9.png -> NSS_1852-10-02_page_14_B0C1R9.txt\n",
      "Processed: NSS_1852-10-02_page_14_B0C3R17.png -> NSS_1852-10-02_page_14_B0C3R17.txt\n",
      "Processed: TEC_1890-09-15_page_5_B0C2R22.png -> TEC_1890-09-15_page_5_B0C2R22.txt\n",
      "Processed: EWJ_1859-05-01_page_66_B0C1R1.png -> EWJ_1859-05-01_page_66_B0C1R1.txt\n",
      "Processed: TTW_1867-12-21_page_12_B0C4R43.png -> TTW_1867-12-21_page_12_B0C4R43.txt\n",
      "Processed: NS2_1843-04-01_page_4_B0C3R28.png -> NS2_1843-04-01_page_4_B0C3R28.txt\n",
      "Processed: TTW_1867-12-21_page_12_B0C2R14.png -> TTW_1867-12-21_page_12_B0C2R14.txt\n",
      "Processed: CLD_1855-08-18_page_7_B0C2R21.png -> CLD_1855-08-18_page_7_B0C2R21.txt\n",
      "Processed: NS2_1843-04-01_page_4_B0C5R45.png -> NS2_1843-04-01_page_4_B0C5R45.txt\n",
      "Processed: EWJ_1858-09-01_page_25_B0C1R2.png -> EWJ_1858-09-01_page_25_B0C1R2.txt\n",
      "Processed: MRP_1834-06-02_page_41_B0C1R5.png -> MRP_1834-06-02_page_41_B0C1R5.txt\n",
      "Processed: TEC_1880-01-17_page_44_B0C1R8.png -> TEC_1880-01-17_page_44_B0C1R8.txt\n",
      "Processed: MRP_1817-07-02_page_60_B0C2R9.png -> MRP_1817-07-02_page_60_B0C2R9.txt\n",
      "Processed: CLD_1853-07-30_page_2_B0C2R7.png -> CLD_1853-07-30_page_2_B0C2R7.txt\n",
      "Processed: MRP_1815-07-02_page_29_B0C1R1.png -> MRP_1815-07-02_page_29_B0C1R1.txt\n",
      "Processed: TEC_1890-09-15_page_5_B0C1R6.png -> TEC_1890-09-15_page_5_B0C1R6.txt\n",
      "Processed: CLD_1855-08-18_page_7_B0C2R17.png -> CLD_1855-08-18_page_7_B0C2R17.txt\n",
      "Processed: CLD_1853-07-30_page_2_B0C1R3.png -> CLD_1853-07-30_page_2_B0C1R3.txt\n",
      "Processed: MRP_1807-05-02_page_54_B0C0R1.png -> MRP_1807-05-02_page_54_B0C0R1.txt\n",
      "Processed: MRP_1831-01-02_page_32_B0C1R2.png -> MRP_1831-01-02_page_32_B0C1R2.txt\n",
      "Processed: CLD_1855-08-18_page_7_B0C1R10.png -> CLD_1855-08-18_page_7_B0C1R10.txt\n",
      "Processed: NS2_1843-04-01_page_4_B0C1R4.png -> NS2_1843-04-01_page_4_B0C1R4.txt\n",
      "Processed: TTW_1867-12-21_page_12_B0C3R29.png -> TTW_1867-12-21_page_12_B0C3R29.txt\n",
      "Processed: EWJ_55_1858-06-01_page_55_B0C1R4.png -> EWJ_55_1858-06-01_page_55_B0C1R4.txt\n",
      "Processed: TTW_1868-01-25_page_3_B0C2R5.png -> TTW_1868-01-25_page_3_B0C2R5.txt\n",
      "Processed: MRP_1807-05-02_page_54_B0C1R3.png -> MRP_1807-05-02_page_54_B0C1R3.txt\n",
      "Error processing TTW_1867-12-21_page_12_B0C3R33.png: torch.cat(): expected a non-empty list of Tensors\n",
      "Processed: TEC_1890-09-15_page_5_B0C1R3.png -> TEC_1890-09-15_page_5_B0C1R3.txt\n",
      "Processed: TEC_1889-05-01_page_8_B0C2R14.png -> TEC_1889-05-01_page_8_B0C2R14.txt\n",
      "Processed: TTW_1867-12-21_page_12_B0C4R41.png -> TTW_1867-12-21_page_12_B0C4R41.txt\n",
      "Processed: TTW_1867-12-21_page_12_B0C4R40.png -> TTW_1867-12-21_page_12_B0C4R40.txt\n",
      "Processed: CLD_1855-08-18_page_7_B0C3R35.png -> CLD_1855-08-18_page_7_B0C3R35.txt\n",
      "Processed: MRP_1815-07-02_page_29_B0C1R3.png -> MRP_1815-07-02_page_29_B0C1R3.txt\n",
      "Processed: TTW_1867-12-21_page_12_B0C3R26.png -> TTW_1867-12-21_page_12_B0C3R26.txt\n",
      "Processed: MRP_1815-07-02_page_29_B0C1R4.png -> MRP_1815-07-02_page_29_B0C1R4.txt\n",
      "Processed: CLD_1855-08-18_page_7_B0C2R22.png -> CLD_1855-08-18_page_7_B0C2R22.txt\n",
      "Error processing MRP_1807-10-02_page_13_B0C1R1.png: torch.cat(): expected a non-empty list of Tensors\n",
      "Processed: TTW_1867-12-21_page_12_B0C4R38.png -> TTW_1867-12-21_page_12_B0C4R38.txt\n",
      "Processed: EWJ_1858-09-01_page_25_B0C1R1.png -> EWJ_1858-09-01_page_25_B0C1R1.txt\n",
      "Processed: CLD_1853-07-30_page_2_B0C3R15.png -> CLD_1853-07-30_page_2_B0C3R15.txt\n",
      "Error processing CLD_1855-08-18_page_7_B0C2R27.png: torch.cat(): expected a non-empty list of Tensors\n",
      "Processed: NS2_1843-04-01_page_4_B0C1R3.png -> NS2_1843-04-01_page_4_B0C1R3.txt\n",
      "Processed: CLD_1852-04-24_page_6_B0C3R21.png -> CLD_1852-04-24_page_6_B0C3R21.txt\n",
      "Processed: TTW_1867-12-21_page_12_B0C1R4.png -> TTW_1867-12-21_page_12_B0C1R4.txt\n",
      "Error processing CLD_1853-07-30_page_2_B0C3R14.png: 'tuple' object does not support item assignment\n",
      "Processed: TEC_1883-12-06_page_312_B0C1R2.png -> TEC_1883-12-06_page_312_B0C1R2.txt\n",
      "Processed: NS2_1843-04-01_page_4_B0C3R30.png -> NS2_1843-04-01_page_4_B0C3R30.txt\n",
      "Processed: NS2_1843-04-01_page_4_B0C2R16.png -> NS2_1843-04-01_page_4_B0C2R16.txt\n",
      "Processed: TTW_1867-09-14_page_1_B0C1R3.png -> TTW_1867-09-14_page_1_B0C1R3.txt\n",
      "Processed: TEC_1890-09-15_page_5_B0C2R17.png -> TEC_1890-09-15_page_5_B0C2R17.txt\n",
      "Processed: MRP_1822-10-02_page_14_B0C1R2.png -> MRP_1822-10-02_page_14_B0C1R2.txt\n",
      "Processed: NS2_1843-04-01_page_4_B0C5R44.png -> NS2_1843-04-01_page_4_B0C5R44.txt\n",
      "Processed: CLD_1855-08-18_page_7_B0C1R5.png -> CLD_1855-08-18_page_7_B0C1R5.txt\n",
      "Processed: MRP_1809-09-02_page_12_B0C1R1.png -> MRP_1809-09-02_page_12_B0C1R1.txt\n",
      "Processed: MRP_1815-11-02_page_54_B0C1R4.png -> MRP_1815-11-02_page_54_B0C1R4.txt\n",
      "Processed: NS2_1843-04-01_page_4_B0C6R55.png -> NS2_1843-04-01_page_4_B0C6R55.txt\n",
      "Processed: CLD_1855-08-18_page_7_B0C2R24.png -> CLD_1855-08-18_page_7_B0C2R24.txt\n",
      "Error processing TTW_1868-01-25_page_3_B0C2R7.png: torch.cat(): expected a non-empty list of Tensors\n",
      "Processed: TEC_1890-09-15_page_5_B0C2R16.png -> TEC_1890-09-15_page_5_B0C2R16.txt\n",
      "Processed: NS2_1843-04-01_page_4_B0C3R22.png -> NS2_1843-04-01_page_4_B0C3R22.txt\n",
      "Processed: TEC_1889-05-01_page_8_B0C1R5.png -> TEC_1889-05-01_page_8_B0C1R5.txt\n",
      "Processed: TTW_1867-12-21_page_12_B0C4R42.png -> TTW_1867-12-21_page_12_B0C4R42.txt\n",
      "Processed: CLD_1855-08-18_page_7_B0C3R31.png -> CLD_1855-08-18_page_7_B0C3R31.txt\n",
      "Processed: EWJ_1860-05-01_page_49_B0C1R2.png -> EWJ_1860-05-01_page_49_B0C1R2.txt\n",
      "Processed: TEC_1889-05-01_page_8_B0C2R15.png -> TEC_1889-05-01_page_8_B0C2R15.txt\n",
      "Processed: MRP_1815-11-02_page_54_B0C1R7.png -> MRP_1815-11-02_page_54_B0C1R7.txt\n",
      "Processed: TTW_1867-12-21_page_12_B0C2R23.png -> TTW_1867-12-21_page_12_B0C2R23.txt\n",
      "Processed: TEC_1889-05-01_page_8_B0C1R8.png -> TEC_1889-05-01_page_8_B0C1R8.txt\n",
      "Processed: NS2_1843-04-01_page_4_B0C2R17.png -> NS2_1843-04-01_page_4_B0C2R17.txt\n",
      "Processed: TTW_1868-05-16_page_5_B0C1R4.png -> TTW_1868-05-16_page_5_B0C1R4.txt\n",
      "Processed: TTW_1867-12-21_page_12_B0C1R3.png -> TTW_1867-12-21_page_12_B0C1R3.txt\n",
      "Processed: NS2_1843-04-01_page_4_B0C1R6.png -> NS2_1843-04-01_page_4_B0C1R6.txt\n",
      "Processed: CLD_1852-04-24_page_6_B0C1R6.png -> CLD_1852-04-24_page_6_B0C1R6.txt\n",
      "Processed: EWJ_1860-01-01_page_19_B0C1R1.png -> EWJ_1860-01-01_page_19_B0C1R1.txt\n",
      "Processed: TEC_1884-03-15_page_23_B0C1R2.png -> TEC_1884-03-15_page_23_B0C1R2.txt\n",
      "Processed: EWJ_1858-09-01_page_25_B0C1R5.png -> EWJ_1858-09-01_page_25_B0C1R5.txt\n",
      "Processed: MRP_1822-10-02_page_14_B0C1R3.png -> MRP_1822-10-02_page_14_B0C1R3.txt\n",
      "Processed: MRP_1807-05-02_page_54_B0C2R6.png -> MRP_1807-05-02_page_54_B0C2R6.txt\n",
      "Processed: TTW_1867-12-21_page_12_B0C2R19.png -> TTW_1867-12-21_page_12_B0C2R19.txt\n",
      "Processed: NSS_1852-10-02_page_14_B0C1R3.png -> NSS_1852-10-02_page_14_B0C1R3.txt\n",
      "Processed: NS2_1843-04-01_page_4_B0C5R43.png -> NS2_1843-04-01_page_4_B0C5R43.txt\n",
      "Processed: NS2_1843-04-01_page_4_B0C2R18.png -> NS2_1843-04-01_page_4_B0C2R18.txt\n",
      "Processed: CLD_1852-04-24_page_6_B0C1R3.png -> CLD_1852-04-24_page_6_B0C1R3.txt\n",
      "Processed: TEC_1890-09-15_page_5_B0C1R1.png -> TEC_1890-09-15_page_5_B0C1R1.txt\n",
      "Processed: EWJ_1860-05-01_page_49_B0C1R1.png -> EWJ_1860-05-01_page_49_B0C1R1.txt\n",
      "Processed: TEC_1889-05-01_page_8_B0C1R6.png -> TEC_1889-05-01_page_8_B0C1R6.txt\n",
      "Processed: TTW_1867-12-21_page_12_B0C1R7.png -> TTW_1867-12-21_page_12_B0C1R7.txt\n",
      "Processed: CLD_1853-07-30_page_2_B0C1R5.png -> CLD_1853-07-30_page_2_B0C1R5.txt\n",
      "Processed: CLD_1855-08-18_page_7_B0C1R4.png -> CLD_1855-08-18_page_7_B0C1R4.txt\n",
      "Processed: TTW_1867-09-14_page_1_B0C2R5.png -> TTW_1867-09-14_page_1_B0C2R5.txt\n",
      "Processed: MRP_1807-05-02_page_54_B0C1R4.png -> MRP_1807-05-02_page_54_B0C1R4.txt\n",
      "Processed: CLD_1855-08-18_page_7_B0C2R15.png -> CLD_1855-08-18_page_7_B0C2R15.txt\n",
      "Processed: NS2_1843-04-01_page_4_B0C1R8.png -> NS2_1843-04-01_page_4_B0C1R8.txt\n",
      "Processed: TEC_1880-01-17_page_44_B0C1R2.png -> TEC_1880-01-17_page_44_B0C1R2.txt\n",
      "Processed: TTW_1867-12-21_page_12_B0C4R39.png -> TTW_1867-12-21_page_12_B0C4R39.txt\n",
      "Processed: CLD_1853-07-30_page_2_B0C2R10.png -> CLD_1853-07-30_page_2_B0C2R10.txt\n",
      "Processed: NS2_1843-04-01_page_4_B0C2R13.png -> NS2_1843-04-01_page_4_B0C2R13.txt\n",
      "Processed: CLD_1855-08-18_page_7_B0C2R14.png -> CLD_1855-08-18_page_7_B0C2R14.txt\n",
      "Processed: TEC_1889-05-01_page_8_B0C1R1.png -> TEC_1889-05-01_page_8_B0C1R1.txt\n",
      "Processed: CLD_1855-08-18_page_7_B0C2R20.png -> CLD_1855-08-18_page_7_B0C2R20.txt\n",
      "Processed: MRP_1822-10-02_page_14_B0C2R4.png -> MRP_1822-10-02_page_14_B0C2R4.txt\n",
      "Processed: TTW_1867-09-14_page_1_B0C2R7.png -> TTW_1867-09-14_page_1_B0C2R7.txt\n",
      "Processed: TTW_1867-12-21_page_12_B0C1R5.png -> TTW_1867-12-21_page_12_B0C1R5.txt\n",
      "Processed: TEC_1886-03-01_page_59_B0C1R6.png -> TEC_1886-03-01_page_59_B0C1R6.txt\n",
      "Processed: TEC_1889-05-01_page_8_B0C2R11.png -> TEC_1889-05-01_page_8_B0C2R11.txt\n",
      "Processed: TTW_1867-12-21_page_12_B0C3R28.png -> TTW_1867-12-21_page_12_B0C3R28.txt\n",
      "Processed: NS2_1843-04-01_page_4_B0C6R51.png -> NS2_1843-04-01_page_4_B0C6R51.txt\n",
      "Processed: NSS_1852-10-02_page_14_B0C1R6.png -> NSS_1852-10-02_page_14_B0C1R6.txt\n",
      "Processed: CLD_1855-08-18_page_7_B0C3R30.png -> CLD_1855-08-18_page_7_B0C3R30.txt\n",
      "Processed: TTW_1868-05-16_page_5_B0C1R1.png -> TTW_1868-05-16_page_5_B0C1R1.txt\n",
      "Processed: MRP_1809-09-02_page_12_B0C1R4.png -> MRP_1809-09-02_page_12_B0C1R4.txt\n",
      "Processed: CLD_1855-08-18_page_7_B0C3R34.png -> CLD_1855-08-18_page_7_B0C3R34.txt\n",
      "Processed: NS2_1843-04-01_page_4_B0C4R35.png -> NS2_1843-04-01_page_4_B0C4R35.txt\n",
      "Processed: EWJ_1858-08-01_page_5_B0C1R3.png -> EWJ_1858-08-01_page_5_B0C1R3.txt\n",
      "Processed: CLD_1852-04-24_page_6_B0C3R16.png -> CLD_1852-04-24_page_6_B0C3R16.txt\n",
      "Processed: NS2_1843-04-01_page_4_B0C2R19.png -> NS2_1843-04-01_page_4_B0C2R19.txt\n",
      "Processed: TTW_1867-09-14_page_1_B0C0R1.png -> TTW_1867-09-14_page_1_B0C0R1.txt\n",
      "Processed: CLD_1855-08-18_page_7_B0C1R8.png -> CLD_1855-08-18_page_7_B0C1R8.txt\n",
      "Processed: TTW_1867-12-21_page_12_B0C2R15.png -> TTW_1867-12-21_page_12_B0C2R15.txt\n",
      "Processed: TEC_1886-03-01_page_59_B0C1R8.png -> TEC_1886-03-01_page_59_B0C1R8.txt\n",
      "Processed: CLD_1855-08-18_page_7_B0C1R13.png -> CLD_1855-08-18_page_7_B0C1R13.txt\n",
      "Processed: CLD_1852-04-24_page_6_B0C2R11.png -> CLD_1852-04-24_page_6_B0C2R11.txt\n",
      "Processed: CLD_1852-04-24_page_6_B0C3R15.png -> CLD_1852-04-24_page_6_B0C3R15.txt\n",
      "Processed: CLD_1852-04-24_page_6_B0C3R18.png -> CLD_1852-04-24_page_6_B0C3R18.txt\n",
      "Processed: TEC_1880-01-17_page_44_B0C1R4.png -> TEC_1880-01-17_page_44_B0C1R4.txt\n",
      "Processed: CLD_1855-08-18_page_7_B0C1R11.png -> CLD_1855-08-18_page_7_B0C1R11.txt\n",
      "Processed: TTW_1867-09-14_page_1_B0C1R4.png -> TTW_1867-09-14_page_1_B0C1R4.txt\n",
      "Processed: CLD_1855-08-18_page_7_B0C1R12.png -> CLD_1855-08-18_page_7_B0C1R12.txt\n",
      "Processed: NS2_1843-04-01_page_4_B0C2R11.png -> NS2_1843-04-01_page_4_B0C2R11.txt\n",
      "Processed: TTW_1867-12-21_page_12_B0C1R10.png -> TTW_1867-12-21_page_12_B0C1R10.txt\n",
      "Processed: TEC_1886-03-01_page_59_B0C1R3.png -> TEC_1886-03-01_page_59_B0C1R3.txt\n",
      "Processed: NS2_1843-04-01_page_4_B0C2R10.png -> NS2_1843-04-01_page_4_B0C2R10.txt\n",
      "Processed: NS2_1843-04-01_page_4_B0C6R54.png -> NS2_1843-04-01_page_4_B0C6R54.txt\n",
      "Processed: TTW_1868-01-25_page_3_B0C2R8.png -> TTW_1868-01-25_page_3_B0C2R8.txt\n",
      "Processed: CLD_1855-08-18_page_7_B0C1R1.png -> CLD_1855-08-18_page_7_B0C1R1.txt\n",
      "Processed: TEC_1889-05-01_page_8_B0C1R4.png -> TEC_1889-05-01_page_8_B0C1R4.txt\n",
      "Processed: MRP_1817-07-02_page_60_B0C1R3.png -> MRP_1817-07-02_page_60_B0C1R3.txt\n",
      "Processed: NS2_1843-04-01_page_4_B0C2R12.png -> NS2_1843-04-01_page_4_B0C2R12.txt\n",
      "Processed: TTW_1867-12-21_page_12_B0C1R8.png -> TTW_1867-12-21_page_12_B0C1R8.txt\n",
      "Processed: NS2_1843-04-01_page_4_B0C1R9.png -> NS2_1843-04-01_page_4_B0C1R9.txt\n",
      "Processed: MRP_1807-05-02_page_54_B0C2R7.png -> MRP_1807-05-02_page_54_B0C2R7.txt\n",
      "Processed: EWJ_55_1858-06-01_page_55_B0C1R1.png -> EWJ_55_1858-06-01_page_55_B0C1R1.txt\n",
      "Processed: TEC_1886-03-01_page_59_B0C1R4.png -> TEC_1886-03-01_page_59_B0C1R4.txt\n",
      "Processed: CLD_1853-07-30_page_2_B0C2R6.png -> CLD_1853-07-30_page_2_B0C2R6.txt\n",
      "Processed: TEC_1890-09-15_page_5_B0C2R13.png -> TEC_1890-09-15_page_5_B0C2R13.txt\n",
      "Processed: NS2_1843-04-01_page_4_B0C6R49.png -> NS2_1843-04-01_page_4_B0C6R49.txt\n",
      "Processed: TTW_1868-01-25_page_3_B0C2R6.png -> TTW_1868-01-25_page_3_B0C2R6.txt\n",
      "Processed: TTW_1867-12-21_page_12_B0C4R47.png -> TTW_1867-12-21_page_12_B0C4R47.txt\n",
      "Processed: TTW_1868-01-25_page_3_B0C1R1.png -> TTW_1868-01-25_page_3_B0C1R1.txt\n",
      "Processed: TEC_1890-09-15_page_5_B0C1R2.png -> TEC_1890-09-15_page_5_B0C1R2.txt\n",
      "Processed: CLD_1852-04-24_page_6_B0C1R1.png -> CLD_1852-04-24_page_6_B0C1R1.txt\n",
      "Processed: EWJ_1860-05-01_page_49_B0C1R6.png -> EWJ_1860-05-01_page_49_B0C1R6.txt\n",
      "Processed: TTW_1867-12-21_page_12_B0C1R1.png -> TTW_1867-12-21_page_12_B0C1R1.txt\n",
      "Processed: TEC_1890-09-15_page_5_B0C1R5.png -> TEC_1890-09-15_page_5_B0C1R5.txt\n",
      "Processed: CLD_1853-07-30_page_2_B0C3R17.png -> CLD_1853-07-30_page_2_B0C3R17.txt\n",
      "Processed: TTW_1868-01-25_page_3_B0C1R3.png -> TTW_1868-01-25_page_3_B0C1R3.txt\n",
      "Processed: NS2_1843-04-01_page_4_B0C5R39.png -> NS2_1843-04-01_page_4_B0C5R39.txt\n",
      "Processed: CLD_1852-04-24_page_6_B0C2R9.png -> CLD_1852-04-24_page_6_B0C2R9.txt\n",
      "Processed: NS2_1843-04-01_page_4_B0C1R2.png -> NS2_1843-04-01_page_4_B0C1R2.txt\n",
      "Processed: TTW_1867-12-21_page_12_B0C1R6.png -> TTW_1867-12-21_page_12_B0C1R6.txt\n",
      "Processed: TTW_1867-12-21_page_12_B0C1R13.png -> TTW_1867-12-21_page_12_B0C1R13.txt\n",
      "Processed: NSS_1852-10-02_page_14_B0C1R2.png -> NSS_1852-10-02_page_14_B0C1R2.txt\n",
      "Processed: CLD_1852-04-24_page_6_B0C1R4.png -> CLD_1852-04-24_page_6_B0C1R4.txt\n",
      "Processed: MRP_1809-09-02_page_12_B0C1R2.png -> MRP_1809-09-02_page_12_B0C1R2.txt\n",
      "Processed: NS2_1843-04-01_page_4_B0C3R20.png -> NS2_1843-04-01_page_4_B0C3R20.txt\n",
      "Processed: MRP_1807-05-02_page_54_B0C2R8.png -> MRP_1807-05-02_page_54_B0C2R8.txt\n",
      "Processed: TEC_1886-03-01_page_59_B0C1R1.png -> TEC_1886-03-01_page_59_B0C1R1.txt\n",
      "Processed: TEC_1890-09-15_page_5_B0C2R18.png -> TEC_1890-09-15_page_5_B0C2R18.txt\n",
      "Processed: CLD_1855-08-18_page_7_B0C1R7.png -> CLD_1855-08-18_page_7_B0C1R7.txt\n",
      "Processed: TEC_1890-09-15_page_5_B0C2R21.png -> TEC_1890-09-15_page_5_B0C2R21.txt\n",
      "Processed: TTW_1867-12-21_page_12_B0C3R35.png -> TTW_1867-12-21_page_12_B0C3R35.txt\n",
      "Processed: TEC_1890-09-15_page_5_B0C2R14.png -> TEC_1890-09-15_page_5_B0C2R14.txt\n",
      "Processed: NS2_1843-04-01_page_4_B0C3R23.png -> NS2_1843-04-01_page_4_B0C3R23.txt\n",
      "Processed: MRP_1834-06-02_page_41_B0C1R3.png -> MRP_1834-06-02_page_41_B0C1R3.txt\n",
      "Processed: CLD_1852-04-24_page_6_B0C2R10.png -> CLD_1852-04-24_page_6_B0C2R10.txt\n",
      "Processed: NS2_1843-04-01_page_4_B0C3R26.png -> NS2_1843-04-01_page_4_B0C3R26.txt\n",
      "Processed: TEC_1880-01-17_page_44_B0C1R6.png -> TEC_1880-01-17_page_44_B0C1R6.txt\n",
      "Processed: CLD_1853-07-30_page_2_B0C2R9.png -> CLD_1853-07-30_page_2_B0C2R9.txt\n",
      "Processed: NSS_1852-10-02_page_14_B0C3R18.png -> NSS_1852-10-02_page_14_B0C3R18.txt\n",
      "Processed: CLD_1852-04-24_page_6_B0C2R13.png -> CLD_1852-04-24_page_6_B0C2R13.txt\n",
      "Processed: NS2_1843-04-01_page_4_B0C4R36.png -> NS2_1843-04-01_page_4_B0C4R36.txt\n",
      "Processed: CLD_1855-08-18_page_7_B0C1R2.png -> CLD_1855-08-18_page_7_B0C1R2.txt\n",
      "Processed: EWJ_1859-05-01_page_66_B0C1R3.png -> EWJ_1859-05-01_page_66_B0C1R3.txt\n",
      "Processed: TEC_1884-03-15_page_23_B0C1R1.png -> TEC_1884-03-15_page_23_B0C1R1.txt\n",
      "Processed: CLD_1853-07-30_page_2_B0C3R13.png -> CLD_1853-07-30_page_2_B0C3R13.txt\n",
      "Processed: TEC_1889-05-01_page_8_B0C2R13.png -> TEC_1889-05-01_page_8_B0C2R13.txt\n",
      "Processed: EWJ_1859-03-01_page_17_B0C1R3.png -> EWJ_1859-03-01_page_17_B0C1R3.txt\n",
      "Processed: TEC_1890-09-15_page_5_B0C1R7.png -> TEC_1890-09-15_page_5_B0C1R7.txt\n",
      "Processed: CLD_1852-04-24_page_6_B0C2R8.png -> CLD_1852-04-24_page_6_B0C2R8.txt\n",
      "Processed: EWJ_1860-05-01_page_49_B0C1R5.png -> EWJ_1860-05-01_page_49_B0C1R5.txt\n",
      "Processed: TEC_1883-12-06_page_312_B0C1R6.png -> TEC_1883-12-06_page_312_B0C1R6.txt\n",
      "Processed: CLD_1852-04-24_page_6_B0C3R19.png -> CLD_1852-04-24_page_6_B0C3R19.txt\n",
      "Processed: MRP_1815-11-02_page_54_B0C1R3.png -> MRP_1815-11-02_page_54_B0C1R3.txt\n",
      "Processed: MRP_1822-10-02_page_14_B0C1R1.png -> MRP_1822-10-02_page_14_B0C1R1.txt\n",
      "Processed: MRP_1817-07-02_page_60_B0C2R8.png -> MRP_1817-07-02_page_60_B0C2R8.txt\n",
      "Processed: TEC_1883-12-06_page_312_B0C1R3.png -> TEC_1883-12-06_page_312_B0C1R3.txt\n",
      "Processed: TTW_1867-12-21_page_12_B0C3R27.png -> TTW_1867-12-21_page_12_B0C3R27.txt\n",
      "Processed: CLD_1853-07-30_page_2_B0C1R1.png -> CLD_1853-07-30_page_2_B0C1R1.txt\n",
      "Processed: TEC_1880-01-17_page_44_B0C1R7.png -> TEC_1880-01-17_page_44_B0C1R7.txt\n",
      "Processed: TTW_1868-05-16_page_5_B0C1R6.png -> TTW_1868-05-16_page_5_B0C1R6.txt\n",
      "Processed: MRP_1817-07-02_page_60_B0C2R4.png -> MRP_1817-07-02_page_60_B0C2R4.txt\n",
      "Processed: CLD_1855-08-18_page_7_B0C2R18.png -> CLD_1855-08-18_page_7_B0C2R18.txt\n",
      "Processed: TEC_1890-09-15_page_5_B0C1R4.png -> TEC_1890-09-15_page_5_B0C1R4.txt\n",
      "Processed: NSS_1852-10-02_page_14_B0C1R1.png -> NSS_1852-10-02_page_14_B0C1R1.txt\n",
      "Processed: TEC_1889-05-01_page_8_B0C1R10.png -> TEC_1889-05-01_page_8_B0C1R10.txt\n",
      "Processed: TEC_1890-09-15_page_5_B0C2R15.png -> TEC_1890-09-15_page_5_B0C2R15.txt\n",
      "Processed: TTW_1867-12-21_page_12_B0C2R17.png -> TTW_1867-12-21_page_12_B0C2R17.txt\n",
      "Processed: TEC_1883-12-06_page_312_B0C1R1.png -> TEC_1883-12-06_page_312_B0C1R1.txt\n",
      "Processed: CLD_1852-04-24_page_6_B0C2R12.png -> CLD_1852-04-24_page_6_B0C2R12.txt\n",
      "Processed: NS2_1843-04-01_page_4_B0C3R31.png -> NS2_1843-04-01_page_4_B0C3R31.txt\n",
      "Processed: MRP_1809-09-02_page_12_B0C1R3.png -> MRP_1809-09-02_page_12_B0C1R3.txt\n",
      "Processed: NS2_1843-04-01_page_4_B0C5R38.png -> NS2_1843-04-01_page_4_B0C5R38.txt\n",
      "Processed: MRP_1817-07-02_page_60_B0C2R7.png -> MRP_1817-07-02_page_60_B0C2R7.txt\n",
      "Processed: MRP_1822-10-02_page_14_B0C2R6.png -> MRP_1822-10-02_page_14_B0C2R6.txt\n",
      "Processed: CLD_1855-08-18_page_7_B0C2R25.png -> CLD_1855-08-18_page_7_B0C2R25.txt\n",
      "Processed: MRP_1831-01-02_page_32_B0C1R4.png -> MRP_1831-01-02_page_32_B0C1R4.txt\n",
      "Processed: NS2_1843-04-01_page_4_B0C3R21.png -> NS2_1843-04-01_page_4_B0C3R21.txt\n",
      "Processed: TEC_1880-01-17_page_44_B0C1R1.png -> TEC_1880-01-17_page_44_B0C1R1.txt\n",
      "Processed: TEC_1886-03-01_page_59_B0C1R10.png -> TEC_1886-03-01_page_59_B0C1R10.txt\n",
      "Processed: NSS_1852-10-02_page_14_B0C2R14.png -> NSS_1852-10-02_page_14_B0C2R14.txt\n",
      "Processed: NS2_1843-04-01_page_4_B0C5R47.png -> NS2_1843-04-01_page_4_B0C5R47.txt\n",
      "Processed: TEC_1880-01-17_page_44_B0C1R3.png -> TEC_1880-01-17_page_44_B0C1R3.txt\n",
      "Processed: EWJ_1859-05-01_page_66_B0C1R4.png -> EWJ_1859-05-01_page_66_B0C1R4.txt\n",
      "Processed: CLD_1855-08-18_page_7_B0C2R16.png -> CLD_1855-08-18_page_7_B0C2R16.txt\n",
      "Processed: TEC_1880-01-17_page_44_B0C1R5.png -> TEC_1880-01-17_page_44_B0C1R5.txt\n",
      "Processed: MRP_1815-07-02_page_29_B0C1R5.png -> MRP_1815-07-02_page_29_B0C1R5.txt\n",
      "Processed: TTW_1867-09-14_page_1_B0C2R10.png -> TTW_1867-09-14_page_1_B0C2R10.txt\n",
      "Processed: CLD_1852-04-24_page_6_B0C3R27.png -> CLD_1852-04-24_page_6_B0C3R27.txt\n",
      "Processed: NS2_1843-04-01_page_4_B0C6R56.png -> NS2_1843-04-01_page_4_B0C6R56.txt\n",
      "Processed: MRP_1807-10-02_page_13_B0C1R4.png -> MRP_1807-10-02_page_13_B0C1R4.txt\n",
      "Processed: CLD_1852-04-24_page_6_B0C3R17.png -> CLD_1852-04-24_page_6_B0C3R17.txt\n",
      "Processed: NSS_1852-10-02_page_14_B0C1R10.png -> NSS_1852-10-02_page_14_B0C1R10.txt\n",
      "Processed: NS2_1843-04-01_page_4_B0C6R59.png -> NS2_1843-04-01_page_4_B0C6R59.txt\n",
      "Processed: NS2_1843-04-01_page_4_B0C3R27.png -> NS2_1843-04-01_page_4_B0C3R27.txt\n",
      "Processed: TTW_1868-05-16_page_5_B0C1R5.png -> TTW_1868-05-16_page_5_B0C1R5.txt\n",
      "Processed: CLD_1855-08-18_page_7_B0C3R32.png -> CLD_1855-08-18_page_7_B0C3R32.txt\n",
      "Processed: TTW_1867-12-21_page_12_B0C2R20.png -> TTW_1867-12-21_page_12_B0C2R20.txt\n",
      "Processed: TTW_1867-12-21_page_12_B0C2R22.png -> TTW_1867-12-21_page_12_B0C2R22.txt\n",
      "\n",
      "Processing complete!\n",
      "Successfully processed: 371 files\n",
      "Errors encountered: 7 files\n"
     ]
    }
   ],
   "source": [
    "process_images_to_text(model, 'ncse_cropped_images', 'NCSE_effocr', supported_extensions=('.jpg', '.jpeg', '.png'))"
   ]
  }
 ],
 "metadata": {
  "language_info": {
   "name": "python"
  }
 },
 "nbformat": 4,
 "nbformat_minor": 2
}
