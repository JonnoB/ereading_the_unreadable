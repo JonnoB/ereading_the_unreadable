{
 "cells": [
  {
   "cell_type": "markdown",
   "metadata": {},
   "source": [
    "# Tesserect testing \n",
    "\n",
    "This ipynb is to test Tesserect on the NCSE test set and the BLN600. \n",
    "\n",
    "This script is very simple and only needs to be called once"
   ]
  },
  {
   "cell_type": "code",
   "execution_count": 5,
   "metadata": {},
   "outputs": [],
   "source": [
    "import os\n",
    "from PIL import Image\n",
    "import pytesseract\n",
    "import sys\n",
    "from tqdm import tqdm\n",
    "\n",
    "def extract_text_from_images(input_folder, output_folder):\n",
    "    # Create output folder if it doesn't exist\n",
    "    if not os.path.exists(output_folder):\n",
    "        os.makedirs(output_folder)\n",
    "    \n",
    "    # Supported image extensions\n",
    "    valid_extensions = ('.png', '.jpg', '.jpeg')\n",
    "    \n",
    "    # Process each file in the input folder\n",
    "    for filename in tqdm(os.listdir(input_folder)):\n",
    "        if filename.lower().endswith(valid_extensions):\n",
    "            # Full path to the image file\n",
    "            image_path = os.path.join(input_folder, filename)\n",
    "            \n",
    "            try:\n",
    "                # Open and process the image\n",
    "                image = Image.open(image_path)\n",
    "                \n",
    "                # Extract text from the image\n",
    "                text = pytesseract.image_to_string(image)\n",
    "                \n",
    "                # Create output filename (same name but with .txt extension)\n",
    "                base_name = os.path.splitext(filename)[0]\n",
    "                output_file = os.path.join(output_folder, f\"{base_name}.txt\")\n",
    "                \n",
    "                # Save the extracted text to a file\n",
    "                with open(output_file, 'w', encoding='utf-8') as f:\n",
    "                    f.write(text)\n",
    "                \n",
    "            except Exception as e:\n",
    "                print(f\"Error processing {filename}: {str(e)}\")\n",
    "    \n",
    "    print(\"\\nText extraction completed!\")"
   ]
  },
  {
   "cell_type": "code",
   "execution_count": 6,
   "metadata": {},
   "outputs": [
    {
     "name": "stderr",
     "output_type": "stream",
     "text": [
      "100%|██████████| 378/378 [02:32<00:00,  2.48it/s]"
     ]
    },
    {
     "name": "stdout",
     "output_type": "stream",
     "text": [
      "\n",
      "Text extraction completed!\n"
     ]
    },
    {
     "name": "stderr",
     "output_type": "stream",
     "text": [
      "\n"
     ]
    }
   ],
   "source": [
    "extract_text_from_images(\"data/converted/ncse_cropped_images\", \"data/model_performance/NCSE_tesseract\")"
   ]
  },
  {
   "cell_type": "code",
   "execution_count": 7,
   "metadata": {},
   "outputs": [
    {
     "name": "stderr",
     "output_type": "stream",
     "text": [
      "100%|██████████| 600/600 [16:08<00:00,  1.61s/it]"
     ]
    },
    {
     "name": "stdout",
     "output_type": "stream",
     "text": [
      "\n",
      "Text extraction completed!\n"
     ]
    },
    {
     "name": "stderr",
     "output_type": "stream",
     "text": [
      "\n"
     ]
    }
   ],
   "source": [
    "extract_text_from_images(\"data/BLN600/Images_jpg\", \"data/model_performance/BLN_tesseract\")"
   ]
  }
 ],
 "metadata": {
  "kernelspec": {
   "display_name": ".venv",
   "language": "python",
   "name": "python3"
  },
  "language_info": {
   "codemirror_mode": {
    "name": "ipython",
    "version": 3
   },
   "file_extension": ".py",
   "mimetype": "text/x-python",
   "name": "python",
   "nbconvert_exporter": "python",
   "pygments_lexer": "ipython3",
   "version": "3.12.3"
  }
 },
 "nbformat": 4,
 "nbformat_minor": 2
}
