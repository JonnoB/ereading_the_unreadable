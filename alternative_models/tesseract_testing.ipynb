{
 "cells": [
  {
   "cell_type": "markdown",
   "metadata": {},
   "source": [
    "# Tesserect testing \n",
    "\n",
    "This ipynb is to test Tesserect on the NCSE test set and the BLN600. \n",
    "\n",
    "This script is very simple and only needs to be called once"
   ]
  },
  {
   "cell_type": "code",
   "execution_count": 1,
   "metadata": {},
   "outputs": [],
   "source": [
    "import os\n",
    "from PIL import Image\n",
    "import pytesseract\n",
    "import sys\n",
    "from tqdm import tqdm\n",
    "\n",
    "def extract_text_from_images(input_folder, output_folder):\n",
    "    # Create output folder if it doesn't exist\n",
    "    if not os.path.exists(output_folder):\n",
    "        os.makedirs(output_folder)\n",
    "    \n",
    "    # Supported image extensions\n",
    "    valid_extensions = ('.png', '.jpg', '.jpeg')\n",
    "    \n",
    "    # Process each file in the input folder\n",
    "    for filename in tqdm(os.listdir(input_folder)):\n",
    "        if filename.lower().endswith(valid_extensions):\n",
    "            # Full path to the image file\n",
    "            image_path = os.path.join(input_folder, filename)\n",
    "            \n",
    "            try:\n",
    "                # Open and process the image\n",
    "                image = Image.open(image_path)\n",
    "                \n",
    "                # Extract text from the image\n",
    "                text = pytesseract.image_to_string(image)\n",
    "                \n",
    "                # Create output filename (same name but with .txt extension)\n",
    "                base_name = os.path.splitext(filename)[0]\n",
    "                output_file = os.path.join(output_folder, f\"{base_name}.txt\")\n",
    "                \n",
    "                # Save the extracted text to a file\n",
    "                with open(output_file, 'w', encoding='utf-8') as f:\n",
    "                    f.write(text)\n",
    "                \n",
    "            except Exception as e:\n",
    "                print(f\"Error processing {filename}: {str(e)}\")\n",
    "    \n",
    "    print(\"\\nText extraction completed!\")"
   ]
  },
  {
   "cell_type": "code",
   "execution_count": 6,
   "metadata": {},
   "outputs": [
    {
     "name": "stderr",
     "output_type": "stream",
     "text": [
      "100%|██████████| 378/378 [02:32<00:00,  2.48it/s]"
     ]
    },
    {
     "name": "stdout",
     "output_type": "stream",
     "text": [
      "\n",
      "Text extraction completed!\n"
     ]
    },
    {
     "name": "stderr",
     "output_type": "stream",
     "text": [
      "\n"
     ]
    }
   ],
   "source": [
    "extract_text_from_images(\"data/converted/ncse_cropped_images\", \"data/model_performance/NCSE_tesseract\")"
   ]
  },
  {
   "cell_type": "code",
   "execution_count": 7,
   "metadata": {},
   "outputs": [
    {
     "name": "stderr",
     "output_type": "stream",
     "text": [
      "100%|██████████| 600/600 [16:08<00:00,  1.61s/it]"
     ]
    },
    {
     "name": "stdout",
     "output_type": "stream",
     "text": [
      "\n",
      "Text extraction completed!\n"
     ]
    },
    {
     "name": "stderr",
     "output_type": "stream",
     "text": [
      "\n"
     ]
    }
   ],
   "source": [
    "extract_text_from_images(\"data/BLN600/Images_jpg\", \"data/model_performance/BLN_tesseract\")"
   ]
  },
  {
   "cell_type": "code",
   "execution_count": 11,
   "metadata": {},
   "outputs": [
    {
     "data": {
      "text/plain": [
       "\"“« S1n,—T hope you will sjiow me pemell space inthe\\ntumas of the people's paper, it la the frst time I\\njever eaked you thé favow r, and the reason I do a0 new\\nla, because T believe that , the time has mow arrived for |\\n| ns, 24 Chartizte, to ma’ cq a further advance, in order\\n| to accomplish that wh! oh you and I, in common with\\n}the reat of our Cha ctist brethren, hava so amch at\\nheart—that is, equa’, justios to all, and happinéss’to at]\\n[the human family. {feel convinced that our long and\\njarduona agitation |aust hava proved to avery reflecting\\nindividual, as W Jt as to the world st lerge, that when\\nthe people are * properly united, thelr pewer is omntpo-\\ntent. Whois he:that has beheld, and bas not admired,\\nthe poble com fyst of our unwashed aud filtterate axti-\\neane sulying ¢ th from their workshops, and mounting\\nthe buetiog 4 for the purpose of discussing our glorious\\nprigeiples with the classic and refined aristocrats, and\\n| PPOVINE * unto thet, und to the world, thay our princi. |\\n| plas BIY , based upon justice, and therefore they ate’!\\n‘damut able? j\\n\\n\""
      ]
     },
     "execution_count": 11,
     "metadata": {},
     "output_type": "execute_result"
    }
   ],
   "source": [
    "example_image = Image.open('data/example_for_paper/NS2-1843-04-01_page_4_excerpt.png')\n",
    "text = pytesseract.image_to_string(example_image)\n",
    "\n",
    "with open(\"data/example_for_paper/example_results/tesseract.txt\", 'w', encoding='utf-8') as f:\n",
    "    f.write(text)\n",
    "\n",
    "text"
   ]
  }
 ],
 "metadata": {
  "kernelspec": {
   "display_name": ".venv",
   "language": "python",
   "name": "python3"
  },
  "language_info": {
   "codemirror_mode": {
    "name": "ipython",
    "version": 3
   },
   "file_extension": ".py",
   "mimetype": "text/x-python",
   "name": "python",
   "nbconvert_exporter": "python",
   "pygments_lexer": "ipython3",
   "version": "3.12.3"
  }
 },
 "nbformat": 4,
 "nbformat_minor": 2
}
