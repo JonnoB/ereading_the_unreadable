{
 "cells": [
  {
   "cell_type": "code",
   "execution_count": 4,
   "metadata": {},
   "outputs": [
    {
     "name": "stderr",
     "output_type": "stream",
     "text": [
      "Special tokens have been added in the vocabulary, make sure the associated word embeddings are fine-tuned or trained.\n"
     ]
    }
   ],
   "source": [
    "import pandas as pd\n",
    "import numpy as np\n",
    "import os\n",
    "import random\n",
    "import json\n",
    "import tiktoken\n",
    "from transformers import AutoTokenizer\n",
    "from huggingface_hub import login\n",
    "from evaluation_funcs import load_txt_files_to_df\n",
    "import seaborn as sns\n",
    "import matplotlib.pyplot as plt\n",
    "from evaluate import load\n",
    "import re\n",
    "from datasets import Dataset, DatasetDict\n",
    "\n",
    "from openai import OpenAI\n",
    "client = OpenAI()\n",
    "\n",
    "tokenizer = AutoTokenizer.from_pretrained('meta-llama/Meta-Llama-3-8B')\n"
   ]
  },
  {
   "cell_type": "code",
   "execution_count": 2,
   "metadata": {},
   "outputs": [
    {
     "data": {
      "application/vnd.jupyter.widget-view+json": {
       "model_id": "06b95a6e5f4f465c8352533c2dc0d3e8",
       "version_major": 2,
       "version_minor": 0
      },
      "text/plain": [
       "VBox(children=(HTML(value='<center> <img\\nsrc=https://huggingface.co/front/assets/huggingface_logo-noborder.sv…"
      ]
     },
     "metadata": {},
     "output_type": "display_data"
    }
   ],
   "source": [
    "login()"
   ]
  },
  {
   "cell_type": "code",
   "execution_count": 6,
   "metadata": {},
   "outputs": [],
   "source": [
    "def save_openai_batch_result(batch_file, jsonl_file):\n",
    "\n",
    "    \"\"\" \n",
    "    Small function to help keep the openai batch process clean. downloads the batch file and saves it as a jsonl file\n",
    "    \"\"\"\n",
    "\n",
    "    result = client.files.content(batch_file).content\n",
    "\n",
    "    with open(jsonl_file, 'wb') as file:\n",
    "        file.write(result)\n",
    "\n",
    "\n",
    "def convert_opanai_jsonl_to_df(jsonl_file):\n",
    "\n",
    "    \"\"\" \n",
    "    Loads a jsonl file returned from the openai batch process. Returns a dataframe containing only the most useful information\n",
    "    \"\"\"\n",
    "\n",
    "    results = []\n",
    "    with open(jsonl_file, 'r') as file:\n",
    "        for line in file:\n",
    "            # Parsing the JSON string into a dict and appending to the list of results\n",
    "            json_object = json.loads(line.strip())\n",
    "            necessary_data = {\n",
    "                'id': json_object['custom_id'],\n",
    "                'post_lm_text': json_object['response']['body']['choices'][0]['message']['content']\n",
    "            }\n",
    "            necessary_data.update(json_object['response']['body']['usage'])\n",
    "            results.append(necessary_data)\n",
    "    return pd.DataFrame(results)\n",
    "\n",
    "def pre_evaluation_processing(df, ground_truth_df, post_lm_text, gt_text ):\n",
    "    df['id'] = df['id'].str.replace('filename_', '')\n",
    "\n",
    "    df = df.merge(ground_truth_df.set_index('file_name'), left_on = 'id', right_index = True)\n",
    "    #df['post_lm_text2'] = df['post_lm_text'].apply(extract_first_match)\n",
    "    df[post_lm_text] = df[post_lm_text].str.replace(\"\\n*\", \" \").str.lower()\n",
    "    df[gt_text] = df[gt_text].str.replace(\"\\n*\", \" \").str.lower()\n",
    "    df.reset_index(inplace=True)\n",
    "\n",
    "    return df\n",
    "\n",
    "def evaluate_model(df, metric_obj, gt_text, post_lm_text, metric_name = 'cer'):\n",
    "\n",
    "    \"\"\" \n",
    "    Uses a huggingface metric to evaluate the results\n",
    "    \"\"\"\n",
    "    \n",
    "    # Calculate CER for each pair\n",
    "    results = []\n",
    "    for index, row in df.iterrows():\n",
    "        ground_truth_text = row[gt_text]\n",
    "        response_text = row[post_lm_text]\n",
    "        result = metric_obj.compute(predictions=[response_text], references=[ground_truth_text])\n",
    "        results.append(result)\n",
    "\n",
    "    df[metric_name] = results\n",
    "\n",
    "    return df\n"
   ]
  },
  {
   "cell_type": "markdown",
   "metadata": {},
   "source": [
    "# Create the silverset\n",
    "\n",
    "- set seed\n",
    "- for each file\n",
    "    - load file\n",
    "    - remove all entries greater than smaller than 100 tokens, above acceptable noise\n",
    "\n",
    "- concatenate to single data frame\n",
    "\n",
    "\n"
   ]
  },
  {
   "cell_type": "code",
   "execution_count": 133,
   "metadata": {},
   "outputs": [],
   "source": [
    "#temp_df = pd.read_parquet('./data/ncse_text_chunks2/'+'ncse_base_1.parquet')"
   ]
  },
  {
   "cell_type": "code",
   "execution_count": 134,
   "metadata": {},
   "outputs": [],
   "source": [
    "target_dir = './data/transcripts/transcription_files'\n",
    "\n",
    "files_in_directory =  set(os.listdir(target_dir))\n",
    "\n",
    "all_data_df = []\n",
    "\n",
    "for file in os.listdir('./data/ncse_text_chunks'):\n",
    "\n",
    "     temp_df = pd.read_parquet('./data/ncse_text_chunks/'+file)\n",
    "     temp_df['entire_article'] = temp_df[['continuation_from_id','continuation_to_id']].isna().sum(axis = 1)==2\n",
    "     temp_df =  temp_df.loc[temp_df['total_tokens']>100,['id', 'total_tokens', 'symbol_fract', 'entire_article','publication_id', 'file_name', 'content_html']]\n",
    "     all_data_df.append(temp_df)\n",
    "\n",
    "all_data_df = pd.concat(all_data_df)\n"
   ]
  },
  {
   "cell_type": "code",
   "execution_count": 135,
   "metadata": {},
   "outputs": [],
   "source": [
    "#proper tokenization is important as llama3 has 3x the vocabulary so will produce fewer tokens for a given text than llama2"
   ]
  },
  {
   "cell_type": "code",
   "execution_count": 10,
   "metadata": {},
   "outputs": [
    {
     "name": "stderr",
     "output_type": "stream",
     "text": [
      "Special tokens have been added in the vocabulary, make sure the associated word embeddings are fine-tuned or trained.\n"
     ]
    }
   ],
   "source": [
    "tokenizer = AutoTokenizer.from_pretrained('meta-llama/Meta-Llama-3-8B')"
   ]
  },
  {
   "cell_type": "code",
   "execution_count": 137,
   "metadata": {},
   "outputs": [],
   "source": [
    "def extract_first_x_tokens(text, tokenizer, max_tokens = 1000):\n",
    "    \"\"\"\n",
    "    Extract the first 1000 tokens from a string using the hugginface tokenizer. It ensures that\n",
    "    the number of tokens in each string does not exceed the limit for a specific model or\n",
    "    finetuning budget\n",
    "\n",
    "    Parameters:\n",
    "    text (str): The input string.\n",
    "    tokenizer: The tokenizer object for the model of interest\n",
    "    max_tokens: The maximum number of tokens\n",
    "\n",
    "    Returns:\n",
    "    str: The string containing the first 1000 tokens.\n",
    "    \"\"\"\n",
    "\n",
    "    # Tokenize the input text\n",
    "    tokens = tokenizer.encode(text)\n",
    "\n",
    "    # Extract the first x tokens\n",
    "    first_x_tokens = tokens[:max_tokens]\n",
    "\n",
    "    # Decode the tokens back to string\n",
    "    truncated_text = tokenizer.decode(first_x_tokens)\n",
    "    #re-calc total tokens in text\n",
    "    total_tokens = len(first_x_tokens)\n",
    "\n",
    "    return truncated_text, total_tokens\n",
    "\n",
    "random.seed(12335)\n",
    "#remove the transcribed data then sample. This is to keep the test set pure\n",
    "sampled_data = all_data_df.loc[~all_data_df['file_name'].isin(os.listdir('./data/transcripts/transcription_files')),:].sample(11000) #11000\n",
    "#reduce to a maximum token size of 1000\n",
    "sampled_data[['content_html', 'total_tokens_llama']] = sampled_data['content_html'].apply(lambda x: pd.Series(extract_first_x_tokens(x, tokenizer)))\n",
    "omni_tokenizer = tiktoken.get_encoding(\"o200k_base\")\n",
    "sampled_data[['content_html_drop', 'total_tokens_omni']] = sampled_data['content_html'].apply(lambda x: pd.Series(extract_first_x_tokens(x, omni_tokenizer, max_tokens=10000)))\n",
    "sampled_data = sampled_data.drop('content_html_drop', axis = 1)\n",
    "sampled_data.to_parquet('./data/silver_data.parquet')"
   ]
  },
  {
   "cell_type": "code",
   "execution_count": null,
   "metadata": {},
   "outputs": [],
   "source": []
  },
  {
   "cell_type": "code",
   "execution_count": 138,
   "metadata": {},
   "outputs": [],
   "source": [
    "sampled_data = pd.read_parquet('./data/silver_data.parquet')\n"
   ]
  },
  {
   "cell_type": "code",
   "execution_count": 139,
   "metadata": {},
   "outputs": [
    {
     "data": {
      "text/html": [
       "<div>\n",
       "<style scoped>\n",
       "    .dataframe tbody tr th:only-of-type {\n",
       "        vertical-align: middle;\n",
       "    }\n",
       "\n",
       "    .dataframe tbody tr th {\n",
       "        vertical-align: top;\n",
       "    }\n",
       "\n",
       "    .dataframe thead th {\n",
       "        text-align: right;\n",
       "    }\n",
       "</style>\n",
       "<table border=\"1\" class=\"dataframe\">\n",
       "  <thead>\n",
       "    <tr style=\"text-align: right;\">\n",
       "      <th></th>\n",
       "      <th>id</th>\n",
       "      <th>total_tokens</th>\n",
       "      <th>symbol_fract</th>\n",
       "      <th>publication_id</th>\n",
       "    </tr>\n",
       "  </thead>\n",
       "  <tbody>\n",
       "    <tr>\n",
       "      <th>count</th>\n",
       "      <td>6.095500e+04</td>\n",
       "      <td>60955.000000</td>\n",
       "      <td>60955.000000</td>\n",
       "      <td>60955.000000</td>\n",
       "    </tr>\n",
       "    <tr>\n",
       "      <th>mean</th>\n",
       "      <td>7.958790e+05</td>\n",
       "      <td>1050.931179</td>\n",
       "      <td>0.296191</td>\n",
       "      <td>25.496711</td>\n",
       "    </tr>\n",
       "    <tr>\n",
       "      <th>std</th>\n",
       "      <td>1.082284e+05</td>\n",
       "      <td>1034.516097</td>\n",
       "      <td>0.195823</td>\n",
       "      <td>2.282060</td>\n",
       "    </tr>\n",
       "    <tr>\n",
       "      <th>min</th>\n",
       "      <td>4.077390e+05</td>\n",
       "      <td>101.000000</td>\n",
       "      <td>0.040201</td>\n",
       "      <td>19.000000</td>\n",
       "    </tr>\n",
       "    <tr>\n",
       "      <th>25%</th>\n",
       "      <td>7.398090e+05</td>\n",
       "      <td>267.000000</td>\n",
       "      <td>0.166518</td>\n",
       "      <td>26.000000</td>\n",
       "    </tr>\n",
       "    <tr>\n",
       "      <th>50%</th>\n",
       "      <td>7.748910e+05</td>\n",
       "      <td>670.000000</td>\n",
       "      <td>0.240628</td>\n",
       "      <td>26.000000</td>\n",
       "    </tr>\n",
       "    <tr>\n",
       "      <th>75%</th>\n",
       "      <td>8.280760e+05</td>\n",
       "      <td>1508.000000</td>\n",
       "      <td>0.346423</td>\n",
       "      <td>27.000000</td>\n",
       "    </tr>\n",
       "    <tr>\n",
       "      <th>max</th>\n",
       "      <td>1.068904e+06</td>\n",
       "      <td>10297.000000</td>\n",
       "      <td>2.920792</td>\n",
       "      <td>27.000000</td>\n",
       "    </tr>\n",
       "  </tbody>\n",
       "</table>\n",
       "</div>"
      ],
      "text/plain": [
       "                 id  total_tokens  symbol_fract  publication_id\n",
       "count  6.095500e+04  60955.000000  60955.000000    60955.000000\n",
       "mean   7.958790e+05   1050.931179      0.296191       25.496711\n",
       "std    1.082284e+05   1034.516097      0.195823        2.282060\n",
       "min    4.077390e+05    101.000000      0.040201       19.000000\n",
       "25%    7.398090e+05    267.000000      0.166518       26.000000\n",
       "50%    7.748910e+05    670.000000      0.240628       26.000000\n",
       "75%    8.280760e+05   1508.000000      0.346423       27.000000\n",
       "max    1.068904e+06  10297.000000      2.920792       27.000000"
      ]
     },
     "execution_count": 139,
     "metadata": {},
     "output_type": "execute_result"
    }
   ],
   "source": [
    "temp_df.describe()"
   ]
  },
  {
   "cell_type": "code",
   "execution_count": 140,
   "metadata": {},
   "outputs": [
    {
     "data": {
      "text/plain": [
       "<Axes: xlabel='total_tokens_llama', ylabel='Count'>"
      ]
     },
     "execution_count": 140,
     "metadata": {},
     "output_type": "execute_result"
    },
    {
     "data": {
      "image/png": "[encoded data removed]",
      "text/plain": [
       "<Figure size 640x480 with 1 Axes>"
      ]
     },
     "metadata": {},
     "output_type": "display_data"
    }
   ],
   "source": [
    "temp_df = sampled_data\n",
    "temp_df['ratio'] = sampled_data['total_tokens_llama']/sampled_data['total_tokens_omni']\n",
    "sns.histplot(data = sampled_data, x = 'total_tokens_llama')"
   ]
  },
  {
   "cell_type": "code",
   "execution_count": 141,
   "metadata": {},
   "outputs": [
    {
     "data": {
      "text/plain": [
       "count    11000.000000\n",
       "mean       599.866455\n",
       "std        340.155148\n",
       "min         89.000000\n",
       "25%        264.000000\n",
       "50%        570.000000\n",
       "75%       1000.000000\n",
       "max       1000.000000\n",
       "Name: total_tokens_llama, dtype: float64"
      ]
     },
     "execution_count": 141,
     "metadata": {},
     "output_type": "execute_result"
    }
   ],
   "source": [
    "sampled_data['total_tokens_llama'].describe()"
   ]
  },
  {
   "cell_type": "code",
   "execution_count": 142,
   "metadata": {},
   "outputs": [
    {
     "ename": "KeyError",
     "evalue": "'article_text'",
     "output_type": "error",
     "traceback": [
      "\u001b[0;31m---------------------------------------------------------------------------\u001b[0m",
      "\u001b[0;31mKeyError\u001b[0m                                  Traceback (most recent call last)",
      "File \u001b[0;32m~/ereading_the_unreadable/.venv/lib/python3.12/site-packages/pandas/core/indexes/base.py:3805\u001b[0m, in \u001b[0;36mIndex.get_loc\u001b[0;34m(self, key)\u001b[0m\n\u001b[1;32m   3804\u001b[0m \u001b[38;5;28;01mtry\u001b[39;00m:\n\u001b[0;32m-> 3805\u001b[0m     \u001b[38;5;28;01mreturn\u001b[39;00m \u001b[38;5;28;43mself\u001b[39;49m\u001b[38;5;241;43m.\u001b[39;49m\u001b[43m_engine\u001b[49m\u001b[38;5;241;43m.\u001b[39;49m\u001b[43mget_loc\u001b[49m\u001b[43m(\u001b[49m\u001b[43mcasted_key\u001b[49m\u001b[43m)\u001b[49m\n\u001b[1;32m   3806\u001b[0m \u001b[38;5;28;01mexcept\u001b[39;00m \u001b[38;5;167;01mKeyError\u001b[39;00m \u001b[38;5;28;01mas\u001b[39;00m err:\n",
      "File \u001b[0;32mindex.pyx:167\u001b[0m, in \u001b[0;36mpandas._libs.index.IndexEngine.get_loc\u001b[0;34m()\u001b[0m\n",
      "File \u001b[0;32mindex.pyx:196\u001b[0m, in \u001b[0;36mpandas._libs.index.IndexEngine.get_loc\u001b[0;34m()\u001b[0m\n",
      "File \u001b[0;32mpandas/_libs/hashtable_class_helper.pxi:7081\u001b[0m, in \u001b[0;36mpandas._libs.hashtable.PyObjectHashTable.get_item\u001b[0;34m()\u001b[0m\n",
      "File \u001b[0;32mpandas/_libs/hashtable_class_helper.pxi:7089\u001b[0m, in \u001b[0;36mpandas._libs.hashtable.PyObjectHashTable.get_item\u001b[0;34m()\u001b[0m\n",
      "\u001b[0;31mKeyError\u001b[0m: 'article_text'",
      "\nThe above exception was the direct cause of the following exception:\n",
      "\u001b[0;31mKeyError\u001b[0m                                  Traceback (most recent call last)",
      "Cell \u001b[0;32mIn[142], line 2\u001b[0m\n\u001b[1;32m      1\u001b[0m \u001b[38;5;28;01mfor\u001b[39;00m index, row \u001b[38;5;129;01min\u001b[39;00m sampled_data\u001b[38;5;241m.\u001b[39miterrows():\n\u001b[0;32m----> 2\u001b[0m     text \u001b[38;5;241m=\u001b[39m \u001b[43mrow\u001b[49m\u001b[43m[\u001b[49m\u001b[38;5;124;43m'\u001b[39;49m\u001b[38;5;124;43marticle_text\u001b[39;49m\u001b[38;5;124;43m'\u001b[39;49m\u001b[43m]\u001b[49m\n\u001b[1;32m      3\u001b[0m     filename \u001b[38;5;241m=\u001b[39m row[\u001b[38;5;124m'\u001b[39m\u001b[38;5;124mfile_name\u001b[39m\u001b[38;5;124m'\u001b[39m]\n\u001b[1;32m      4\u001b[0m     file_path \u001b[38;5;241m=\u001b[39m os\u001b[38;5;241m.\u001b[39mpath\u001b[38;5;241m.\u001b[39mjoin(\u001b[38;5;124m'\u001b[39m\u001b[38;5;124m./data/silver_ocr\u001b[39m\u001b[38;5;124m'\u001b[39m, filename)\n",
      "File \u001b[0;32m~/ereading_the_unreadable/.venv/lib/python3.12/site-packages/pandas/core/series.py:1121\u001b[0m, in \u001b[0;36mSeries.__getitem__\u001b[0;34m(self, key)\u001b[0m\n\u001b[1;32m   1118\u001b[0m     \u001b[38;5;28;01mreturn\u001b[39;00m \u001b[38;5;28mself\u001b[39m\u001b[38;5;241m.\u001b[39m_values[key]\n\u001b[1;32m   1120\u001b[0m \u001b[38;5;28;01melif\u001b[39;00m key_is_scalar:\n\u001b[0;32m-> 1121\u001b[0m     \u001b[38;5;28;01mreturn\u001b[39;00m \u001b[38;5;28;43mself\u001b[39;49m\u001b[38;5;241;43m.\u001b[39;49m\u001b[43m_get_value\u001b[49m\u001b[43m(\u001b[49m\u001b[43mkey\u001b[49m\u001b[43m)\u001b[49m\n\u001b[1;32m   1123\u001b[0m \u001b[38;5;66;03m# Convert generator to list before going through hashable part\u001b[39;00m\n\u001b[1;32m   1124\u001b[0m \u001b[38;5;66;03m# (We will iterate through the generator there to check for slices)\u001b[39;00m\n\u001b[1;32m   1125\u001b[0m \u001b[38;5;28;01mif\u001b[39;00m is_iterator(key):\n",
      "File \u001b[0;32m~/ereading_the_unreadable/.venv/lib/python3.12/site-packages/pandas/core/series.py:1237\u001b[0m, in \u001b[0;36mSeries._get_value\u001b[0;34m(self, label, takeable)\u001b[0m\n\u001b[1;32m   1234\u001b[0m     \u001b[38;5;28;01mreturn\u001b[39;00m \u001b[38;5;28mself\u001b[39m\u001b[38;5;241m.\u001b[39m_values[label]\n\u001b[1;32m   1236\u001b[0m \u001b[38;5;66;03m# Similar to Index.get_value, but we do not fall back to positional\u001b[39;00m\n\u001b[0;32m-> 1237\u001b[0m loc \u001b[38;5;241m=\u001b[39m \u001b[38;5;28;43mself\u001b[39;49m\u001b[38;5;241;43m.\u001b[39;49m\u001b[43mindex\u001b[49m\u001b[38;5;241;43m.\u001b[39;49m\u001b[43mget_loc\u001b[49m\u001b[43m(\u001b[49m\u001b[43mlabel\u001b[49m\u001b[43m)\u001b[49m\n\u001b[1;32m   1239\u001b[0m \u001b[38;5;28;01mif\u001b[39;00m is_integer(loc):\n\u001b[1;32m   1240\u001b[0m     \u001b[38;5;28;01mreturn\u001b[39;00m \u001b[38;5;28mself\u001b[39m\u001b[38;5;241m.\u001b[39m_values[loc]\n",
      "File \u001b[0;32m~/ereading_the_unreadable/.venv/lib/python3.12/site-packages/pandas/core/indexes/base.py:3812\u001b[0m, in \u001b[0;36mIndex.get_loc\u001b[0;34m(self, key)\u001b[0m\n\u001b[1;32m   3807\u001b[0m     \u001b[38;5;28;01mif\u001b[39;00m \u001b[38;5;28misinstance\u001b[39m(casted_key, \u001b[38;5;28mslice\u001b[39m) \u001b[38;5;129;01mor\u001b[39;00m (\n\u001b[1;32m   3808\u001b[0m         \u001b[38;5;28misinstance\u001b[39m(casted_key, abc\u001b[38;5;241m.\u001b[39mIterable)\n\u001b[1;32m   3809\u001b[0m         \u001b[38;5;129;01mand\u001b[39;00m \u001b[38;5;28many\u001b[39m(\u001b[38;5;28misinstance\u001b[39m(x, \u001b[38;5;28mslice\u001b[39m) \u001b[38;5;28;01mfor\u001b[39;00m x \u001b[38;5;129;01min\u001b[39;00m casted_key)\n\u001b[1;32m   3810\u001b[0m     ):\n\u001b[1;32m   3811\u001b[0m         \u001b[38;5;28;01mraise\u001b[39;00m InvalidIndexError(key)\n\u001b[0;32m-> 3812\u001b[0m     \u001b[38;5;28;01mraise\u001b[39;00m \u001b[38;5;167;01mKeyError\u001b[39;00m(key) \u001b[38;5;28;01mfrom\u001b[39;00m \u001b[38;5;21;01merr\u001b[39;00m\n\u001b[1;32m   3813\u001b[0m \u001b[38;5;28;01mexcept\u001b[39;00m \u001b[38;5;167;01mTypeError\u001b[39;00m:\n\u001b[1;32m   3814\u001b[0m     \u001b[38;5;66;03m# If we have a listlike key, _check_indexing_error will raise\u001b[39;00m\n\u001b[1;32m   3815\u001b[0m     \u001b[38;5;66;03m#  InvalidIndexError. Otherwise we fall through and re-raise\u001b[39;00m\n\u001b[1;32m   3816\u001b[0m     \u001b[38;5;66;03m#  the TypeError.\u001b[39;00m\n\u001b[1;32m   3817\u001b[0m     \u001b[38;5;28mself\u001b[39m\u001b[38;5;241m.\u001b[39m_check_indexing_error(key)\n",
      "\u001b[0;31mKeyError\u001b[0m: 'article_text'"
     ]
    }
   ],
   "source": [
    "for index, row in sampled_data.iterrows():\n",
    "    text = row['article_text']\n",
    "    filename = row['file_name']\n",
    "    file_path = os.path.join('./data/silver_ocr', filename)\n",
    "\n",
    "    # Write the text to the file\n",
    "    with open(file_path, 'w') as file:\n",
    "        file.write(text)\n"
   ]
  },
  {
   "cell_type": "code",
   "execution_count": 19,
   "metadata": {},
   "outputs": [],
   "source": [
    "def create_jsonl_file(df, model, system_content, max_tokens, output_file, include_response = False):\n",
    "    \"\"\"\n",
    "    Create a JSONL file for batch jobs or fine tuning in OpenAI format.\n",
    "\n",
    "    Parameters:\n",
    "    df (pd.DataFrame): DataFrame containing the data.\n",
    "    model (str): The model to be used in the 'body' of the JSON.\n",
    "    system_content (str): The content for the system message.\n",
    "    max_tokens (int): The max tokens value.\n",
    "    output_file (str): The path to the output JSONL file.\n",
    "    include_response (bool): Whether to include the model response in the messages list.\n",
    "    \"\"\"\n",
    "    with open(output_file, 'w') as file:\n",
    "        for _, row in df.iterrows():\n",
    "            messages = [\n",
    "                {\"role\": \"system\", \"content\": system_content}\n",
    "            ]\n",
    "            if include_response:\n",
    "                messages.append({\"role\": \"user\", \"content\": row['raw_text']})\n",
    "                messages.append({\"role\": \"assistant\", \"content\": row[\"article_text\"]})\n",
    "            else:\n",
    "                messages.append({\"role\": \"user\", \"content\": row['article_text']})\n",
    "\n",
    "            entry = {\n",
    "                \"custom_id\": f\"filename_{row['file_name']}\",\n",
    "                \"method\": \"POST\",\n",
    "                \"url\": \"/v1/chat/completions\",\n",
    "                \"body\": {\n",
    "                    \"model\": model,\n",
    "                    \"messages\": messages,\n",
    "                    \"max_tokens\": max_tokens\n",
    "                }\n",
    "            }\n",
    "            # Write each JSON object as a separate line in the JSONL file\n",
    "            file.write(json.dumps(entry) + '\\n')\n",
    "\n",
    "\n",
    "\n",
    "# Specify the arguments\n",
    "model = 'gpt-4o'\n",
    "system_content = \"You are an expert in recovery of corrupted OCR, the below text is from an English newspaper in the 1800's, please return in plain text, with appropriate spacing and line breaks\"\n",
    "max_tokens = 2200\n",
    "output_file = './data/output.jsonl'\n",
    "\n",
    "# Call the function with the DataFrame and arguments\n",
    "#create_jsonl_file(sampled_data.reset_index().loc[0:20,:], model, system_content, max_tokens, output_file)\n"
   ]
  },
  {
   "cell_type": "markdown",
   "metadata": {},
   "source": [
    "First example taken from the hansard \"Disfranchisement Of Sudbury\"\n",
    "\n",
    "https://hansard.parliament.uk/commons/1842-07-06/debates/bd9ca32b-d1b2-4337-bc00-32deed2899e7/DisfranchisementOfSudbury"
   ]
  },
  {
   "cell_type": "code",
   "execution_count": 22,
   "metadata": {},
   "outputs": [
    {
     "ename": "NameError",
     "evalue": "name 'sampled_data' is not defined",
     "output_type": "error",
     "traceback": [
      "\u001b[0;31m---------------------------------------------------------------------------\u001b[0m",
      "\u001b[0;31mNameError\u001b[0m                                 Traceback (most recent call last)",
      "Cell \u001b[0;32mIn[22], line 48\u001b[0m\n\u001b[1;32m     27\u001b[0m silver_instructions_longprompt \u001b[38;5;241m=\u001b[39m \u001b[38;5;124m\"\"\"\u001b[39m\u001b[38;5;124mYou are an expert in post-OCR correction of documents. Your task is to carefully examine the following text and correct any mistakes introduced by the OCR software. Pay close attention to common OCR errors such as misrecognized characters, incorrect spacing, and punctuation issues.\u001b[39m\n\u001b[1;32m     28\u001b[0m \n\u001b[1;32m     29\u001b[0m \n\u001b[0;32m   (...)\u001b[0m\n\u001b[1;32m     43\u001b[0m \n\u001b[1;32m     44\u001b[0m \u001b[38;5;124mBegin your corrected text immediately after this instruction, without any introductory phrases or explanations.\u001b[39m\u001b[38;5;124m\"\"\"\u001b[39m\n\u001b[1;32m     46\u001b[0m \u001b[38;5;66;03m#create_jsonl_file(sampled_data.reset_index().loc[0:20,:], model, silver_instructions_base, max_tokens, './data/silver_instructions_base.jsonl')\u001b[39;00m\n\u001b[1;32m     47\u001b[0m \u001b[38;5;66;03m#create_jsonl_file(sampled_data.reset_index().loc[0:20,:], model, silver_instructions_between, max_tokens, './data/silver_instructions_between.jsonl') using this doesn't work as the model does not reliably return the symbols correctly.\u001b[39;00m\n\u001b[0;32m---> 48\u001b[0m create_jsonl_file(\u001b[43msampled_data\u001b[49m\u001b[38;5;241m.\u001b[39mreset_index()\u001b[38;5;241m.\u001b[39mloc[\u001b[38;5;241m0\u001b[39m:\u001b[38;5;241m20\u001b[39m,:], model, silver_instructions_historical, max_tokens, \u001b[38;5;124m'\u001b[39m\u001b[38;5;124m./data/test_prompt_ready_to_batch/silver_instructions_historical.jsonl\u001b[39m\u001b[38;5;124m'\u001b[39m)\n\u001b[1;32m     49\u001b[0m create_jsonl_file(sampled_data\u001b[38;5;241m.\u001b[39mreset_index()\u001b[38;5;241m.\u001b[39mloc[\u001b[38;5;241m0\u001b[39m:\u001b[38;5;241m20\u001b[39m,:], model, silver_instructions_ICL, max_tokens, \u001b[38;5;124m'\u001b[39m\u001b[38;5;124m./data/test_prompt_ready_to_batch/silver_instructions_ICL.jsonl\u001b[39m\u001b[38;5;124m'\u001b[39m)\n",
      "\u001b[0;31mNameError\u001b[0m: name 'sampled_data' is not defined"
     ]
    }
   ],
   "source": [
    "#silver_instructions_base = \"You are an expert in post-OCR correction of documents. Your task is to carefully examine the following text and correct any mistakes introduced by the OCR software. Do not write anything else than the corrected text.\"\n",
    "#silver_instructions_between = \"You are an expert in post-OCR correction of documents. Your task is to carefully examine the following text and correct any mistakes introduced by the OCR software. Do not write anything else than the corrected text. place the corrected text between the symbols '</corrected>'\"\n",
    "silver_instructions_historical = \"You are an expert in post-OCR correction of historical newspapers. Your task is to carefully examine the following text and correct any mistakes introduced by the OCR software. Do not write anything else than the corrected text.\"\n",
    "silver_instructions_ICL = \"\"\"You are an expert in post-OCR correction of documents. Your task is to carefully examine the following text and correct any mistakes introduced by the OCR software.Do not write anything else than the corrected text. \n",
    "As an example consider the following texts\n",
    "\n",
    "{\n",
    "  \"corrupted\": \"The populatlon of that hundrea amounteo to 24,069, ancl he bel1eved that if they ex tenclsd the borou#h, as he des1red, they woulcl secur@ an additlon to the prsent constituen€y of at least 1,000 votors.\"\n",
    "  \"recovered\": \"The population of that hundred amounted to 24,069, and he believed that if they extended the borough, as he desired, they would secure an addition to the present constituency of at least 1,000 voters.\",\n",
    "}\n",
    "\n",
    "{\n",
    "  \"corrupted\": \"Th3 park 1s a b3autiful pl@ce w1th lush gree.n l@wns, tall tre.es, an& a serene laKe wh3re v1sitors can .*-enjoy a peac3ful walk or a relax1ng boat ride...\"\n",
    "  \"recovered\": \"The park is a beautiful place with lush green lawns, tall trees, and a serene lake where visitors can enjoy a peaceful walk or a relaxing boat ride.\",\n",
    "}\n",
    "\n",
    "{\n",
    "  \"corrupted\": \"The res#aurant ser\\\\es a variet¥ of dis#es, includin fresh seafo9d, sa&ory s+eaks, and delici0us vegetarain opti0ns, al prep*red wth the finset ingrdients.\"\n",
    "  \"recovered\": \"The restaurant serves a variety of dishes, including fresh seafood, savory steaks, and delicious vegetarian options, all prepared with the finest ingredients.\",\n",
    "}\n",
    "\n",
    "You need only return the recovered text\n",
    "\n",
    "\"\"\"\n",
    "\n",
    "\n",
    "silver_instructions_longprompt = \"\"\"You are an expert in post-OCR correction of documents. Your task is to carefully examine the following text and correct any mistakes introduced by the OCR software. Pay close attention to common OCR errors such as misrecognized characters, incorrect spacing, and punctuation issues.\n",
    "\n",
    "\n",
    "To complete this task, follow these steps:\n",
    "\n",
    "1. Read through the entire text to understand the context and identify potential errors.\n",
    "2. Correct any misrecognized characters, such as:\n",
    "   - Numbers mistaken for letters (e.g., '0' for 'O', '1' for 'I', '5' for 'S')\n",
    "   - Similar-looking letters (e.g., 'rn' for 'm', 'cl' for 'd')\n",
    "   - Special characters mistaken for letters or punctuation\n",
    "3. Fix any spacing issues, ensuring proper word separation and sentence structure.\n",
    "4. Correct punctuation errors, including misplaced or missing periods, commas, and quotation marks.\n",
    "5. Ensure proper capitalization, especially at the beginning of sentences and for proper nouns.\n",
    "6. Maintain the original formatting and structure of the text as much as possible.\n",
    "\n",
    "Provide your corrected version of the text without any additional explanations or comments. Your output should contain only the corrected text, preserving the original paragraph structure and line breaks.\n",
    "\n",
    "Begin your corrected text immediately after this instruction, without any introductory phrases or explanations.\"\"\"\n",
    "\n",
    "#create_jsonl_file(sampled_data.reset_index().loc[0:20,:], model, silver_instructions_base, max_tokens, './data/silver_instructions_base.jsonl')\n",
    "#create_jsonl_file(sampled_data.reset_index().loc[0:20,:], model, silver_instructions_between, max_tokens, './data/silver_instructions_between.jsonl') using this doesn't work as the model does not reliably return the symbols correctly.\n",
    "create_jsonl_file(sampled_data.reset_index().loc[0:20,:], model, silver_instructions_historical, max_tokens, './data/test_prompt_ready_to_batch/silver_instructions_historical.jsonl')\n",
    "create_jsonl_file(sampled_data.reset_index().loc[0:20,:], model, silver_instructions_ICL, max_tokens, './data/test_prompt_ready_to_batch/silver_instructions_ICL.jsonl')"
   ]
  },
  {
   "cell_type": "code",
   "execution_count": null,
   "metadata": {},
   "outputs": [],
   "source": [
    "\n",
    "\n",
    "batch_input_file = client.files.create(\n",
    "  file=open('./data/silver_instructions_base.jsonl', \"rb\"),\n",
    "  purpose=\"batch\"\n",
    ")"
   ]
  },
  {
   "cell_type": "code",
   "execution_count": null,
   "metadata": {},
   "outputs": [
    {
     "data": {
      "text/plain": [
       "Batch(id='batch_FnoK5q5bQOAKs9GfPOdRdlpi', completion_window='24h', created_at=1720984280, endpoint='/v1/chat/completions', input_file_id='file-bNxRuQZxubqvLpqiAgPpMffe', object='batch', status='validating', cancelled_at=None, cancelling_at=None, completed_at=None, error_file_id=None, errors=None, expired_at=None, expires_at=1721070680, failed_at=None, finalizing_at=None, in_progress_at=None, metadata={'description': 'silver_instructions_base'}, output_file_id=None, request_counts=BatchRequestCounts(completed=0, failed=0, total=0))"
      ]
     },
     "execution_count": 99,
     "metadata": {},
     "output_type": "execute_result"
    }
   ],
   "source": [
    "batch_input_file_id = batch_input_file.id\n",
    "\n",
    "client.batches.create(\n",
    "    input_file_id=batch_input_file_id,\n",
    "    endpoint=\"/v1/chat/completions\",\n",
    "    completion_window=\"24h\",\n",
    "    metadata={\n",
    "      \"description\": \"silver_instructions_base\"\n",
    "    }\n",
    ")"
   ]
  },
  {
   "cell_type": "code",
   "execution_count": null,
   "metadata": {},
   "outputs": [
    {
     "data": {
      "text/plain": [
       "[Batch(id='batch_SDus5Sr3PQiFTMVyOLDGhBd2', completion_window='24h', created_at=1721735519, endpoint='/v1/chat/completions', input_file_id='file-zgzs5sRSm2vEJ4Y33iZdJedY', object='batch', status='completed', cancelled_at=None, cancelling_at=None, completed_at=1721735669, error_file_id=None, errors=None, expired_at=None, expires_at=1721821919, failed_at=None, finalizing_at=1721735665, in_progress_at=1721735519, metadata={'description': 'silver_instructions_longprompt'}, output_file_id='file-8ANGDnRRYSCe8bQc4ZhYvl3p', request_counts=BatchRequestCounts(completed=91, failed=0, total=91)),\n",
       " Batch(id='batch_BeCCUmTFEoc4hAv08gVctYT5', completion_window='24h', created_at=1721733210, endpoint='/v1/chat/completions', input_file_id='file-s2IM3wrz0wyRbgHtIBPg2uLf', object='batch', status='completed', cancelled_at=None, cancelling_at=None, completed_at=1721733272, error_file_id=None, errors=None, expired_at=None, expires_at=1721819610, failed_at=None, finalizing_at=1721733269, in_progress_at=1721733211, metadata={'description': 'silver_instructions_ICL'}, output_file_id='file-tvdqeNY4SChR33lYkaOt1aS5', request_counts=BatchRequestCounts(completed=91, failed=0, total=91))]"
      ]
     },
     "execution_count": 14,
     "metadata": {},
     "output_type": "execute_result"
    }
   ],
   "source": [
    "batch_data = client.batches.list(limit=2)\n",
    "batch_data.data"
   ]
  },
  {
   "cell_type": "code",
   "execution_count": null,
   "metadata": {},
   "outputs": [
    {
     "data": {
      "text/html": [
       "<div>\n",
       "<style scoped>\n",
       "    .dataframe tbody tr th:only-of-type {\n",
       "        vertical-align: middle;\n",
       "    }\n",
       "\n",
       "    .dataframe tbody tr th {\n",
       "        vertical-align: top;\n",
       "    }\n",
       "\n",
       "    .dataframe thead th {\n",
       "        text-align: right;\n",
       "    }\n",
       "</style>\n",
       "<table border=\"1\" class=\"dataframe\">\n",
       "  <thead>\n",
       "    <tr style=\"text-align: right;\">\n",
       "      <th></th>\n",
       "      <th>article_text</th>\n",
       "      <th>file_name</th>\n",
       "      <th>id</th>\n",
       "      <th>total_tokens</th>\n",
       "    </tr>\n",
       "  </thead>\n",
       "  <tbody>\n",
       "    <tr>\n",
       "      <th>0</th>\n",
       "      <td>MONOMANIA . 5 ISCB Ox ? 0 BD \" popped\" at the ...</td>\n",
       "      <td>artid_841530_periodical_ns_issue_vm2-ncseprodu...</td>\n",
       "      <td>841530</td>\n",
       "      <td>1130</td>\n",
       "    </tr>\n",
       "    <tr>\n",
       "      <th>1</th>\n",
       "      <td>* The Plague and the Printing Press : being a ...</td>\n",
       "      <td>artid_751411_periodical_pc_issue_tec_01051889_...</td>\n",
       "      <td>751411</td>\n",
       "      <td>270</td>\n",
       "    </tr>\n",
       "    <tr>\n",
       "      <th>2</th>\n",
       "      <td>he performed upon diverse of the foremost , wh...</td>\n",
       "      <td>artid_871466_periodical_ns_issue_ns2_02101852_...</td>\n",
       "      <td>871466</td>\n",
       "      <td>1719</td>\n",
       "    </tr>\n",
       "    <tr>\n",
       "      <th>3</th>\n",
       "      <td>be having necessary to tramp for the into hous...</td>\n",
       "      <td>artid_494321_periodical_ewj_issue_ewj_01051860...</td>\n",
       "      <td>494321</td>\n",
       "      <td>620</td>\n",
       "    </tr>\n",
       "    <tr>\n",
       "      <th>4</th>\n",
       "      <td>tomorrow we are going * to pillage the archbis...</td>\n",
       "      <td>artid_495935_periodical_ewj_issue_ewj_01011860...</td>\n",
       "      <td>495935</td>\n",
       "      <td>770</td>\n",
       "    </tr>\n",
       "    <tr>\n",
       "      <th>...</th>\n",
       "      <td>...</td>\n",
       "      <td>...</td>\n",
       "      <td>...</td>\n",
       "      <td>...</td>\n",
       "    </tr>\n",
       "    <tr>\n",
       "      <th>86</th>\n",
       "      <td>because too much power was placed in the hands...</td>\n",
       "      <td>artid_841528_periodical_ns_issue_vm2-ncseprodu...</td>\n",
       "      <td>841528</td>\n",
       "      <td>890</td>\n",
       "    </tr>\n",
       "    <tr>\n",
       "      <th>87</th>\n",
       "      <td>^ ^ ^ ^ ^^ ¦ ¦ ¦¦ ¦¦¦¦¦¦¦ ^ ¦¦ ¦ ¦ ^ ^ ¦ ^ ^ ¦...</td>\n",
       "      <td>artid_766218_periodical_pc_issue_tec_01031886_...</td>\n",
       "      <td>766218</td>\n",
       "      <td>137</td>\n",
       "    </tr>\n",
       "    <tr>\n",
       "      <th>88</th>\n",
       "      <td>Boo &amp;§; and ^ mou ^ ofBoo &amp; £ Miss Braddon avv...</td>\n",
       "      <td>artid_771187_periodical_pc_issue_tec_15091890_...</td>\n",
       "      <td>771187</td>\n",
       "      <td>1250</td>\n",
       "    </tr>\n",
       "    <tr>\n",
       "      <th>89</th>\n",
       "      <td>have been-designed : ihere may therefore be th...</td>\n",
       "      <td>artid_653700_periodical_mruc_issue_vm2-ncsepro...</td>\n",
       "      <td>653700</td>\n",
       "      <td>510</td>\n",
       "    </tr>\n",
       "    <tr>\n",
       "      <th>90</th>\n",
       "      <td>FOR THE USE OF OUR YOUNG FRIENDS . ( Continued...</td>\n",
       "      <td>artid_802845_periodical_t_issue_ttw_16051868_p...</td>\n",
       "      <td>802845</td>\n",
       "      <td>356</td>\n",
       "    </tr>\n",
       "  </tbody>\n",
       "</table>\n",
       "<p>91 rows × 4 columns</p>\n",
       "</div>"
      ],
      "text/plain": [
       "                                         article_text  \\\n",
       "0   MONOMANIA . 5 ISCB Ox ? 0 BD \" popped\" at the ...   \n",
       "1   * The Plague and the Printing Press : being a ...   \n",
       "2   he performed upon diverse of the foremost , wh...   \n",
       "3   be having necessary to tramp for the into hous...   \n",
       "4   tomorrow we are going * to pillage the archbis...   \n",
       "..                                                ...   \n",
       "86  because too much power was placed in the hands...   \n",
       "87  ^ ^ ^ ^ ^^ ¦ ¦ ¦¦ ¦¦¦¦¦¦¦ ^ ¦¦ ¦ ¦ ^ ^ ¦ ^ ^ ¦...   \n",
       "88  Boo &§; and ^ mou ^ ofBoo & £ Miss Braddon avv...   \n",
       "89  have been-designed : ihere may therefore be th...   \n",
       "90  FOR THE USE OF OUR YOUNG FRIENDS . ( Continued...   \n",
       "\n",
       "                                            file_name      id  total_tokens  \n",
       "0   artid_841530_periodical_ns_issue_vm2-ncseprodu...  841530          1130  \n",
       "1   artid_751411_periodical_pc_issue_tec_01051889_...  751411           270  \n",
       "2   artid_871466_periodical_ns_issue_ns2_02101852_...  871466          1719  \n",
       "3   artid_494321_periodical_ewj_issue_ewj_01051860...  494321           620  \n",
       "4   artid_495935_periodical_ewj_issue_ewj_01011860...  495935           770  \n",
       "..                                                ...     ...           ...  \n",
       "86  artid_841528_periodical_ns_issue_vm2-ncseprodu...  841528           890  \n",
       "87  artid_766218_periodical_pc_issue_tec_01031886_...  766218           137  \n",
       "88  artid_771187_periodical_pc_issue_tec_15091890_...  771187          1250  \n",
       "89  artid_653700_periodical_mruc_issue_vm2-ncsepro...  653700           510  \n",
       "90  artid_802845_periodical_t_issue_ttw_16051868_p...  802845           356  \n",
       "\n",
       "[91 rows x 4 columns]"
      ]
     },
     "execution_count": 33,
     "metadata": {},
     "output_type": "execute_result"
    }
   ],
   "source": [
    "raw_gold_ocr_df"
   ]
  },
  {
   "cell_type": "code",
   "execution_count": null,
   "metadata": {},
   "outputs": [],
   "source": [
    "raw_transcript_oct_folder = './data/transcripts/transcription_raw_ocr'\n",
    "\n",
    "#These are referred to as \"gold\" as this clearly distinguishes the dataset from any dataframes called test or for testing things in general\n",
    "raw_gold_ocr_df = load_txt_files_to_df(raw_transcript_oct_folder)\n",
    "raw_gold_ocr_df['id'] = raw_gold_ocr_df['file_name'].str.split(\"_periodical\", expand = True)[0].str.replace(\"artid_\", \"\")\n",
    "\n",
    "enc = tiktoken.get_encoding('o200k_base')\n",
    "raw_gold_ocr_df['total_tokens'] = raw_gold_ocr_df['article_text'].apply(lambda x:len(enc.encode(x)))\n",
    "\n",
    "max_tokens = 4000\n",
    "\n",
    "\n",
    "create_jsonl_file(raw_gold_ocr_df, model, silver_instructions_historical, max_tokens, './data/test_prompt_ready_to_batch/silver_instructions_historical.jsonl')\n",
    "create_jsonl_file(raw_gold_ocr_df, model, silver_instructions_ICL, max_tokens, './data/test_prompt_ready_to_batch/silver_instructions_ICL.jsonl')\n",
    "\n",
    "create_jsonl_file(raw_gold_ocr_df, model, silver_instructions_longprompt, max_tokens, './data/test_prompt_ready_to_batch/silver_instructions_longprompt.jsonl')\n"
   ]
  },
  {
   "cell_type": "code",
   "execution_count": null,
   "metadata": {},
   "outputs": [
    {
     "data": {
      "text/plain": [
       "Batch(id='batch_SDus5Sr3PQiFTMVyOLDGhBd2', completion_window='24h', created_at=1721735519, endpoint='/v1/chat/completions', input_file_id='file-zgzs5sRSm2vEJ4Y33iZdJedY', object='batch', status='validating', cancelled_at=None, cancelling_at=None, completed_at=None, error_file_id=None, errors=None, expired_at=None, expires_at=1721821919, failed_at=None, finalizing_at=None, in_progress_at=None, metadata={'description': 'silver_instructions_longprompt'}, output_file_id=None, request_counts=BatchRequestCounts(completed=0, failed=0, total=0))"
      ]
     },
     "execution_count": 11,
     "metadata": {},
     "output_type": "execute_result"
    }
   ],
   "source": [
    "batch_input_file = client.files.create(\n",
    "  file=open('./data/test_prompt_ready_to_batch/silver_instructions_longprompt.jsonl', \"rb\"),\n",
    "  purpose=\"batch\"\n",
    ")\n",
    "\n",
    "batch_input_file_id = batch_input_file.id\n",
    "\n",
    "client.batches.create(\n",
    "    input_file_id=batch_input_file_id,\n",
    "    endpoint=\"/v1/chat/completions\",\n",
    "    completion_window=\"24h\",\n",
    "    metadata={\n",
    "      \"description\": \"silver_instructions_longprompt\"\n",
    "    }\n",
    ")"
   ]
  },
  {
   "cell_type": "code",
   "execution_count": null,
   "metadata": {},
   "outputs": [
    {
     "ename": "NameError",
     "evalue": "name 'client' is not defined",
     "output_type": "error",
     "traceback": [
      "\u001b[0;31m---------------------------------------------------------------------------\u001b[0m",
      "\u001b[0;31mNameError\u001b[0m                                 Traceback (most recent call last)",
      "Cell \u001b[0;32mIn[3], line 1\u001b[0m\n\u001b[0;32m----> 1\u001b[0m file_response \u001b[38;5;241m=\u001b[39m \u001b[43mclient\u001b[49m\u001b[38;5;241m.\u001b[39mfiles\u001b[38;5;241m.\u001b[39mcontent(\u001b[38;5;124m'\u001b[39m\u001b[38;5;124mfile-NHwN8bGdp9xpveBt1rX8LF2V\u001b[39m\u001b[38;5;124m'\u001b[39m)\n",
      "\u001b[0;31mNameError\u001b[0m: name 'client' is not defined"
     ]
    }
   ],
   "source": [
    "file_response = client.files.content('file-NHwN8bGdp9xpveBt1rX8LF2V')"
   ]
  },
  {
   "cell_type": "code",
   "execution_count": null,
   "metadata": {},
   "outputs": [],
   "source": [
    "def save_batch_data(json_string, output_file):\n",
    "    \"\"\"\n",
    "    Save a string containing multiple JSON objects as a JSONL file.\n",
    "\n",
    "    Parameters:\n",
    "    json_string (str): The input string containing JSON objects.\n",
    "    output_file (str): The path to the output JSONL file.\n",
    "    \"\"\"\n",
    "    # Split the string into individual JSON objects (assuming they are newline-separated)\n",
    "    json_objects = json_string.strip().split('\\n')\n",
    "    \n",
    "    with open(output_file, 'w') as file:\n",
    "        for json_object in json_objects:\n",
    "            # Convert the string to a dictionary to ensure it is valid JSON\n",
    "            json_dict = json.loads(json_object)\n",
    "            # Write the JSON object as a single line\n",
    "            file.write(json.dumps(json_dict) + '\\n')"
   ]
  },
  {
   "cell_type": "code",
   "execution_count": null,
   "metadata": {},
   "outputs": [],
   "source": [
    "save_batch_data(file_response.text, './data/test_return.jsonl')"
   ]
  },
  {
   "cell_type": "code",
   "execution_count": null,
   "metadata": {},
   "outputs": [],
   "source": [
    "def convert_batch_to_dataframe(json_string):\n",
    "    \"\"\"\n",
    "    Extract 'custom_id', 'assistant' 'content', and 'usage' from a JSON string and create a DataFrame.\n",
    "\n",
    "    Parameters:\n",
    "    json_string (str): The input string containing JSON objects.\n",
    "\n",
    "    Returns:\n",
    "    pd.DataFrame: DataFrame containing the extracted data.\n",
    "    \"\"\"\n",
    "    json_objects = json_string.strip().split('\\n')\n",
    "    extracted_data = []\n",
    "\n",
    "    for json_object in json_objects:\n",
    "        data = json.loads(json_object)\n",
    "        custom_id = data['custom_id']\n",
    "        assistant_content = data['response']['body']['choices'][0]['message']['content']\n",
    "        usage = data['response']['body']['usage']\n",
    "        \n",
    "        row_data = {\n",
    "            'id': custom_id,\n",
    "            'corrected_content': assistant_content\n",
    "        }\n",
    "        \n",
    "        # Add the usage dictionary to the row data\n",
    "        row_data.update(usage)\n",
    "        \n",
    "        extracted_data.append(row_data)\n",
    "\n",
    "    return pd.DataFrame(extracted_data)"
   ]
  },
  {
   "cell_type": "code",
   "execution_count": null,
   "metadata": {},
   "outputs": [
    {
     "data": {
      "text/html": [
       "<div>\n",
       "<style scoped>\n",
       "    .dataframe tbody tr th:only-of-type {\n",
       "        vertical-align: middle;\n",
       "    }\n",
       "\n",
       "    .dataframe tbody tr th {\n",
       "        vertical-align: top;\n",
       "    }\n",
       "\n",
       "    .dataframe thead th {\n",
       "        text-align: right;\n",
       "    }\n",
       "</style>\n",
       "<table border=\"1\" class=\"dataframe\">\n",
       "  <thead>\n",
       "    <tr style=\"text-align: right;\">\n",
       "      <th></th>\n",
       "      <th>id</th>\n",
       "      <th>corrected_content</th>\n",
       "      <th>prompt_tokens</th>\n",
       "      <th>completion_tokens</th>\n",
       "      <th>total_tokens</th>\n",
       "    </tr>\n",
       "  </thead>\n",
       "  <tbody>\n",
       "    <tr>\n",
       "      <th>0</th>\n",
       "      <td>request-841530</td>\n",
       "      <td>MONOMANIA. ISCB—Oh? The Queen has \"popped\" at ...</td>\n",
       "      <td>1182</td>\n",
       "      <td>1062</td>\n",
       "      <td>2244</td>\n",
       "    </tr>\n",
       "    <tr>\n",
       "      <th>1</th>\n",
       "      <td>request-751411</td>\n",
       "      <td>* The Plague and the Printing Press: being a B...</td>\n",
       "      <td>322</td>\n",
       "      <td>158</td>\n",
       "      <td>480</td>\n",
       "    </tr>\n",
       "    <tr>\n",
       "      <th>2</th>\n",
       "      <td>request-871466</td>\n",
       "      <td>He performed upon divers of the foremost, who,...</td>\n",
       "      <td>1771</td>\n",
       "      <td>1668</td>\n",
       "      <td>3439</td>\n",
       "    </tr>\n",
       "    <tr>\n",
       "      <th>3</th>\n",
       "      <td>request-494321</td>\n",
       "      <td>be having necessary to tramp for the into hous...</td>\n",
       "      <td>672</td>\n",
       "      <td>573</td>\n",
       "      <td>1245</td>\n",
       "    </tr>\n",
       "    <tr>\n",
       "      <th>4</th>\n",
       "      <td>request-495935</td>\n",
       "      <td>\"Tomorrow we are going to pillage the archbish...</td>\n",
       "      <td>822</td>\n",
       "      <td>709</td>\n",
       "      <td>1531</td>\n",
       "    </tr>\n",
       "    <tr>\n",
       "      <th>...</th>\n",
       "      <td>...</td>\n",
       "      <td>...</td>\n",
       "      <td>...</td>\n",
       "      <td>...</td>\n",
       "      <td>...</td>\n",
       "    </tr>\n",
       "    <tr>\n",
       "      <th>86</th>\n",
       "      <td>request-841528</td>\n",
       "      <td>because too much power was placed in the hands...</td>\n",
       "      <td>942</td>\n",
       "      <td>797</td>\n",
       "      <td>1739</td>\n",
       "    </tr>\n",
       "    <tr>\n",
       "      <th>87</th>\n",
       "      <td>request-766218</td>\n",
       "      <td>^ ^ ^ ^ ^ ^ ¦ ¦ ¦¦ ¦¦¦¦¦¦¦ ^ ¦¦ ¦ ¦ ^ ^ ¦ ^ ^ ...</td>\n",
       "      <td>189</td>\n",
       "      <td>117</td>\n",
       "      <td>306</td>\n",
       "    </tr>\n",
       "    <tr>\n",
       "      <th>88</th>\n",
       "      <td>request-771187</td>\n",
       "      <td>Boo &amp; Co. and in lieu of Miss Braddon's new no...</td>\n",
       "      <td>1302</td>\n",
       "      <td>653</td>\n",
       "      <td>1955</td>\n",
       "    </tr>\n",
       "    <tr>\n",
       "      <th>89</th>\n",
       "      <td>request-653700</td>\n",
       "      <td>have been designed: there may therefore be the...</td>\n",
       "      <td>562</td>\n",
       "      <td>456</td>\n",
       "      <td>1018</td>\n",
       "    </tr>\n",
       "    <tr>\n",
       "      <th>90</th>\n",
       "      <td>request-802845</td>\n",
       "      <td>FOR THE USE OF OUR YOUNG FRIENDS. (Continued.)...</td>\n",
       "      <td>408</td>\n",
       "      <td>292</td>\n",
       "      <td>700</td>\n",
       "    </tr>\n",
       "  </tbody>\n",
       "</table>\n",
       "<p>91 rows × 5 columns</p>\n",
       "</div>"
      ],
      "text/plain": [
       "                id                                  corrected_content  \\\n",
       "0   request-841530  MONOMANIA. ISCB—Oh? The Queen has \"popped\" at ...   \n",
       "1   request-751411  * The Plague and the Printing Press: being a B...   \n",
       "2   request-871466  He performed upon divers of the foremost, who,...   \n",
       "3   request-494321  be having necessary to tramp for the into hous...   \n",
       "4   request-495935  \"Tomorrow we are going to pillage the archbish...   \n",
       "..             ...                                                ...   \n",
       "86  request-841528  because too much power was placed in the hands...   \n",
       "87  request-766218  ^ ^ ^ ^ ^ ^ ¦ ¦ ¦¦ ¦¦¦¦¦¦¦ ^ ¦¦ ¦ ¦ ^ ^ ¦ ^ ^ ...   \n",
       "88  request-771187  Boo & Co. and in lieu of Miss Braddon's new no...   \n",
       "89  request-653700  have been designed: there may therefore be the...   \n",
       "90  request-802845  FOR THE USE OF OUR YOUNG FRIENDS. (Continued.)...   \n",
       "\n",
       "    prompt_tokens  completion_tokens  total_tokens  \n",
       "0            1182               1062          2244  \n",
       "1             322                158           480  \n",
       "2            1771               1668          3439  \n",
       "3             672                573          1245  \n",
       "4             822                709          1531  \n",
       "..            ...                ...           ...  \n",
       "86            942                797          1739  \n",
       "87            189                117           306  \n",
       "88           1302                653          1955  \n",
       "89            562                456          1018  \n",
       "90            408                292           700  \n",
       "\n",
       "[91 rows x 5 columns]"
      ]
     },
     "execution_count": 85,
     "metadata": {},
     "output_type": "execute_result"
    }
   ],
   "source": [
    "silver_corrected = convert_batch_to_dataframe(file_response.text)"
   ]
  },
  {
   "cell_type": "code",
   "execution_count": 9,
   "metadata": {},
   "outputs": [],
   "source": [
    "cer = load(\"cer\")\n",
    "wer = load(\"wer\")\n"
   ]
  },
  {
   "cell_type": "code",
   "execution_count": 5,
   "metadata": {},
   "outputs": [
    {
     "data": {
      "text/html": [
       "<div>\n",
       "<style scoped>\n",
       "    .dataframe tbody tr th:only-of-type {\n",
       "        vertical-align: middle;\n",
       "    }\n",
       "\n",
       "    .dataframe tbody tr th {\n",
       "        vertical-align: top;\n",
       "    }\n",
       "\n",
       "    .dataframe thead th {\n",
       "        text-align: right;\n",
       "    }\n",
       "</style>\n",
       "<table border=\"1\" class=\"dataframe\">\n",
       "  <thead>\n",
       "    <tr style=\"text-align: right;\">\n",
       "      <th></th>\n",
       "      <th>file_name</th>\n",
       "      <th>article_text</th>\n",
       "      <th>cer_orig</th>\n",
       "    </tr>\n",
       "  </thead>\n",
       "  <tbody>\n",
       "    <tr>\n",
       "      <th>0</th>\n",
       "      <td>artid_841530_periodical_ns_issue_vm2-ncseprodu...</td>\n",
       "      <td>monomania.\\n\\nsince oxford \"popped\" at the que...</td>\n",
       "      <td>0.052256</td>\n",
       "    </tr>\n",
       "    <tr>\n",
       "      <th>1</th>\n",
       "      <td>artid_751411_periodical_pc_issue_tec_01051889_...</td>\n",
       "      <td>‘the plague and the printing press: being a bi...</td>\n",
       "      <td>0.481586</td>\n",
       "    </tr>\n",
       "    <tr>\n",
       "      <th>2</th>\n",
       "      <td>artid_871466_periodical_ns_issue_ns2_02101852_...</td>\n",
       "      <td>he performed upon diverse of the foremost, who...</td>\n",
       "      <td>0.044863</td>\n",
       "    </tr>\n",
       "    <tr>\n",
       "      <th>3</th>\n",
       "      <td>artid_494321_periodical_ewj_issue_ewj_01051860...</td>\n",
       "      <td>having to tramp into some dirty court in searc...</td>\n",
       "      <td>0.151261</td>\n",
       "    </tr>\n",
       "    <tr>\n",
       "      <th>4</th>\n",
       "      <td>artid_495935_periodical_ewj_issue_ewj_01011860...</td>\n",
       "      <td>tomorrow we are going to pillage the archbisho...</td>\n",
       "      <td>0.123429</td>\n",
       "    </tr>\n",
       "    <tr>\n",
       "      <th>...</th>\n",
       "      <td>...</td>\n",
       "      <td>...</td>\n",
       "      <td>...</td>\n",
       "    </tr>\n",
       "    <tr>\n",
       "      <th>86</th>\n",
       "      <td>artid_841528_periodical_ns_issue_vm2-ncseprodu...</td>\n",
       "      <td>because too much power was placed in the hands...</td>\n",
       "      <td>0.060137</td>\n",
       "    </tr>\n",
       "    <tr>\n",
       "      <th>87</th>\n",
       "      <td>artid_766218_periodical_pc_issue_tec_01031886_...</td>\n",
       "      <td>electrotypes. \\nmessrs. sampson low, marston, ...</td>\n",
       "      <td>0.753086</td>\n",
       "    </tr>\n",
       "    <tr>\n",
       "      <th>88</th>\n",
       "      <td>artid_771187_periodical_pc_issue_tec_15091890_...</td>\n",
       "      <td>books and rumours of books\\n\\nmiss braddon's n...</td>\n",
       "      <td>0.696710</td>\n",
       "    </tr>\n",
       "    <tr>\n",
       "      <th>89</th>\n",
       "      <td>artid_653700_periodical_mruc_issue_vm2-ncsepro...</td>\n",
       "      <td>have been designed: there may therefore be the...</td>\n",
       "      <td>0.061052</td>\n",
       "    </tr>\n",
       "    <tr>\n",
       "      <th>90</th>\n",
       "      <td>artid_802845_periodical_t_issue_ttw_16051868_p...</td>\n",
       "      <td>woman's word-book.\\nfor the use of our young f...</td>\n",
       "      <td>0.543860</td>\n",
       "    </tr>\n",
       "  </tbody>\n",
       "</table>\n",
       "<p>91 rows × 3 columns</p>\n",
       "</div>"
      ],
      "text/plain": [
       "                                            file_name  \\\n",
       "0   artid_841530_periodical_ns_issue_vm2-ncseprodu...   \n",
       "1   artid_751411_periodical_pc_issue_tec_01051889_...   \n",
       "2   artid_871466_periodical_ns_issue_ns2_02101852_...   \n",
       "3   artid_494321_periodical_ewj_issue_ewj_01051860...   \n",
       "4   artid_495935_periodical_ewj_issue_ewj_01011860...   \n",
       "..                                                ...   \n",
       "86  artid_841528_periodical_ns_issue_vm2-ncseprodu...   \n",
       "87  artid_766218_periodical_pc_issue_tec_01031886_...   \n",
       "88  artid_771187_periodical_pc_issue_tec_15091890_...   \n",
       "89  artid_653700_periodical_mruc_issue_vm2-ncsepro...   \n",
       "90  artid_802845_periodical_t_issue_ttw_16051868_p...   \n",
       "\n",
       "                                         article_text  cer_orig  \n",
       "0   monomania.\\n\\nsince oxford \"popped\" at the que...  0.052256  \n",
       "1   ‘the plague and the printing press: being a bi...  0.481586  \n",
       "2   he performed upon diverse of the foremost, who...  0.044863  \n",
       "3   having to tramp into some dirty court in searc...  0.151261  \n",
       "4   tomorrow we are going to pillage the archbisho...  0.123429  \n",
       "..                                                ...       ...  \n",
       "86  because too much power was placed in the hands...  0.060137  \n",
       "87  electrotypes. \\nmessrs. sampson low, marston, ...  0.753086  \n",
       "88  books and rumours of books\\n\\nmiss braddon's n...  0.696710  \n",
       "89  have been designed: there may therefore be the...  0.061052  \n",
       "90  woman's word-book.\\nfor the use of our young f...  0.543860  \n",
       "\n",
       "[91 rows x 3 columns]"
      ]
     },
     "execution_count": 5,
     "metadata": {},
     "output_type": "execute_result"
    }
   ],
   "source": [
    "corrected_transcript_oct_folder = \"./data/transcripts/transcription_files\"\n",
    "\n",
    "corrected_gold_ocr_df = load_txt_files_to_df(corrected_transcript_oct_folder)\n",
    "\n",
    "raw_ocr_df = load_txt_files_to_df(\"./data/transcripts/transcription_raw_ocr\")\n",
    "raw_ocr_df = raw_ocr_df.rename(columns={'article_text':'post_lm_text', 'file_name':'id'})\n",
    "\n",
    "corrected_gold_ocr_df = pre_evaluation_processing(raw_ocr_df, corrected_gold_ocr_df, post_lm_text= 'post_lm_text', gt_text = 'article_text' )\n",
    "corrected_gold_ocr_df = evaluate_model(df = corrected_gold_ocr_df, metric_obj = cer, gt_text = 'article_text', post_lm_text = 'post_lm_text')\n",
    "corrected_gold_ocr_df.rename(columns = {'cer':'cer_orig', 'id':'file_name'}, inplace=True)\n",
    "corrected_gold_ocr_df.drop(columns=['index', 'post_lm_text'], inplace=True)\n",
    "\n",
    "corrected_gold_ocr_df"
   ]
  },
  {
   "cell_type": "code",
   "execution_count": null,
   "metadata": {},
   "outputs": [],
   "source": [
    "\n",
    "batch_file = 'file-NHwN8bGdp9xpveBt1rX8LF2V'\n",
    "\n",
    "jsonl_file =  \"./data/batch_job_results_furniture.jsonl\"\n"
   ]
  },
  {
   "cell_type": "code",
   "execution_count": null,
   "metadata": {},
   "outputs": [],
   "source": []
  },
  {
   "cell_type": "code",
   "execution_count": null,
   "metadata": {},
   "outputs": [
    {
     "data": {
      "text/plain": [
       "[Batch(id='batch_JUrnd5Vr4ULIoC9dVxZu29ve', completion_window='24h', created_at=1721732615, endpoint='/v1/chat/completions', input_file_id='file-2vSKGccZmNhYyAYIIFzjx6HL', object='batch', status='completed', cancelled_at=None, cancelling_at=None, completed_at=1721732669, error_file_id=None, errors=None, expired_at=None, expires_at=1721819015, failed_at=None, finalizing_at=1721732665, in_progress_at=1721732615, metadata={'description': 'silver_instructions_ICL'}, output_file_id='file-8EMaqLAJRHqOd8gs5SzggTG2', request_counts=BatchRequestCounts(completed=91, failed=0, total=91)),\n",
       " Batch(id='batch_dz5APpniHldq490XDCtPrQbS', completion_window='24h', created_at=1721732600, endpoint='/v1/chat/completions', input_file_id='file-7xe6NOtw0HiXXKKprCuSGwFd', object='batch', status='completed', cancelled_at=None, cancelling_at=None, completed_at=1721732667, error_file_id=None, errors=None, expired_at=None, expires_at=1721819000, failed_at=None, finalizing_at=1721732664, in_progress_at=1721732600, metadata={'description': 'silver_instructions_historical'}, output_file_id='file-8aGk8M9n5VIyQsySW7UqnnQc', request_counts=BatchRequestCounts(completed=91, failed=0, total=91))]"
      ]
     },
     "execution_count": 201,
     "metadata": {},
     "output_type": "execute_result"
    }
   ],
   "source": [
    "batch_data.data"
   ]
  },
  {
   "cell_type": "code",
   "execution_count": null,
   "metadata": {},
   "outputs": [],
   "source": [
    "\n",
    "#save_openai_batch_result('file-8aGk8M9n5VIyQsySW7UqnnQc',  './data/test_prompt_results/silver_instructions_historical.jsonl')\n",
    "save_openai_batch_result('file-8ANGDnRRYSCe8bQc4ZhYvl3p',  './data/test_prompt_results/silver_instructions_longprompt.jsonl')"
   ]
  },
  {
   "cell_type": "code",
   "execution_count": null,
   "metadata": {},
   "outputs": [
    {
     "data": {
      "text/html": [
       "<div>\n",
       "<style scoped>\n",
       "    .dataframe tbody tr th:only-of-type {\n",
       "        vertical-align: middle;\n",
       "    }\n",
       "\n",
       "    .dataframe tbody tr th {\n",
       "        vertical-align: top;\n",
       "    }\n",
       "\n",
       "    .dataframe thead th {\n",
       "        text-align: right;\n",
       "    }\n",
       "</style>\n",
       "<table border=\"1\" class=\"dataframe\">\n",
       "  <thead>\n",
       "    <tr style=\"text-align: right;\">\n",
       "      <th></th>\n",
       "      <th>cer</th>\n",
       "      <th>ERP</th>\n",
       "    </tr>\n",
       "  </thead>\n",
       "  <tbody>\n",
       "    <tr>\n",
       "      <th>count</th>\n",
       "      <td>91.000000</td>\n",
       "      <td>91.000000</td>\n",
       "    </tr>\n",
       "    <tr>\n",
       "      <th>mean</th>\n",
       "      <td>0.194177</td>\n",
       "      <td>0.559327</td>\n",
       "    </tr>\n",
       "    <tr>\n",
       "      <th>std</th>\n",
       "      <td>0.212007</td>\n",
       "      <td>0.272929</td>\n",
       "    </tr>\n",
       "    <tr>\n",
       "      <th>min</th>\n",
       "      <td>0.000000</td>\n",
       "      <td>-0.088000</td>\n",
       "    </tr>\n",
       "    <tr>\n",
       "      <th>25%</th>\n",
       "      <td>0.009783</td>\n",
       "      <td>0.295848</td>\n",
       "    </tr>\n",
       "    <tr>\n",
       "      <th>50%</th>\n",
       "      <td>0.102807</td>\n",
       "      <td>0.564295</td>\n",
       "    </tr>\n",
       "    <tr>\n",
       "      <th>75%</th>\n",
       "      <td>0.365254</td>\n",
       "      <td>0.818007</td>\n",
       "    </tr>\n",
       "    <tr>\n",
       "      <th>max</th>\n",
       "      <td>1.048387</td>\n",
       "      <td>1.000000</td>\n",
       "    </tr>\n",
       "  </tbody>\n",
       "</table>\n",
       "</div>"
      ],
      "text/plain": [
       "             cer        ERP\n",
       "count  91.000000  91.000000\n",
       "mean    0.194177   0.559327\n",
       "std     0.212007   0.272929\n",
       "min     0.000000  -0.088000\n",
       "25%     0.009783   0.295848\n",
       "50%     0.102807   0.564295\n",
       "75%     0.365254   0.818007\n",
       "max     1.048387   1.000000"
      ]
     },
     "execution_count": 261,
     "metadata": {},
     "output_type": "execute_result"
    }
   ],
   "source": [
    "silver_instructions_between = convert_opanai_jsonl_to_df('./data/test_prompt_results/silver_instructions_ICL.jsonl')\n",
    "silver_instructions_between = pre_evaluation_processing(silver_instructions_between, corrected_gold_ocr_df, post_lm_text= 'post_lm_text', gt_text = 'article_text' )\n",
    "\n",
    "silver_instructions_between = evaluate_model(df = silver_instructions_between, metric_obj = cer, gt_text = 'article_text', post_lm_text = 'post_lm_text')\n",
    "silver_instructions_between['ERP'] = (silver_instructions_between['cer_orig'] - silver_instructions_between['cer'])/silver_instructions_between['cer_orig'] \n",
    "silver_instructions_between[['cer', 'ERP']].describe()"
   ]
  },
  {
   "cell_type": "code",
   "execution_count": null,
   "metadata": {},
   "outputs": [
    {
     "data": {
      "text/html": [
       "<div>\n",
       "<style scoped>\n",
       "    .dataframe tbody tr th:only-of-type {\n",
       "        vertical-align: middle;\n",
       "    }\n",
       "\n",
       "    .dataframe tbody tr th {\n",
       "        vertical-align: top;\n",
       "    }\n",
       "\n",
       "    .dataframe thead th {\n",
       "        text-align: right;\n",
       "    }\n",
       "</style>\n",
       "<table border=\"1\" class=\"dataframe\">\n",
       "  <thead>\n",
       "    <tr style=\"text-align: right;\">\n",
       "      <th></th>\n",
       "      <th>cer</th>\n",
       "      <th>ERP</th>\n",
       "    </tr>\n",
       "  </thead>\n",
       "  <tbody>\n",
       "    <tr>\n",
       "      <th>count</th>\n",
       "      <td>91.000000</td>\n",
       "      <td>91.000000</td>\n",
       "    </tr>\n",
       "    <tr>\n",
       "      <th>mean</th>\n",
       "      <td>0.179128</td>\n",
       "      <td>0.599517</td>\n",
       "    </tr>\n",
       "    <tr>\n",
       "      <th>std</th>\n",
       "      <td>0.195479</td>\n",
       "      <td>0.250826</td>\n",
       "    </tr>\n",
       "    <tr>\n",
       "      <th>min</th>\n",
       "      <td>0.000000</td>\n",
       "      <td>-0.031642</td>\n",
       "    </tr>\n",
       "    <tr>\n",
       "      <th>25%</th>\n",
       "      <td>0.009184</td>\n",
       "      <td>0.425103</td>\n",
       "    </tr>\n",
       "    <tr>\n",
       "      <th>50%</th>\n",
       "      <td>0.094840</td>\n",
       "      <td>0.617108</td>\n",
       "    </tr>\n",
       "    <tr>\n",
       "      <th>75%</th>\n",
       "      <td>0.338043</td>\n",
       "      <td>0.826114</td>\n",
       "    </tr>\n",
       "    <tr>\n",
       "      <th>max</th>\n",
       "      <td>0.758065</td>\n",
       "      <td>1.000000</td>\n",
       "    </tr>\n",
       "  </tbody>\n",
       "</table>\n",
       "</div>"
      ],
      "text/plain": [
       "             cer        ERP\n",
       "count  91.000000  91.000000\n",
       "mean    0.179128   0.599517\n",
       "std     0.195479   0.250826\n",
       "min     0.000000  -0.031642\n",
       "25%     0.009184   0.425103\n",
       "50%     0.094840   0.617108\n",
       "75%     0.338043   0.826114\n",
       "max     0.758065   1.000000"
      ]
     },
     "execution_count": 262,
     "metadata": {},
     "output_type": "execute_result"
    }
   ],
   "source": [
    "silver_instructions_between = convert_opanai_jsonl_to_df('./data/test_prompt_results/silver_instructions_historical.jsonl')\n",
    "silver_instructions_between = pre_evaluation_processing(silver_instructions_between, corrected_gold_ocr_df, post_lm_text= 'post_lm_text', gt_text = 'article_text' )\n",
    "\n",
    "silver_instructions_between = evaluate_model(df = silver_instructions_between, metric_obj = cer, gt_text = 'article_text', post_lm_text = 'post_lm_text')\n",
    "silver_instructions_between['ERP'] = (silver_instructions_between['cer_orig'] - silver_instructions_between['cer'])/silver_instructions_between['cer_orig'] \n",
    "silver_instructions_between[['cer', 'ERP']].describe()"
   ]
  },
  {
   "cell_type": "code",
   "execution_count": null,
   "metadata": {},
   "outputs": [
    {
     "data": {
      "text/html": [
       "<div>\n",
       "<style scoped>\n",
       "    .dataframe tbody tr th:only-of-type {\n",
       "        vertical-align: middle;\n",
       "    }\n",
       "\n",
       "    .dataframe tbody tr th {\n",
       "        vertical-align: top;\n",
       "    }\n",
       "\n",
       "    .dataframe thead th {\n",
       "        text-align: right;\n",
       "    }\n",
       "</style>\n",
       "<table border=\"1\" class=\"dataframe\">\n",
       "  <thead>\n",
       "    <tr style=\"text-align: right;\">\n",
       "      <th></th>\n",
       "      <th>cer</th>\n",
       "      <th>ERP</th>\n",
       "    </tr>\n",
       "  </thead>\n",
       "  <tbody>\n",
       "    <tr>\n",
       "      <th>count</th>\n",
       "      <td>91.000000</td>\n",
       "      <td>91.000000</td>\n",
       "    </tr>\n",
       "    <tr>\n",
       "      <th>mean</th>\n",
       "      <td>0.193581</td>\n",
       "      <td>0.550641</td>\n",
       "    </tr>\n",
       "    <tr>\n",
       "      <th>std</th>\n",
       "      <td>0.212895</td>\n",
       "      <td>0.259574</td>\n",
       "    </tr>\n",
       "    <tr>\n",
       "      <th>min</th>\n",
       "      <td>0.001185</td>\n",
       "      <td>-0.088000</td>\n",
       "    </tr>\n",
       "    <tr>\n",
       "      <th>25%</th>\n",
       "      <td>0.011301</td>\n",
       "      <td>0.336447</td>\n",
       "    </tr>\n",
       "    <tr>\n",
       "      <th>50%</th>\n",
       "      <td>0.094840</td>\n",
       "      <td>0.514596</td>\n",
       "    </tr>\n",
       "    <tr>\n",
       "      <th>75%</th>\n",
       "      <td>0.367834</td>\n",
       "      <td>0.795190</td>\n",
       "    </tr>\n",
       "    <tr>\n",
       "      <th>max</th>\n",
       "      <td>1.103226</td>\n",
       "      <td>0.947368</td>\n",
       "    </tr>\n",
       "  </tbody>\n",
       "</table>\n",
       "</div>"
      ],
      "text/plain": [
       "             cer        ERP\n",
       "count  91.000000  91.000000\n",
       "mean    0.193581   0.550641\n",
       "std     0.212895   0.259574\n",
       "min     0.001185  -0.088000\n",
       "25%     0.011301   0.336447\n",
       "50%     0.094840   0.514596\n",
       "75%     0.367834   0.795190\n",
       "max     1.103226   0.947368"
      ]
     },
     "execution_count": 21,
     "metadata": {},
     "output_type": "execute_result"
    }
   ],
   "source": [
    "silver_instructions_between = convert_opanai_jsonl_to_df('./data/test_prompt_results/silver_instructions_longprompt.jsonl')\n",
    "silver_instructions_between = pre_evaluation_processing(silver_instructions_between, corrected_gold_ocr_df, post_lm_text= 'post_lm_text', gt_text = 'article_text' )\n",
    "\n",
    "silver_instructions_between = evaluate_model(df = silver_instructions_between, metric_obj = cer, gt_text = 'article_text', post_lm_text = 'post_lm_text')\n",
    "silver_instructions_between['ERP'] = (silver_instructions_between['cer_orig'] - silver_instructions_between['cer'])/silver_instructions_between['cer_orig'] \n",
    "silver_instructions_between[['cer', 'ERP']].describe()"
   ]
  },
  {
   "cell_type": "markdown",
   "metadata": {},
   "source": [
    "# Create training dataset from SMH from trove\n",
    "\n",
    "To prevent using huge amounts of RAM when fine tuning a LLama model the training texts will be truncated to 1000 tokens"
   ]
  },
  {
   "cell_type": "code",
   "execution_count": 14,
   "metadata": {},
   "outputs": [
    {
     "name": "stderr",
     "output_type": "stream",
     "text": [
      "Special tokens have been added in the vocabulary, make sure the associated word embeddings are fine-tuned or trained.\n"
     ]
    }
   ],
   "source": [
    "\n",
    "tokenizer = AutoTokenizer.from_pretrained('meta-llama/Meta-Llama-3-8B')\n",
    "\n",
    "\n",
    "def trim_text_to_token_limit(df, col1, col2, max_tokens):\n",
    "    \"\"\"\n",
    "    Trims the text in two specified columns of a DataFrame so that neither\n",
    "    text string exceeds a specified token limit.\n",
    "\n",
    "    This function splits the text in the specified columns by line breaks,\n",
    "    then iteratively removes the last line from both texts until neither\n",
    "    text string exceeds the given token limit when encoded using a tokenizer.\n",
    "\n",
    "    Args:\n",
    "        df (pd.DataFrame): The DataFrame containing the text columns to be trimmed.\n",
    "        col1 (str): The name of the first text column.\n",
    "        col2 (str): The name of the second text column.\n",
    "        max_tokens (int): The maximum allowed number of tokens for each text string.\n",
    "\n",
    "    Returns:\n",
    "        pd.DataFrame: The DataFrame with the text columns trimmed to the specified token limit.\n",
    "    \"\"\"\n",
    "    def trim_pair(text1, text2, max_tokens):\n",
    "        # Split the text into lines\n",
    "        lines1 = text1.split(\"\\n\")\n",
    "        lines2 = text2.split(\"\\n\")\n",
    "\n",
    "        # Ensure the number of elements in both lists is the same\n",
    "        assert len(lines1) == len(lines2), \"Lists must have the same number of elements\"\n",
    "        \n",
    "        # Join the lists to check token count\n",
    "        joined_text1 = \" \".join(lines1)\n",
    "        joined_text2 = \" \".join(lines2)\n",
    "        \n",
    "        # While loop to trim the text until within token limit\n",
    "        while len(tokenizer.encode(joined_text1)) > max_tokens or len(tokenizer.encode(joined_text2)) > max_tokens:\n",
    "            if lines1:\n",
    "                lines1.pop()\n",
    "            if lines2:\n",
    "                lines2.pop()\n",
    "            joined_text1 = \" \".join(lines1)\n",
    "            joined_text2 = \" \".join(lines2)\n",
    "        \n",
    "        #Add the line breaks back in and return the truncated strings\n",
    "        return \"\\n\".join(lines1),  \"\\n\".join(lines2)\n",
    "    \n",
    "    # Apply the trimming function to each row\n",
    "    df[[col1, col2]] = df.apply(lambda row: trim_pair(row[col1], row[col2], max_tokens), axis=1, result_type=\"expand\")\n",
    "    return df\n",
    "\n",
    "\n",
    "\n",
    "\n",
    "def truncate_strings(df, tokenizer, max_tokens = 1000):\n",
    "\n",
    "\n",
    "    #count tokens pre-removal\n",
    "    df['content'] = df['article_text'].str.replace(\"\\n\", \" \")\n",
    "    df['tokens'] = df['content'].apply(lambda x:len(tokenizer.encode(x)))\n",
    "\n",
    "    df['raw_text_space'] = df['raw_text'].str.replace(\"\\n\", \" \")\n",
    "    df['tokens_raw'] = df['raw_text_space'].apply(lambda x:len(tokenizer.encode(x)))\n",
    "\n",
    "\n",
    "    #trim the text to create a single dataset\n",
    "    df = trim_text_to_token_limit(df, \"article_text\", \"raw_text\", max_tokens)\n",
    "\n",
    "\n",
    "    #count tokens post-removal\n",
    "    df['content'] = df['article_text'].str.replace(\"\\n\", \" \")\n",
    "    df['tokens_short'] = df['content'].apply(lambda x:len(tokenizer.encode(x)))\n",
    "\n",
    "    df['raw_text_space'] = df['raw_text'].str.replace(\"\\n\", \" \")\n",
    "    df['tokens_raw_short'] = df['raw_text_space'].apply(lambda x:len(tokenizer.encode(x)))\n",
    "\n",
    "    return df\n",
    "\n",
    "def load_gt_and_raw_text(gt_path, raw_path):\n",
    "\n",
    "    df = load_txt_files_to_df(gt_path).merge(\n",
    "            load_txt_files_to_df(raw_path).set_index('file_name').rename(columns = {'article_text':'raw_text'}), left_on = 'file_name', right_index=True\n",
    "        )\n",
    "    return df\n"
   ]
  },
  {
   "cell_type": "markdown",
   "metadata": {},
   "source": [
    "## SMH\n",
    "\n",
    "### SMH gold"
   ]
  },
  {
   "cell_type": "code",
   "execution_count": 23,
   "metadata": {},
   "outputs": [
    {
     "name": "stdout",
     "output_type": "stream",
     "text": [
      "Articles with silver over 1000 16\n",
      "Articles with raw over 1000  19\n"
     ]
    }
   ],
   "source": [
    "gold_smh_df = load_gt_and_raw_text(gt_path = 'data/overproof/SMH/article_level/corrected', raw_path = 'data/overproof/SMH/article_level/raw')\n",
    "\n",
    "gold_smh_df = truncate_strings(gold_smh_df, tokenizer, max_tokens = 1000)\n",
    "\n",
    "gold_smh_df['type'] = 'smh'\n",
    "print(f\"Articles with silver over 1000 {sum(gold_smh_df['tokens']>1000)}\\nArticles with raw over 1000  {sum(gold_smh_df['tokens_raw']>1000)}\")\n"
   ]
  },
  {
   "cell_type": "markdown",
   "metadata": {},
   "source": [
    "### SMH silver"
   ]
  },
  {
   "cell_type": "code",
   "execution_count": 16,
   "metadata": {},
   "outputs": [
    {
     "name": "stdout",
     "output_type": "stream",
     "text": [
      "Articles with silver over 1000 42\n",
      "Articles with raw over 1000  72\n"
     ]
    },
    {
     "data": {
      "text/plain": [
       "np.int64(256705)"
      ]
     },
     "execution_count": 16,
     "metadata": {},
     "output_type": "execute_result"
    }
   ],
   "source": [
    "silver_smh_df = load_gt_and_raw_text(gt_path = 'data/overproof/SMH/dataset1_article_level/corrected', raw_path = 'data/overproof/SMH/dataset1_article_level/raw')\n",
    "\n",
    "silver_smh_df = truncate_strings(silver_smh_df, tokenizer, max_tokens = 1000)\n",
    "\n",
    "print(f\"Articles with silver over 1000 {sum(silver_smh_df['tokens']>1000)}\\nArticles with raw over 1000  {sum(silver_smh_df['tokens_raw']>1000)}\")\n",
    "\n",
    "\n",
    "silver_smh_df['tokens'].sum()"
   ]
  },
  {
   "cell_type": "markdown",
   "metadata": {},
   "source": [
    "## CA"
   ]
  },
  {
   "cell_type": "code",
   "execution_count": 24,
   "metadata": {},
   "outputs": [
    {
     "name": "stdout",
     "output_type": "stream",
     "text": [
      "Articles with silver over 1000 1\n",
      "Articles with raw over 1000  6\n"
     ]
    },
    {
     "data": {
      "text/plain": [
       "np.int64(22429)"
      ]
     },
     "execution_count": 24,
     "metadata": {},
     "output_type": "execute_result"
    }
   ],
   "source": [
    "gold_ca_df = load_gt_and_raw_text(gt_path = 'data/overproof/CA/article_level/corrected', raw_path = 'data/overproof/CA/article_level/raw')\n",
    "\n",
    "gold_ca_df = truncate_strings(gold_ca_df, tokenizer, max_tokens = 1000)\n",
    "\n",
    "gold_ca_df['type'] = 'CA'\n",
    "\n",
    "print(f\"Articles with silver over 1000 {sum(gold_ca_df['tokens']>1000)}\\nArticles with raw over 1000  {sum(gold_ca_df['tokens_raw']>1000)}\")\n",
    "\n",
    "\n",
    "gold_ca_df['tokens'].sum()"
   ]
  },
  {
   "cell_type": "markdown",
   "metadata": {},
   "source": [
    "## BLN600\n",
    "\n",
    "600 crime related articles from the British library \n",
    "\n",
    "https://orda.shef.ac.uk/articles/dataset/BLN600_A_Parallel_Corpus_of_Machine_Human_Transcribed_Nineteenth_Century_Newspaper_Texts/25439023\n",
    "\n",
    "https://aclanthology.org/2024.lrec-main.219/"
   ]
  },
  {
   "cell_type": "code",
   "execution_count": 25,
   "metadata": {},
   "outputs": [
    {
     "name": "stdout",
     "output_type": "stream",
     "text": [
      "tokens        299468\n",
      "tokens_raw    336303\n",
      "dtype: int64\n"
     ]
    },
    {
     "data": {
      "text/html": [
       "<div>\n",
       "<style scoped>\n",
       "    .dataframe tbody tr th:only-of-type {\n",
       "        vertical-align: middle;\n",
       "    }\n",
       "\n",
       "    .dataframe tbody tr th {\n",
       "        vertical-align: top;\n",
       "    }\n",
       "\n",
       "    .dataframe thead th {\n",
       "        text-align: right;\n",
       "    }\n",
       "</style>\n",
       "<table border=\"1\" class=\"dataframe\">\n",
       "  <thead>\n",
       "    <tr style=\"text-align: right;\">\n",
       "      <th></th>\n",
       "      <th>tokens</th>\n",
       "      <th>tokens_raw</th>\n",
       "    </tr>\n",
       "  </thead>\n",
       "  <tbody>\n",
       "    <tr>\n",
       "      <th>count</th>\n",
       "      <td>514.000000</td>\n",
       "      <td>514.000000</td>\n",
       "    </tr>\n",
       "    <tr>\n",
       "      <th>mean</th>\n",
       "      <td>582.622568</td>\n",
       "      <td>654.285992</td>\n",
       "    </tr>\n",
       "    <tr>\n",
       "      <th>std</th>\n",
       "      <td>155.034881</td>\n",
       "      <td>174.092685</td>\n",
       "    </tr>\n",
       "    <tr>\n",
       "      <th>min</th>\n",
       "      <td>98.000000</td>\n",
       "      <td>156.000000</td>\n",
       "    </tr>\n",
       "    <tr>\n",
       "      <th>25%</th>\n",
       "      <td>485.250000</td>\n",
       "      <td>545.250000</td>\n",
       "    </tr>\n",
       "    <tr>\n",
       "      <th>50%</th>\n",
       "      <td>594.500000</td>\n",
       "      <td>651.500000</td>\n",
       "    </tr>\n",
       "    <tr>\n",
       "      <th>75%</th>\n",
       "      <td>688.750000</td>\n",
       "      <td>783.500000</td>\n",
       "    </tr>\n",
       "    <tr>\n",
       "      <th>max</th>\n",
       "      <td>975.000000</td>\n",
       "      <td>999.000000</td>\n",
       "    </tr>\n",
       "  </tbody>\n",
       "</table>\n",
       "</div>"
      ],
      "text/plain": [
       "           tokens  tokens_raw\n",
       "count  514.000000  514.000000\n",
       "mean   582.622568  654.285992\n",
       "std    155.034881  174.092685\n",
       "min     98.000000  156.000000\n",
       "25%    485.250000  545.250000\n",
       "50%    594.500000  651.500000\n",
       "75%    688.750000  783.500000\n",
       "max    975.000000  999.000000"
      ]
     },
     "execution_count": 25,
     "metadata": {},
     "output_type": "execute_result"
    }
   ],
   "source": [
    "gold_bln_df = load_txt_files_to_df('data/BLN600/Ground Truth').merge(\n",
    "    load_txt_files_to_df('data/BLN600/OCR Text').set_index('file_name').rename(columns = {'article_text':'raw_text'}), left_on = 'file_name', right_index=True\n",
    ")\n",
    "\n",
    "#count tokens pre-removal\n",
    "gold_bln_df['content'] = gold_bln_df['article_text'].str.replace(\"\\n\", \" \")\n",
    "gold_bln_df['tokens'] = gold_bln_df['content'].apply(lambda x:len(tokenizer.encode(x)))\n",
    "\n",
    "gold_bln_df['raw_text_space'] = gold_bln_df['raw_text'].str.replace(\"\\n\", \" \")\n",
    "gold_bln_df['tokens_raw'] = gold_bln_df['raw_text_space'].apply(lambda x:len(tokenizer.encode(x)))\n",
    "\n",
    "gold_bln_df = gold_bln_df.loc[(gold_bln_df['tokens_raw']<1000) & (gold_bln_df['tokens']<1000),:]\n",
    "\n",
    "gold_bln_df['tokens_short'] = gold_bln_df['tokens']\n",
    "\n",
    "gold_bln_df['tokens_raw_short'] = gold_bln_df['tokens_raw']\n",
    "\n",
    "gold_bln_df['type'] = 'BLN'\n",
    "\n",
    "print(gold_bln_df.loc[:,['tokens', 'tokens_raw']].sum())\n",
    "\n",
    "gold_bln_df.loc[:,['tokens', 'tokens_raw']].describe()\n"
   ]
  },
  {
   "cell_type": "code",
   "execution_count": 10,
   "metadata": {},
   "outputs": [],
   "source": [
    "\n",
    "gold_bln_df= evaluate_model(df = gold_bln_df, metric_obj = cer, gt_text = 'content', post_lm_text = 'raw_text_space', metric_name= 'cer')\n",
    "gold_bln_df= evaluate_model(df = gold_bln_df, metric_obj = wer, gt_text = 'content', post_lm_text = 'raw_text_space', metric_name= 'wer')"
   ]
  },
  {
   "cell_type": "code",
   "execution_count": 12,
   "metadata": {},
   "outputs": [
    {
     "data": {
      "text/plain": [
       "<Axes: xlabel='cer', ylabel='wer'>"
      ]
     },
     "execution_count": 12,
     "metadata": {},
     "output_type": "execute_result"
    },
    {
     "data": {
      "image/png": "[encoded data removed]",
      "text/plain": [
       "<Figure size 640x480 with 1 Axes>"
      ]
     },
     "metadata": {},
     "output_type": "display_data"
    }
   ],
   "source": [
    "sns.scatterplot(data = gold_bln_df, y = 'wer', x = 'cer')"
   ]
  },
  {
   "cell_type": "markdown",
   "metadata": {},
   "source": [
    "## CLOCR-C dataset"
   ]
  },
  {
   "cell_type": "markdown",
   "metadata": {},
   "source": [
    "# Create single dataset\n",
    "\n"
   ]
  },
  {
   "cell_type": "code",
   "execution_count": null,
   "metadata": {},
   "outputs": [],
   "source": []
  },
  {
   "cell_type": "code",
   "execution_count": 26,
   "metadata": {},
   "outputs": [
    {
     "name": "stdout",
     "output_type": "stream",
     "text": [
      "tokens_short        390667\n",
      "tokens_raw_short    438800\n",
      "dtype: int64\n"
     ]
    },
    {
     "data": {
      "text/plain": [
       "(719, 12)"
      ]
     },
     "execution_count": 26,
     "metadata": {},
     "output_type": "execute_result"
    }
   ],
   "source": [
    "gold_1000_df = pd.concat([gold_smh_df, gold_ca_df, gold_bln_df])\n",
    "\n",
    "\n",
    "gold_1000_df= evaluate_model(df = gold_1000_df, metric_obj = cer, gt_text = 'content', post_lm_text = 'raw_text_space', metric_name= 'cer')\n",
    "gold_1000_df= evaluate_model(df = gold_1000_df, metric_obj = wer, gt_text = 'content', post_lm_text = 'raw_text_space', metric_name= 'wer')\n",
    "\n",
    "print(gold_1000_df[['tokens_short', 'tokens_raw_short']].sum())\n",
    "\n",
    "gold_1000_df.shape"
   ]
  },
  {
   "cell_type": "code",
   "execution_count": 29,
   "metadata": {},
   "outputs": [
    {
     "data": {
      "text/plain": [
       "<Axes: xlabel='cer', ylabel='wer'>"
      ]
     },
     "execution_count": 29,
     "metadata": {},
     "output_type": "execute_result"
    },
    {
     "data": {
      "image/png": "[encoded data removed]",
      "text/plain": [
       "<Figure size 640x480 with 1 Axes>"
      ]
     },
     "metadata": {},
     "output_type": "display_data"
    }
   ],
   "source": [
    "sns.kdeplot(data = gold_1000_df, y = 'wer', x = 'cer')"
   ]
  },
  {
   "cell_type": "code",
   "execution_count": 34,
   "metadata": {},
   "outputs": [
    {
     "data": {
      "text/plain": [
       "<Axes: xlabel='cer', ylabel='Density'>"
      ]
     },
     "execution_count": 34,
     "metadata": {},
     "output_type": "execute_result"
    },
    {
     "data": {
      "image/png": "[encoded data removed]",
      "text/plain": [
       "<Figure size 640x480 with 1 Axes>"
      ]
     },
     "metadata": {},
     "output_type": "display_data"
    }
   ],
   "source": [
    "sns.kdeplot(data = gold_1000_df, x = 'cer', hue='type')"
   ]
  },
  {
   "cell_type": "markdown",
   "metadata": {},
   "source": [
    "# Create line level dataset\n",
    "\n",
    "This approach splits the line level datasets into smaller chunks to create more observations. The data is split into non-overlapping groups of at least 5"
   ]
  },
  {
   "cell_type": "code",
   "execution_count": 12,
   "metadata": {},
   "outputs": [],
   "source": [
    "\n",
    "def replace_single_newline(text):\n",
    "    return re.sub(r'(?<!\\n)\\n(?!\\n)', ' ', text)\n",
    "\n",
    "def split_rows(df, num_rows = 5, text_var = 'article_text'):\n",
    "    new_rows = []\n",
    "    \n",
    "    for _, row in df.iterrows():\n",
    "        content_lines = row[text_var].split('\\n')\n",
    "        num_groups = len(content_lines) // num_rows\n",
    "        \n",
    "        for i in range(num_groups):\n",
    "            start_row = i * num_rows\n",
    "            end_row = (i + 1) * num_rows\n",
    "            group_lines = content_lines[start_row:end_row]\n",
    "            \n",
    "            new_row = {\n",
    "                'file_name': row['file_name'],\n",
    "                text_var: '\\n'.join(group_lines),\n",
    "                'start_row': start_row,\n",
    "                'end_row': end_row\n",
    "            }\n",
    "            new_rows.append(new_row)\n",
    "    \n",
    "    new_df = pd.DataFrame(new_rows)\n",
    "    new_df[text_var] = new_df[text_var].str.replace(r\"-\\n\", \"\", regex=True)\\\n",
    "                                    .str.replace(r\"(?<!\\n)\\n(?!\\n)\", \" \", regex=True)\\\n",
    "                                    .str.replace(r\"\\n{2,}\", \"\\n\", regex=True)\n",
    "    new_df['id2'] = new_df['file_name'].str.replace(\".txt\", \"\")\n",
    "    new_df['id'] = new_df['id2'] + \"_lines_\" + new_df['start_row'].astype(str) + \"_\" + new_df['end_row'].astype(str) \n",
    "    new_df['file_name'] = new_df['id'] + \".txt\" \n",
    "    return new_df\n",
    "\n",
    "def create_split_row_dataset(gt_path, raw_path, num_rows, tokenizer):\n",
    "\n",
    "    df = load_gt_and_raw_text(gt_path , raw_path )\n",
    "\n",
    "    df_split = split_rows(df, num_rows=num_rows, text_var = 'article_text')\n",
    "\n",
    "    df_split['tokens'] = df_split['article_text'].apply(lambda x:len(tokenizer.encode(x)))\n",
    "\n",
    "    df_split_raw = split_rows(df, num_rows=num_rows, text_var = 'raw_text')\n",
    "\n",
    "    df_split_raw['tokens_raw'] = df_split_raw['raw_text'].apply(lambda x:len(tokenizer.encode(x)))\n",
    "\n",
    "    df_split = df_split.merge(df_split_raw.set_index(['start_row', 'end_row', 'id2']).drop(columns = ['id', 'file_name']), \n",
    "                                                left_on = ['start_row', 'end_row', 'id2'], right_index=True)\n",
    "    \n",
    "    return df_split"
   ]
  },
  {
   "cell_type": "code",
   "execution_count": 15,
   "metadata": {},
   "outputs": [],
   "source": [
    "num_rows = 5\n",
    "#smh silver\n",
    "\n",
    "silver_smh_df_split = create_split_row_dataset('data/overproof/SMH/dataset1_article_level/corrected', 'data/overproof/SMH/dataset1_article_level/raw', num_rows, tokenizer)\n",
    "\n",
    "#smh gold\n",
    "gold_smh_df_split = create_split_row_dataset('data/overproof/SMH/article_level/corrected', 'data/overproof/SMH/article_level/raw', num_rows, tokenizer)\n",
    "\n",
    "#ca gold\n",
    "\n",
    "gold_ca_df_split =  create_split_row_dataset('data/overproof/CA/article_level/corrected','data/overproof/CA/article_level/raw', num_rows, tokenizer)\n",
    "\n",
    "#BLN600\n",
    "bln600_seq = pd.read_csv('./data/BLN600/ocr_paper_data/train.csv')\n",
    "\n",
    "bln600_seq['tokens'] = bln600_seq['Ground Truth'].apply(lambda x: len(tokenizer.encode(x)))\n",
    "bln600_seq = bln600_seq.rename(columns={'Ground Truth':\"article_text\", \"OCR Text\":\"raw_text\", \"Sample ID\":\"file_name\"})\n",
    "bln600_seq = bln600_seq[['article_text', 'file_name', 'raw_text']]\n",
    "\n",
    "bln600_seq_test  = pd.read_csv('./data/BLN600/ocr_paper_data/test.csv')\n",
    "\n",
    "bln600_seq_test ['tokens'] = bln600_seq_test ['Ground Truth'].apply(lambda x: len(tokenizer.encode(x)))\n",
    "bln600_seq_test  = bln600_seq_test .rename(columns={'Ground Truth':\"article_text\", \"OCR Text\":\"raw_text\", \"Sample ID\":\"file_name\"})\n",
    "bln600_seq_test  = bln600_seq_test [['article_text', 'file_name', 'raw_text']]\n",
    "bln600_seq_test  = bln600_seq_test.astype(str)\n",
    "\n",
    "split_line_data = pd.concat([gold_ca_df_split, gold_smh_df_split, ])[['id', 'article_text', 'raw_text']].rename(columns = {'id':'file_name'})\n",
    "\n",
    "# with bln data\n",
    "large_gold_data = pd.concat([bln600_seq,split_line_data])\n",
    "large_gold_data['article_text'] = large_gold_data['article_text'].apply(replace_single_newline)\n",
    "large_gold_data['raw_text'] = large_gold_data['raw_text'].apply(replace_single_newline)\n",
    "large_gold_data = large_gold_data.astype(str)\n"
   ]
  },
  {
   "cell_type": "code",
   "execution_count": 31,
   "metadata": {},
   "outputs": [],
   "source": [
    "large_gold_data = DatasetDict(\n",
    "    {\n",
    "        'train':Dataset.from_pandas(large_gold_data),\n",
    "        'test':Dataset.from_pandas(bln600_seq_test)\n",
    "        }\n",
    "    )\n",
    "\n"
   ]
  },
  {
   "cell_type": "markdown",
   "metadata": {},
   "source": [
    "## Create NCSE test set"
   ]
  },
  {
   "cell_type": "code",
   "execution_count": 51,
   "metadata": {},
   "outputs": [
    {
     "data": {
      "application/vnd.jupyter.widget-view+json": {
       "model_id": "9d6144265c874a2a8cfa46ea498af73a",
       "version_major": 2,
       "version_minor": 0
      },
      "text/plain": [
       "Saving the dataset (0/1 shards):   0%|          | 0/91 [00:00<?, ? examples/s]"
      ]
     },
     "metadata": {},
     "output_type": "display_data"
    }
   ],
   "source": [
    "\n",
    "ncse_df = load_txt_files_to_df(\"./data/transcripts/transcription_files\")\n",
    "\n",
    "raw_ocr_df = load_txt_files_to_df(\"./data/transcripts/transcription_raw_ocr\")\n",
    "raw_ocr_df = raw_ocr_df.rename(columns={'article_text':'raw_text'})\n",
    "ncse_df = ncse_df.merge(raw_ocr_df, on = 'file_name')\n",
    "ncse_df['article_text']= ncse_df['article_text'].str.replace(r\"\\n\", \" \", regex=True)\n",
    "\n",
    "Dataset.from_pandas(ncse_df).save_to_disk(\"./data/ncse_hf_dataset\")\n"
   ]
  },
  {
   "cell_type": "code",
   "execution_count": 50,
   "metadata": {},
   "outputs": [
    {
     "data": {
      "text/plain": [
       "Dataset({\n",
       "    features: ['article_text', 'file_name', 'raw_text'],\n",
       "    num_rows: 91\n",
       "})"
      ]
     },
     "execution_count": 50,
     "metadata": {},
     "output_type": "execute_result"
    }
   ],
   "source": []
  },
  {
   "cell_type": "code",
   "execution_count": 44,
   "metadata": {},
   "outputs": [],
   "source": [
    "\n",
    "\n",
    "def gen_batches_train(ds):\n",
    "\n",
    "\n",
    "\n",
    "    for sample in iter(ds):\n",
    "\n",
    "\n",
    "        # Extract instruction and input from the sample\n",
    "        instruction = \"You are an expert in post-OCR correction of historical newspapers. Your task is to carefully examine the following text and correct any mistakes introduced by the OCR software. Do not write anything else than the corrected text.\"\n",
    "        input_text = str(sample['article_text'])\n",
    "        out_text = str(sample['raw_text'])\n",
    "        formatted_prompt = None \n",
    "            \n",
    "        formatted_prompt = (\n",
    "            f\"<|begin_of_text|><|start_header_id|>user<|end_header_id|>\\n\\n\"\n",
    "            f\"Below is an instruction that describes a task. Write a response that appropriately completes the request.\\n\\n### Instruction:\\n{instruction}\\n\\n### Input:\\n{input_text}\\n\\n### Response:\\n\"\n",
    "            f\"<|eot_id|><|start_header_id|>asssitant<|end_header_id|>\\n\\n\"\n",
    "            f\"{str(out_text)}\"\n",
    "            f\"<|eot_id|><|end_of_text|>\"\n",
    "        )\n",
    "        \n",
    "        formatted_prompt = \"\".join(formatted_prompt)\n",
    "        return {'text': formatted_prompt}\n",
    "\n",
    "\n",
    "def promp_formatter(sample):\n",
    "\n",
    "        instruction = \"You are an expert in post-OCR correction of historical newspapers. Your task is to carefully examine the following text and correct any mistakes introduced by the OCR software. Do not write anything else than the corrected text.\"\n",
    "        input_text = str(sample['article_text'])\n",
    "        out_text = str(sample['raw_text'])\n",
    "        formatted_prompt = None \n",
    "            \n",
    "        formatted_prompt = (\n",
    "            f\"<|begin_of_text|><|start_header_id|>user<|end_header_id|>\\n\\n\"\n",
    "            f\"Below is an instruction that describes a task. Write a response that appropriately completes the request.\\n\\n### Instruction:\\n{instruction}\\n\\n### Input:\\n{input_text}\\n\\n### Response:\\n\"\n",
    "            f\"<|eot_id|><|start_header_id|>asssitant<|end_header_id|>\\n\\n\"\n",
    "            f\"{str(out_text)}\"\n",
    "            f\"<|eot_id|><|end_of_text|>\"\n",
    "        )\n",
    "        \n",
    "        formatted_prompt = \"\".join(formatted_prompt)\n",
    "        return {'text': formatted_prompt}\n",
    "\n"
   ]
  },
  {
   "cell_type": "code",
   "execution_count": 46,
   "metadata": {},
   "outputs": [
    {
     "data": {
      "application/vnd.jupyter.widget-view+json": {
       "model_id": "b88fc8445eca4ea8bfff22ab8b0c4f63",
       "version_major": 2,
       "version_minor": 0
      },
      "text/plain": [
       "Map:   0%|          | 0/12492 [00:00<?, ? examples/s]"
      ]
     },
     "metadata": {},
     "output_type": "display_data"
    },
    {
     "data": {
      "application/vnd.jupyter.widget-view+json": {
       "model_id": "34e88ee5f15c453d8d4e784071a59c20",
       "version_major": 2,
       "version_minor": 0
      },
      "text/plain": [
       "Map:   0%|          | 0/2792 [00:00<?, ? examples/s]"
      ]
     },
     "metadata": {},
     "output_type": "display_data"
    }
   ],
   "source": [
    "test = large_gold_data.map(promp_formatter)"
   ]
  },
  {
   "cell_type": "code",
   "execution_count": 48,
   "metadata": {},
   "outputs": [
    {
     "data": {
      "text/plain": [
       "\"<|begin_of_text|><|start_header_id|>user<|end_header_id|>\\n\\nBelow is an instruction that describes a task. Write a response that appropriately completes the request.\\n\\n### Instruction:\\nYou are an expert in post-OCR correction of historical newspapers. Your task is to carefully examine the following text and correct any mistakes introduced by the OCR software. Do not write anything else than the corrected text.\\n\\n### Input:\\nROBBERY AT A BARONETS.\\n\\n### Response:\\n<|eot_id|><|start_header_id|>asssitant<|end_header_id|>\\n\\n__RO BBERY AT A BARONET'S.<|eot_id|><|end_of_text|>\""
      ]
     },
     "execution_count": 48,
     "metadata": {},
     "output_type": "execute_result"
    }
   ],
   "source": [
    "test['train'][0]['text']"
   ]
  },
  {
   "cell_type": "code",
   "execution_count": 20,
   "metadata": {},
   "outputs": [],
   "source": [
    "\n",
    "large_gold_data.to_parquet('./data/large_gold_data.parquet')"
   ]
  },
  {
   "cell_type": "code",
   "execution_count": 34,
   "metadata": {},
   "outputs": [
    {
     "data": {
      "application/vnd.jupyter.widget-view+json": {
       "model_id": "14c653bcb20d42289d56a8257d47551f",
       "version_major": 2,
       "version_minor": 0
      },
      "text/plain": [
       "Saving the dataset (0/1 shards):   0%|          | 0/12492 [00:00<?, ? examples/s]"
      ]
     },
     "metadata": {},
     "output_type": "display_data"
    },
    {
     "data": {
      "application/vnd.jupyter.widget-view+json": {
       "model_id": "531f7ad23d634783802098514b9a14d1",
       "version_major": 2,
       "version_minor": 0
      },
      "text/plain": [
       "Saving the dataset (0/1 shards):   0%|          | 0/2792 [00:00<?, ? examples/s]"
      ]
     },
     "metadata": {},
     "output_type": "display_data"
    }
   ],
   "source": [
    "large_gold_data.save_to_disk(\"./data/large_gold_data\")#.to_csv('./data/large_gold_data.csv')"
   ]
  },
  {
   "cell_type": "code",
   "execution_count": 85,
   "metadata": {},
   "outputs": [
    {
     "data": {
      "text/plain": [
       "'day people had to Wait for over an hour for their mail while the gentle man would talk with any person of influence that would happen along and would not allow tho clerks to'"
      ]
     },
     "execution_count": 85,
     "metadata": {},
     "output_type": "execute_result"
    }
   ],
   "source": [
    "gold_ca_df_split.loc[5,'raw_text']"
   ]
  },
  {
   "cell_type": "code",
   "execution_count": 115,
   "metadata": {},
   "outputs": [
    {
     "name": "stdout",
     "output_type": "stream",
     "text": [
      "(2092, 3)\n"
     ]
    },
    {
     "data": {
      "text/plain": [
       "Series([], dtype: float64)"
      ]
     },
     "execution_count": 115,
     "metadata": {},
     "output_type": "execute_result"
    }
   ],
   "source": [
    "\n",
    "\n",
    "\n",
    "print(split_line_data.shape)\n",
    "split_line_data.filter(regex = 'tokens').sum()"
   ]
  },
  {
   "cell_type": "markdown",
   "metadata": {},
   "source": [
    "# Fine Tune GPT4o-mini\n",
    "\n",
    "GPT40-mini is free to fine tune for the next couple of months, it is worth testing it out as if it gets good results using it on batch is so cheap that recovering the dataset using it would be worth it."
   ]
  },
  {
   "cell_type": "code",
   "execution_count": 61,
   "metadata": {},
   "outputs": [
    {
     "data": {
      "text/html": [
       "<div>\n",
       "<style scoped>\n",
       "    .dataframe tbody tr th:only-of-type {\n",
       "        vertical-align: middle;\n",
       "    }\n",
       "\n",
       "    .dataframe tbody tr th {\n",
       "        vertical-align: top;\n",
       "    }\n",
       "\n",
       "    .dataframe thead th {\n",
       "        text-align: right;\n",
       "    }\n",
       "</style>\n",
       "<table border=\"1\" class=\"dataframe\">\n",
       "  <thead>\n",
       "    <tr style=\"text-align: right;\">\n",
       "      <th></th>\n",
       "      <th>article_text</th>\n",
       "      <th>file_name</th>\n",
       "      <th>raw_text</th>\n",
       "    </tr>\n",
       "  </thead>\n",
       "  <tbody>\n",
       "    <tr>\n",
       "      <th>0</th>\n",
       "      <td>THE ALLEGED CHARITY FRAUDS.\\n\\nAt Bow-street p...</td>\n",
       "      <td>3206244076.txt</td>\n",
       "      <td>THE ALLEGED CHARITY FRPAUDS. At ]3ow-strecb ro...</td>\n",
       "    </tr>\n",
       "    <tr>\n",
       "      <th>1</th>\n",
       "      <td>RELIGION NOT THE FOF OF ENJOYMENT.\\n\\nEven Jes...</td>\n",
       "      <td>3206320475.txt</td>\n",
       "      <td>It.RFL[GION KOT THE Fon o~ N3TO!IENT: Even Jee...</td>\n",
       "    </tr>\n",
       "    <tr>\n",
       "      <th>2</th>\n",
       "      <td>EXPLOSION ON THE THAMES.\\n\\nAbout nine o'clock...</td>\n",
       "      <td>3206232857.txt</td>\n",
       "      <td>- EkPLOMON ON THE THAMES-. 3 About nine o'cloc...</td>\n",
       "    </tr>\n",
       "    <tr>\n",
       "      <th>3</th>\n",
       "      <td>APPREHENDED ON THE HONEYMOON.\\n\\nAT the Kingst...</td>\n",
       "      <td>3200810285.txt</td>\n",
       "      <td>APP=B2NDED ON TEH&amp;: HONZI0N- AT the lRi:gston-...</td>\n",
       "    </tr>\n",
       "    <tr>\n",
       "      <th>4</th>\n",
       "      <td>LATEST FOREIGN NEWS.\\n\\nLLOYD'S WEEKLY NEWSPAP...</td>\n",
       "      <td>3206200618.txt</td>\n",
       "      <td>LATEST FOREIGN NEWS. LLOYD'S WEEKLY NEWSPAPER ...</td>\n",
       "    </tr>\n",
       "    <tr>\n",
       "      <th>...</th>\n",
       "      <td>...</td>\n",
       "      <td>...</td>\n",
       "      <td>...</td>\n",
       "    </tr>\n",
       "    <tr>\n",
       "      <th>154</th>\n",
       "      <td>EARTHQUAKE NEAR ALICE SPRINGS. RECORDED IN SYD...</td>\n",
       "      <td>27945000_year_1941_type_Article_title_The_Sydn...</td>\n",
       "      <td>EARTHQUAKE NEAR ALICE SPRINGS. RECORDED IN SYD...</td>\n",
       "    </tr>\n",
       "    <tr>\n",
       "      <th>155</th>\n",
       "      <td>MR. ALEXANDER VEITCH. Many of the bowlers and ...</td>\n",
       "      <td>16443000_year_1928_type_Article_title_The_Sydn...</td>\n",
       "      <td>MR. ALEXANDER VEITCH. Many of the hotvlors nnd...</td>\n",
       "    </tr>\n",
       "    <tr>\n",
       "      <th>156</th>\n",
       "      <td>Magistrate Bars Mr. Evatt -- Mr Beavers, S.M.,...</td>\n",
       "      <td>18235000_year_1951_type_Article_title_The_Sydn...</td>\n",
       "      <td>Magistrate Bars Mr. Evatt -1 Mr Beavers, S.M.,...</td>\n",
       "    </tr>\n",
       "    <tr>\n",
       "      <th>157</th>\n",
       "      <td>SHIPPING INTELLIGENCE. ARRIVALS. OCTOBER 4.- M...</td>\n",
       "      <td>12931000_year_1851_type_Article_title_The_Sydn...</td>\n",
       "      <td>SHIPPING INTELLIGENCE. ARRIVALS. OCTOBER 4.-Ma...</td>\n",
       "    </tr>\n",
       "    <tr>\n",
       "      <th>158</th>\n",
       "      <td>\"EQUALISING MISERY\" Mr. Churchill said that a ...</td>\n",
       "      <td>27582000_year_1950_type_Article_title_The_Sydn...</td>\n",
       "      <td>\"EQUALISING MISERY\" ' Mr. Churchill said that ...</td>\n",
       "    </tr>\n",
       "  </tbody>\n",
       "</table>\n",
       "<p>805 rows × 3 columns</p>\n",
       "</div>"
      ],
      "text/plain": [
       "                                          article_text  \\\n",
       "0    THE ALLEGED CHARITY FRAUDS.\\n\\nAt Bow-street p...   \n",
       "1    RELIGION NOT THE FOF OF ENJOYMENT.\\n\\nEven Jes...   \n",
       "2    EXPLOSION ON THE THAMES.\\n\\nAbout nine o'clock...   \n",
       "3    APPREHENDED ON THE HONEYMOON.\\n\\nAT the Kingst...   \n",
       "4    LATEST FOREIGN NEWS.\\n\\nLLOYD'S WEEKLY NEWSPAP...   \n",
       "..                                                 ...   \n",
       "154  EARTHQUAKE NEAR ALICE SPRINGS. RECORDED IN SYD...   \n",
       "155  MR. ALEXANDER VEITCH. Many of the bowlers and ...   \n",
       "156  Magistrate Bars Mr. Evatt -- Mr Beavers, S.M.,...   \n",
       "157  SHIPPING INTELLIGENCE. ARRIVALS. OCTOBER 4.- M...   \n",
       "158  \"EQUALISING MISERY\" Mr. Churchill said that a ...   \n",
       "\n",
       "                                             file_name  \\\n",
       "0                                       3206244076.txt   \n",
       "1                                       3206320475.txt   \n",
       "2                                       3206232857.txt   \n",
       "3                                       3200810285.txt   \n",
       "4                                       3206200618.txt   \n",
       "..                                                 ...   \n",
       "154  27945000_year_1941_type_Article_title_The_Sydn...   \n",
       "155  16443000_year_1928_type_Article_title_The_Sydn...   \n",
       "156  18235000_year_1951_type_Article_title_The_Sydn...   \n",
       "157  12931000_year_1851_type_Article_title_The_Sydn...   \n",
       "158  27582000_year_1950_type_Article_title_The_Sydn...   \n",
       "\n",
       "                                              raw_text  \n",
       "0    THE ALLEGED CHARITY FRPAUDS. At ]3ow-strecb ro...  \n",
       "1    It.RFL[GION KOT THE Fon o~ N3TO!IENT: Even Jee...  \n",
       "2    - EkPLOMON ON THE THAMES-. 3 About nine o'cloc...  \n",
       "3    APP=B2NDED ON TEH&: HONZI0N- AT the lRi:gston-...  \n",
       "4    LATEST FOREIGN NEWS. LLOYD'S WEEKLY NEWSPAPER ...  \n",
       "..                                                 ...  \n",
       "154  EARTHQUAKE NEAR ALICE SPRINGS. RECORDED IN SYD...  \n",
       "155  MR. ALEXANDER VEITCH. Many of the hotvlors nnd...  \n",
       "156  Magistrate Bars Mr. Evatt -1 Mr Beavers, S.M.,...  \n",
       "157  SHIPPING INTELLIGENCE. ARRIVALS. OCTOBER 4.-Ma...  \n",
       "158  \"EQUALISING MISERY\" ' Mr. Churchill said that ...  \n",
       "\n",
       "[805 rows x 3 columns]"
      ]
     },
     "execution_count": 61,
     "metadata": {},
     "output_type": "execute_result"
    }
   ],
   "source": [
    "base_gold_data"
   ]
  },
  {
   "cell_type": "code",
   "execution_count": 74,
   "metadata": {},
   "outputs": [],
   "source": [
    "BLN_df = load_txt_files_to_df('data/BLN600/Ground Truth').merge(\n",
    "    load_txt_files_to_df('data/BLN600/OCR Text').set_index('file_name').rename(columns = {'article_text':'raw_text'}), left_on = 'file_name', right_index=True\n",
    ")\n",
    "\n",
    "\n",
    "CA_df = load_txt_files_to_df('data/overproof/CA/article_level/corrected').merge(\n",
    "    load_txt_files_to_df('data/overproof/CA/article_level/raw').set_index('file_name').rename(columns = {'article_text':'raw_text'}), left_on = 'file_name', right_index=True\n",
    ")\n",
    "\n",
    "silver_SMH_df = load_txt_files_to_df('data/overproof/SMH/dataset1_article_level/corrected').merge(\n",
    "    load_txt_files_to_df('data/overproof/SMH/dataset1_article_level/raw').set_index('file_name').rename(columns = {'article_text':'raw_text'}), left_on = 'file_name', right_index=True\n",
    ")\n",
    "\n",
    "gold_SMH_df = load_txt_files_to_df('data/overproof/SMH/article_level/corrected').merge(\n",
    "    load_txt_files_to_df('data/overproof/SMH/article_level/raw').set_index('file_name').rename(columns = {'article_text':'raw_text'}), left_on = 'file_name', right_index=True\n",
    ")\n",
    "\n",
    "\n",
    "#used for validation/test\n",
    "ncse_df = load_txt_files_to_df('data/transcripts/transcription_files').merge(\n",
    "    load_txt_files_to_df('data/transcripts/transcription_raw_ocr').set_index('file_name').rename(columns = {'article_text':'raw_text'}), left_on = 'file_name', right_index=True\n",
    ")\n",
    "\n",
    "\n",
    "base_silver_data = pd.concat([BLN_df, CA_df, silver_SMH_df])\n",
    "base_silver_data['article_text'] = base_silver_data['article_text'].apply(replace_single_newline)\n",
    "base_silver_data['raw_text'] = base_silver_data['raw_text'].apply(replace_single_newline)\n",
    "\n",
    "\n",
    "#smaller but higher quality\n",
    "base_gold_data = pd.concat([BLN_df, CA_df, gold_SMH_df])\n",
    "base_gold_data['article_text'] = base_gold_data['article_text'].apply(replace_single_newline)\n",
    "base_gold_data['raw_text'] = base_gold_data['raw_text'].apply(replace_single_newline)\n",
    "\n",
    "\n",
    "#Create the NCSE set as test\n",
    "ncse_df['article_text'] = ncse_df['article_text'].apply(replace_single_newline)\n",
    "ncse_df['raw_text'] = ncse_df['raw_text'].apply(replace_single_newline)"
   ]
  },
  {
   "cell_type": "code",
   "execution_count": 63,
   "metadata": {},
   "outputs": [],
   "source": []
  },
  {
   "cell_type": "code",
   "execution_count": 77,
   "metadata": {},
   "outputs": [
    {
     "data": {
      "text/plain": [
       "np.int64(260138)"
      ]
     },
     "execution_count": 77,
     "metadata": {},
     "output_type": "execute_result"
    }
   ],
   "source": [
    "large_gold_data['article_text'].apply(lambda x:len(tokenizer.encode(x))).sum()"
   ]
  },
  {
   "cell_type": "code",
   "execution_count": 79,
   "metadata": {},
   "outputs": [],
   "source": [
    "def create_training_jsonl(df, system_content, output_file):\n",
    "    \"\"\"\n",
    "    Create a JSONL file for fine tuning a gpt model.\n",
    "\n",
    "    Parameters:\n",
    "    df (pd.DataFrame): DataFrame containing the input and output text.\n",
    "    system_content (str): The content for the system message.\n",
    "    output_file (str): The path to the output JSONL file.\n",
    "    \"\"\"\n",
    "    with open(output_file, 'w') as file:\n",
    "        for _, row in df.iterrows():\n",
    "            messages = [\n",
    "                {\"role\": \"system\", \"content\": system_content},\n",
    "                {\"role\": \"user\", \"content\": row['raw_text']},\n",
    "                {\"role\": \"assistant\", \"content\": row[\"article_text\"]}\n",
    "            ]\n",
    "            # Write each JSON object as a separate line in the JSONL file\n",
    "            file.write(json.dumps({'messages':messages}) + '\\n')"
   ]
  },
  {
   "cell_type": "code",
   "execution_count": 80,
   "metadata": {},
   "outputs": [],
   "source": [
    "create_training_jsonl(base_silver_data, silver_instructions_historical,  './data/gpt_mini_training/silver_instructions_historical_training.jsonl')\n",
    "\n",
    "create_training_jsonl(base_gold_data, silver_instructions_historical,  './data/gpt_mini_training/gold_instructions_historical_training.jsonl')\n",
    "\n",
    "create_training_jsonl(large_gold_data, silver_instructions_historical,  './data/gpt_mini_training/large_gold_instructions_historical_training.jsonl')\n",
    "\n",
    "create_training_jsonl(ncse_df,silver_instructions_historical,  './data/gpt_mini_training/ncse_instructions_historical_validation.jsonl')"
   ]
  },
  {
   "cell_type": "code",
   "execution_count": 103,
   "metadata": {},
   "outputs": [],
   "source": [
    "#testing the split data approach as it produces many more observations that are individually easier to to solve\n",
    "create_training_jsonl(split_line_data, silver_instructions_historical,  './data/gpt_mini_training/gold_split_historical_training.jsonl')\n",
    "\n",
    "\n",
    "\n",
    "create_training_jsonl(large_gold_data, silver_instructions_historical,  './data/gpt_mini_training/large_gold_split_historical_training.jsonl')"
   ]
  },
  {
   "cell_type": "code",
   "execution_count": 105,
   "metadata": {},
   "outputs": [
    {
     "name": "stdout",
     "output_type": "stream",
     "text": [
      "Num examples: 12492\n",
      "First example:\n",
      "{'role': 'system', 'content': 'You are an expert in post-OCR correction of historical newspapers. Your task is to carefully examine the following text and correct any mistakes introduced by the OCR software. Do not write anything else than the corrected text.'}\n",
      "{'role': 'user', 'content': \"__RO BBERY AT A BARONET'S.\"}\n",
      "{'role': 'assistant', 'content': 'ROBBERY AT A BARONETS.'}\n"
     ]
    }
   ],
   "source": [
    "data_path =  './data/gpt_mini_training/large_gold_split_historical_training.jsonl'#'./data/gpt_mini_training/gold_instructions_historical_training.jsonl'# './data/gpt_mini_training/silver_instructions_historical_training.jsonl'\n",
    "\n",
    "# Load the dataset\n",
    "with open(data_path, 'r', encoding='utf-8') as f:\n",
    "    dataset = [json.loads(line) for line in f]\n",
    "\n",
    "# Initial dataset stats\n",
    "print(\"Num examples:\", len(dataset))\n",
    "print(\"First example:\")\n",
    "for message in dataset[0][\"messages\"]:\n",
    "    print(message)"
   ]
  },
  {
   "cell_type": "code",
   "execution_count": 118,
   "metadata": {},
   "outputs": [
    {
     "name": "stdout",
     "output_type": "stream",
     "text": [
      "No errors found\n"
     ]
    }
   ],
   "source": [
    "from collections import defaultdict\n",
    "\n",
    "#dataset = ncse_df\n",
    "\n",
    "# Format error checks\n",
    "format_errors = defaultdict(int)\n",
    "\n",
    "for ex in dataset:\n",
    "    if not isinstance(ex, dict):\n",
    "        format_errors[\"data_type\"] += 1\n",
    "        continue\n",
    "        \n",
    "    messages = ex.get(\"messages\", None)\n",
    "    if not messages:\n",
    "        format_errors[\"missing_messages_list\"] += 1\n",
    "        continue\n",
    "        \n",
    "    for message in messages:\n",
    "        if \"role\" not in message or \"content\" not in message:\n",
    "            format_errors[\"message_missing_key\"] += 1\n",
    "        \n",
    "        if any(k not in (\"role\", \"content\", \"name\", \"function_call\", \"weight\") for k in message):\n",
    "            format_errors[\"message_unrecognized_key\"] += 1\n",
    "        \n",
    "        if message.get(\"role\", None) not in (\"system\", \"user\", \"assistant\", \"function\"):\n",
    "            format_errors[\"unrecognized_role\"] += 1\n",
    "            \n",
    "        content = message.get(\"content\", None)\n",
    "        function_call = message.get(\"function_call\", None)\n",
    "        \n",
    "        if (not content and not function_call) or not isinstance(content, str):\n",
    "            format_errors[\"missing_content\"] += 1\n",
    "    \n",
    "    if not any(message.get(\"role\", None) == \"assistant\" for message in messages):\n",
    "        format_errors[\"example_missing_assistant_message\"] += 1\n",
    "\n",
    "if format_errors:\n",
    "    print(\"Found errors:\")\n",
    "    for k, v in format_errors.items():\n",
    "        print(f\"{k}: {v}\")\n",
    "else:\n",
    "    print(\"No errors found\")"
   ]
  },
  {
   "cell_type": "code",
   "execution_count": 106,
   "metadata": {},
   "outputs": [
    {
     "data": {
      "text/plain": [
       "FileObject(id='file-uQyAJuJ5IzdGZvuxgayDmLiL', bytes=7863570, created_at=1722248650, filename='large_gold_split_historical_training.jsonl', object='file', purpose='fine-tune', status='processed', status_details=None)"
      ]
     },
     "execution_count": 106,
     "metadata": {},
     "output_type": "execute_result"
    }
   ],
   "source": [
    "client.files.create(\n",
    "  file=open('./data/gpt_mini_training/large_gold_split_historical_training.jsonl', \"rb\"),\n",
    "  purpose=\"fine-tune\"\n",
    ")\n",
    "\n"
   ]
  },
  {
   "cell_type": "code",
   "execution_count": null,
   "metadata": {},
   "outputs": [],
   "source": [
    "client.files.create(\n",
    "  file=open( './data/gpt_mini_training/ncse_instructions_historical_validation.jsonl', \"rb\"),\n",
    "  purpose=\"fine-tune\"\n",
    ")"
   ]
  },
  {
   "cell_type": "markdown",
   "metadata": {},
   "source": [
    "# Use fine tuned model"
   ]
  },
  {
   "cell_type": "code",
   "execution_count": 147,
   "metadata": {},
   "outputs": [
    {
     "data": {
      "text/html": [
       "<div>\n",
       "<style scoped>\n",
       "    .dataframe tbody tr th:only-of-type {\n",
       "        vertical-align: middle;\n",
       "    }\n",
       "\n",
       "    .dataframe tbody tr th {\n",
       "        vertical-align: top;\n",
       "    }\n",
       "\n",
       "    .dataframe thead th {\n",
       "        text-align: right;\n",
       "    }\n",
       "</style>\n",
       "<table border=\"1\" class=\"dataframe\">\n",
       "  <thead>\n",
       "    <tr style=\"text-align: right;\">\n",
       "      <th></th>\n",
       "      <th>article_text</th>\n",
       "      <th>file_name</th>\n",
       "    </tr>\n",
       "  </thead>\n",
       "  <tbody>\n",
       "    <tr>\n",
       "      <th>0</th>\n",
       "      <td>MONOMANIA . 5 ISCB Ox ? 0 BD \" popped\" at the ...</td>\n",
       "      <td>artid_841530_periodical_ns_issue_vm2-ncseprodu...</td>\n",
       "    </tr>\n",
       "    <tr>\n",
       "      <th>1</th>\n",
       "      <td>* The Plague and the Printing Press : being a ...</td>\n",
       "      <td>artid_751411_periodical_pc_issue_tec_01051889_...</td>\n",
       "    </tr>\n",
       "    <tr>\n",
       "      <th>2</th>\n",
       "      <td>he performed upon diverse of the foremost , wh...</td>\n",
       "      <td>artid_871466_periodical_ns_issue_ns2_02101852_...</td>\n",
       "    </tr>\n",
       "    <tr>\n",
       "      <th>3</th>\n",
       "      <td>be having necessary to tramp for the into hous...</td>\n",
       "      <td>artid_494321_periodical_ewj_issue_ewj_01051860...</td>\n",
       "    </tr>\n",
       "    <tr>\n",
       "      <th>4</th>\n",
       "      <td>tomorrow we are going * to pillage the archbis...</td>\n",
       "      <td>artid_495935_periodical_ewj_issue_ewj_01011860...</td>\n",
       "    </tr>\n",
       "    <tr>\n",
       "      <th>...</th>\n",
       "      <td>...</td>\n",
       "      <td>...</td>\n",
       "    </tr>\n",
       "    <tr>\n",
       "      <th>86</th>\n",
       "      <td>because too much power was placed in the hands...</td>\n",
       "      <td>artid_841528_periodical_ns_issue_vm2-ncseprodu...</td>\n",
       "    </tr>\n",
       "    <tr>\n",
       "      <th>87</th>\n",
       "      <td>^ ^ ^ ^ ^^ ¦ ¦ ¦¦ ¦¦¦¦¦¦¦ ^ ¦¦ ¦ ¦ ^ ^ ¦ ^ ^ ¦...</td>\n",
       "      <td>artid_766218_periodical_pc_issue_tec_01031886_...</td>\n",
       "    </tr>\n",
       "    <tr>\n",
       "      <th>88</th>\n",
       "      <td>Boo &amp;§; and ^ mou ^ ofBoo &amp; £ Miss Braddon avv...</td>\n",
       "      <td>artid_771187_periodical_pc_issue_tec_15091890_...</td>\n",
       "    </tr>\n",
       "    <tr>\n",
       "      <th>89</th>\n",
       "      <td>have been-designed : ihere may therefore be th...</td>\n",
       "      <td>artid_653700_periodical_mruc_issue_vm2-ncsepro...</td>\n",
       "    </tr>\n",
       "    <tr>\n",
       "      <th>90</th>\n",
       "      <td>FOR THE USE OF OUR YOUNG FRIENDS . ( Continued...</td>\n",
       "      <td>artid_802845_periodical_t_issue_ttw_16051868_p...</td>\n",
       "    </tr>\n",
       "  </tbody>\n",
       "</table>\n",
       "<p>91 rows × 2 columns</p>\n",
       "</div>"
      ],
      "text/plain": [
       "                                         article_text  \\\n",
       "0   MONOMANIA . 5 ISCB Ox ? 0 BD \" popped\" at the ...   \n",
       "1   * The Plague and the Printing Press : being a ...   \n",
       "2   he performed upon diverse of the foremost , wh...   \n",
       "3   be having necessary to tramp for the into hous...   \n",
       "4   tomorrow we are going * to pillage the archbis...   \n",
       "..                                                ...   \n",
       "86  because too much power was placed in the hands...   \n",
       "87  ^ ^ ^ ^ ^^ ¦ ¦ ¦¦ ¦¦¦¦¦¦¦ ^ ¦¦ ¦ ¦ ^ ^ ¦ ^ ^ ¦...   \n",
       "88  Boo &§; and ^ mou ^ ofBoo & £ Miss Braddon avv...   \n",
       "89  have been-designed : ihere may therefore be th...   \n",
       "90  FOR THE USE OF OUR YOUNG FRIENDS . ( Continued...   \n",
       "\n",
       "                                            file_name  \n",
       "0   artid_841530_periodical_ns_issue_vm2-ncseprodu...  \n",
       "1   artid_751411_periodical_pc_issue_tec_01051889_...  \n",
       "2   artid_871466_periodical_ns_issue_ns2_02101852_...  \n",
       "3   artid_494321_periodical_ewj_issue_ewj_01051860...  \n",
       "4   artid_495935_periodical_ewj_issue_ewj_01011860...  \n",
       "..                                                ...  \n",
       "86  artid_841528_periodical_ns_issue_vm2-ncseprodu...  \n",
       "87  artid_766218_periodical_pc_issue_tec_01031886_...  \n",
       "88  artid_771187_periodical_pc_issue_tec_15091890_...  \n",
       "89  artid_653700_periodical_mruc_issue_vm2-ncsepro...  \n",
       "90  artid_802845_periodical_t_issue_ttw_16051868_p...  \n",
       "\n",
       "[91 rows x 2 columns]"
      ]
     },
     "execution_count": 147,
     "metadata": {},
     "output_type": "execute_result"
    }
   ],
   "source": [
    "\n",
    "raw_gold_ocr_df \n"
   ]
  },
  {
   "cell_type": "code",
   "execution_count": 107,
   "metadata": {},
   "outputs": [],
   "source": [
    "raw_transcript_oct_folder = './data/transcripts/transcription_raw_ocr'\n",
    "\n",
    "#These are referred to as \"gold\" as this clearly distinguishes the dataset from any dataframes called test or for testing things in general\n",
    "raw_gold_ocr_df = load_txt_files_to_df(raw_transcript_oct_folder)\n",
    "\n",
    "fine_tune_model = 'ft:gpt-4o-mini-2024-07-18:personal:large-gold-v1:9qIvPFOF'\n",
    "\n",
    "create_jsonl_file(raw_gold_ocr_df, fine_tune_model, silver_instructions_historical, 8000, './data/gpt_mini_training/ncse_test_instructions_historical_large_gold_split.jsonl')"
   ]
  },
  {
   "cell_type": "code",
   "execution_count": 108,
   "metadata": {},
   "outputs": [
    {
     "data": {
      "text/plain": [
       "Batch(id='batch_9jdFMN3MvvucPKSxg0jGPD3T', completion_window='24h', created_at=1722253897, endpoint='/v1/chat/completions', input_file_id='file-TmyhsUqpjNgFu01RDrYzwLbO', object='batch', status='validating', cancelled_at=None, cancelling_at=None, completed_at=None, error_file_id=None, errors=None, expired_at=None, expires_at=1722340297, failed_at=None, finalizing_at=None, in_progress_at=None, metadata={'description': 'ft_ncse_test_instructions_historical_large_gold_split'}, output_file_id=None, request_counts=BatchRequestCounts(completed=0, failed=0, total=0))"
      ]
     },
     "execution_count": 108,
     "metadata": {},
     "output_type": "execute_result"
    }
   ],
   "source": [
    "batch_input_file = client.files.create(\n",
    "  file=open( './data/gpt_mini_training/ncse_test_instructions_historical_large_gold_split.jsonl', \"rb\"),\n",
    "  purpose=\"batch\"\n",
    ")\n",
    "\n",
    "batch_input_file_id = batch_input_file.id\n",
    "\n",
    "client.batches.create(\n",
    "    input_file_id=batch_input_file_id,\n",
    "    endpoint=\"/v1/chat/completions\",\n",
    "    completion_window=\"24h\",\n",
    "    metadata={\n",
    "      \"description\": \"ft_ncse_test_instructions_historical_large_gold_split\"\n",
    "    }\n",
    ")"
   ]
  },
  {
   "cell_type": "markdown",
   "metadata": {},
   "source": [
    "# Load the fine tuned results"
   ]
  },
  {
   "cell_type": "code",
   "execution_count": null,
   "metadata": {},
   "outputs": [],
   "source": [
    "def pre_evaluation_processing(df, ground_truth_df, post_lm_text, gt_text ):\n",
    "    df['id'] = df['id'].str.replace('filename_', '')\n",
    "\n",
    "    df = df.merge(ground_truth_df.set_index('file_name'), left_on = 'id', right_index = True)\n",
    "    #df['post_lm_text2'] = df['post_lm_text'].apply(extract_first_match)\n",
    "    df[post_lm_text] = df[post_lm_text].str.replace(\"\\n*\", \" \").str.lower()\n",
    "    df[gt_text] = df[gt_text].str.replace(\"\\n*\", \" \").str.lower()\n",
    "    df.reset_index(inplace=True)\n",
    "\n",
    "    return df"
   ]
  },
  {
   "cell_type": "code",
   "execution_count": 11,
   "metadata": {},
   "outputs": [
    {
     "data": {
      "text/html": [
       "<div>\n",
       "<style scoped>\n",
       "    .dataframe tbody tr th:only-of-type {\n",
       "        vertical-align: middle;\n",
       "    }\n",
       "\n",
       "    .dataframe tbody tr th {\n",
       "        vertical-align: top;\n",
       "    }\n",
       "\n",
       "    .dataframe thead th {\n",
       "        text-align: right;\n",
       "    }\n",
       "</style>\n",
       "<table border=\"1\" class=\"dataframe\">\n",
       "  <thead>\n",
       "    <tr style=\"text-align: right;\">\n",
       "      <th></th>\n",
       "      <th>cer</th>\n",
       "      <th>ERP</th>\n",
       "    </tr>\n",
       "  </thead>\n",
       "  <tbody>\n",
       "    <tr>\n",
       "      <th>count</th>\n",
       "      <td>91.000000</td>\n",
       "      <td>91.000000</td>\n",
       "    </tr>\n",
       "    <tr>\n",
       "      <th>mean</th>\n",
       "      <td>1.334742</td>\n",
       "      <td>-1.230697</td>\n",
       "    </tr>\n",
       "    <tr>\n",
       "      <th>std</th>\n",
       "      <td>5.891574</td>\n",
       "      <td>8.317382</td>\n",
       "    </tr>\n",
       "    <tr>\n",
       "      <th>min</th>\n",
       "      <td>0.000000</td>\n",
       "      <td>-74.935294</td>\n",
       "    </tr>\n",
       "    <tr>\n",
       "      <th>25%</th>\n",
       "      <td>0.017292</td>\n",
       "      <td>-0.045655</td>\n",
       "    </tr>\n",
       "    <tr>\n",
       "      <th>50%</th>\n",
       "      <td>0.135751</td>\n",
       "      <td>0.298439</td>\n",
       "    </tr>\n",
       "    <tr>\n",
       "      <th>75%</th>\n",
       "      <td>0.579506</td>\n",
       "      <td>0.720940</td>\n",
       "    </tr>\n",
       "    <tr>\n",
       "      <th>max</th>\n",
       "      <td>53.123457</td>\n",
       "      <td>1.000000</td>\n",
       "    </tr>\n",
       "  </tbody>\n",
       "</table>\n",
       "</div>"
      ],
      "text/plain": [
       "             cer        ERP\n",
       "count  91.000000  91.000000\n",
       "mean    1.334742  -1.230697\n",
       "std     5.891574   8.317382\n",
       "min     0.000000 -74.935294\n",
       "25%     0.017292  -0.045655\n",
       "50%     0.135751   0.298439\n",
       "75%     0.579506   0.720940\n",
       "max    53.123457   1.000000"
      ]
     },
     "execution_count": 11,
     "metadata": {},
     "output_type": "execute_result"
    }
   ],
   "source": [
    "silver_instructions_between = convert_opanai_jsonl_to_df('data/gpt_mini_training/results_ft_v1_ncse_test_instructions_historical.jsonl')\n",
    "silver_instructions_between = pre_evaluation_processing(silver_instructions_between, corrected_gold_ocr_df, post_lm_text= 'post_lm_text', gt_text = 'article_text' )\n",
    "\n",
    "silver_instructions_between = evaluate_model(df = silver_instructions_between, metric_obj = cer, gt_text = 'article_text', post_lm_text = 'post_lm_text')\n",
    "silver_instructions_between['ERP'] = (silver_instructions_between['cer_orig'] - silver_instructions_between['cer'])/silver_instructions_between['cer_orig'] \n"
   ]
  },
  {
   "cell_type": "code",
   "execution_count": 26,
   "metadata": {},
   "outputs": [
    {
     "data": {
      "text/html": [
       "<div>\n",
       "<style scoped>\n",
       "    .dataframe tbody tr th:only-of-type {\n",
       "        vertical-align: middle;\n",
       "    }\n",
       "\n",
       "    .dataframe tbody tr th {\n",
       "        vertical-align: top;\n",
       "    }\n",
       "\n",
       "    .dataframe thead th {\n",
       "        text-align: right;\n",
       "    }\n",
       "</style>\n",
       "<table border=\"1\" class=\"dataframe\">\n",
       "  <thead>\n",
       "    <tr style=\"text-align: right;\">\n",
       "      <th></th>\n",
       "      <th>index</th>\n",
       "      <th>id</th>\n",
       "      <th>post_lm_text</th>\n",
       "      <th>prompt_tokens</th>\n",
       "      <th>completion_tokens</th>\n",
       "      <th>total_tokens</th>\n",
       "      <th>article_text</th>\n",
       "      <th>cer_orig</th>\n",
       "      <th>cer</th>\n",
       "      <th>ERP</th>\n",
       "    </tr>\n",
       "  </thead>\n",
       "  <tbody>\n",
       "    <tr>\n",
       "      <th>71</th>\n",
       "      <td>71</td>\n",
       "      <td>artid_730702_periodical_pc_issue_tec_15031884_...</td>\n",
       "      <td>[ 14 items by j -r. 3nw pocket part of 5standa...</td>\n",
       "      <td>3689</td>\n",
       "      <td>1259</td>\n",
       "      <td>4948</td>\n",
       "      <td>melun – sister rosalie of the order of charity...</td>\n",
       "      <td>0.722671</td>\n",
       "      <td>0.745128</td>\n",
       "      <td>-0.031075</td>\n",
       "    </tr>\n",
       "    <tr>\n",
       "      <th>54</th>\n",
       "      <td>54</td>\n",
       "      <td>artid_800002_periodical_t_issue_ttw_14091867_p...</td>\n",
       "      <td>( d ' apres malherbe . ) donc un nouveau labou...</td>\n",
       "      <td>336</td>\n",
       "      <td>267</td>\n",
       "      <td>603</td>\n",
       "      <td>les  maires d'arras de lille et d'amiens a l'e...</td>\n",
       "      <td>0.112309</td>\n",
       "      <td>0.107817</td>\n",
       "      <td>0.040000</td>\n",
       "    </tr>\n",
       "    <tr>\n",
       "      <th>90</th>\n",
       "      <td>90</td>\n",
       "      <td>artid_802845_periodical_t_issue_ttw_16051868_p...</td>\n",
       "      <td>for the use of our young friends. ( continued ...</td>\n",
       "      <td>409</td>\n",
       "      <td>330</td>\n",
       "      <td>739</td>\n",
       "      <td>woman's word-book.for the use of our young fri...</td>\n",
       "      <td>0.547142</td>\n",
       "      <td>0.517446</td>\n",
       "      <td>0.054274</td>\n",
       "    </tr>\n",
       "    <tr>\n",
       "      <th>28</th>\n",
       "      <td>28</td>\n",
       "      <td>artid_491860_periodical_ewj_issue_ewj_01081858...</td>\n",
       "      <td>of agencies this world has to survive, alignin...</td>\n",
       "      <td>759</td>\n",
       "      <td>417</td>\n",
       "      <td>1176</td>\n",
       "      <td>gences; this only is the result which shall su...</td>\n",
       "      <td>0.497685</td>\n",
       "      <td>0.467923</td>\n",
       "      <td>0.059801</td>\n",
       "    </tr>\n",
       "    <tr>\n",
       "      <th>55</th>\n",
       "      <td>55</td>\n",
       "      <td>artid_799563_periodical_t_issue_ttw_21121867_p...</td>\n",
       "      <td>dr. culverwell's 19 st martin'sle turkish - gr...</td>\n",
       "      <td>161</td>\n",
       "      <td>90</td>\n",
       "      <td>251</td>\n",
       "      <td>dr. culverwell's turkish baths, removed from 1...</td>\n",
       "      <td>0.738462</td>\n",
       "      <td>0.692308</td>\n",
       "      <td>0.062500</td>\n",
       "    </tr>\n",
       "    <tr>\n",
       "      <th>...</th>\n",
       "      <td>...</td>\n",
       "      <td>...</td>\n",
       "      <td>...</td>\n",
       "      <td>...</td>\n",
       "      <td>...</td>\n",
       "      <td>...</td>\n",
       "      <td>...</td>\n",
       "      <td>...</td>\n",
       "      <td>...</td>\n",
       "      <td>...</td>\n",
       "    </tr>\n",
       "    <tr>\n",
       "      <th>51</th>\n",
       "      <td>51</td>\n",
       "      <td>artid_666934_periodical_mruc_issue_vm2-ncsepro...</td>\n",
       "      <td>become one, or a unity, in the thinking subjec...</td>\n",
       "      <td>889</td>\n",
       "      <td>813</td>\n",
       "      <td>1702</td>\n",
       "      <td>become one, or a unity, in the thinking subjec...</td>\n",
       "      <td>0.035079</td>\n",
       "      <td>0.003869</td>\n",
       "      <td>0.889706</td>\n",
       "    </tr>\n",
       "    <tr>\n",
       "      <th>67</th>\n",
       "      <td>67</td>\n",
       "      <td>artid_409455_periodical_l_issue_cld_30071853_p...</td>\n",
       "      <td>affirming mr. gladstone's resolution, by 117 t...</td>\n",
       "      <td>1417</td>\n",
       "      <td>1225</td>\n",
       "      <td>2642</td>\n",
       "      <td>affirming mr. gladstone's resolution, by 117 t...</td>\n",
       "      <td>0.072973</td>\n",
       "      <td>0.007601</td>\n",
       "      <td>0.895833</td>\n",
       "    </tr>\n",
       "    <tr>\n",
       "      <th>38</th>\n",
       "      <td>38</td>\n",
       "      <td>artid_871467_periodical_ns_issue_ns2_02101852_...</td>\n",
       "      <td>terrible as was never seen or heard of in the ...</td>\n",
       "      <td>189</td>\n",
       "      <td>131</td>\n",
       "      <td>320</td>\n",
       "      <td>terrible as was never seen or heard of in the ...</td>\n",
       "      <td>0.045045</td>\n",
       "      <td>0.003604</td>\n",
       "      <td>0.920000</td>\n",
       "    </tr>\n",
       "    <tr>\n",
       "      <th>15</th>\n",
       "      <td>15</td>\n",
       "      <td>artid_649792_periodical_mruc_issue_vm2-ncsepro...</td>\n",
       "      <td>ingenious and smart but appears to us not to c...</td>\n",
       "      <td>192</td>\n",
       "      <td>123</td>\n",
       "      <td>315</td>\n",
       "      <td>ingenious and smart, but appears to us not to ...</td>\n",
       "      <td>0.064736</td>\n",
       "      <td>0.003407</td>\n",
       "      <td>0.947368</td>\n",
       "    </tr>\n",
       "    <tr>\n",
       "      <th>52</th>\n",
       "      <td>52</td>\n",
       "      <td>artid_800000_periodical_t_issue_ttw_14091867_p...</td>\n",
       "      <td>we are truly sorry to have been the innocent v...</td>\n",
       "      <td>230</td>\n",
       "      <td>176</td>\n",
       "      <td>406</td>\n",
       "      <td>we are truly sorry to have been the innocent v...</td>\n",
       "      <td>0.021327</td>\n",
       "      <td>0.000000</td>\n",
       "      <td>1.000000</td>\n",
       "    </tr>\n",
       "  </tbody>\n",
       "</table>\n",
       "<p>91 rows × 10 columns</p>\n",
       "</div>"
      ],
      "text/plain": [
       "    index                                                 id  \\\n",
       "71     71  artid_730702_periodical_pc_issue_tec_15031884_...   \n",
       "54     54  artid_800002_periodical_t_issue_ttw_14091867_p...   \n",
       "90     90  artid_802845_periodical_t_issue_ttw_16051868_p...   \n",
       "28     28  artid_491860_periodical_ewj_issue_ewj_01081858...   \n",
       "55     55  artid_799563_periodical_t_issue_ttw_21121867_p...   \n",
       "..    ...                                                ...   \n",
       "51     51  artid_666934_periodical_mruc_issue_vm2-ncsepro...   \n",
       "67     67  artid_409455_periodical_l_issue_cld_30071853_p...   \n",
       "38     38  artid_871467_periodical_ns_issue_ns2_02101852_...   \n",
       "15     15  artid_649792_periodical_mruc_issue_vm2-ncsepro...   \n",
       "52     52  artid_800000_periodical_t_issue_ttw_14091867_p...   \n",
       "\n",
       "                                         post_lm_text  prompt_tokens  \\\n",
       "71  [ 14 items by j -r. 3nw pocket part of 5standa...           3689   \n",
       "54  ( d ' apres malherbe . ) donc un nouveau labou...            336   \n",
       "90  for the use of our young friends. ( continued ...            409   \n",
       "28  of agencies this world has to survive, alignin...            759   \n",
       "55  dr. culverwell's 19 st martin'sle turkish - gr...            161   \n",
       "..                                                ...            ...   \n",
       "51  become one, or a unity, in the thinking subjec...            889   \n",
       "67  affirming mr. gladstone's resolution, by 117 t...           1417   \n",
       "38  terrible as was never seen or heard of in the ...            189   \n",
       "15  ingenious and smart but appears to us not to c...            192   \n",
       "52  we are truly sorry to have been the innocent v...            230   \n",
       "\n",
       "    completion_tokens  total_tokens  \\\n",
       "71               1259          4948   \n",
       "54                267           603   \n",
       "90                330           739   \n",
       "28                417          1176   \n",
       "55                 90           251   \n",
       "..                ...           ...   \n",
       "51                813          1702   \n",
       "67               1225          2642   \n",
       "38                131           320   \n",
       "15                123           315   \n",
       "52                176           406   \n",
       "\n",
       "                                         article_text  cer_orig       cer  \\\n",
       "71  melun – sister rosalie of the order of charity...  0.722671  0.745128   \n",
       "54  les  maires d'arras de lille et d'amiens a l'e...  0.112309  0.107817   \n",
       "90  woman's word-book.for the use of our young fri...  0.547142  0.517446   \n",
       "28  gences; this only is the result which shall su...  0.497685  0.467923   \n",
       "55  dr. culverwell's turkish baths, removed from 1...  0.738462  0.692308   \n",
       "..                                                ...       ...       ...   \n",
       "51  become one, or a unity, in the thinking subjec...  0.035079  0.003869   \n",
       "67  affirming mr. gladstone's resolution, by 117 t...  0.072973  0.007601   \n",
       "38  terrible as was never seen or heard of in the ...  0.045045  0.003604   \n",
       "15  ingenious and smart, but appears to us not to ...  0.064736  0.003407   \n",
       "52  we are truly sorry to have been the innocent v...  0.021327  0.000000   \n",
       "\n",
       "         ERP  \n",
       "71 -0.031075  \n",
       "54  0.040000  \n",
       "90  0.054274  \n",
       "28  0.059801  \n",
       "55  0.062500  \n",
       "..       ...  \n",
       "51  0.889706  \n",
       "67  0.895833  \n",
       "38  0.920000  \n",
       "15  0.947368  \n",
       "52  1.000000  \n",
       "\n",
       "[91 rows x 10 columns]"
      ]
     },
     "execution_count": 26,
     "metadata": {},
     "output_type": "execute_result"
    }
   ],
   "source": [
    "silver_instructions_between.sort_values('ERP')"
   ]
  },
  {
   "cell_type": "code",
   "execution_count": 17,
   "metadata": {},
   "outputs": [
    {
     "data": {
      "text/plain": [
       "'foreign books and periodicals messrs sedgwick foreign works and periodicals to the trade 3 westbourne grove mabsto of per , & co the . most liberal supply terms 3a large stock of popular foreign educational , historical , literary , and scientific works always on hand . n . b .-catalogues gratis on application . fast teaii parcels from the continent twice a week , crown buildings , 188 fleet street , e . c . london . for governments, teachers, and brickmakers. the artificial manufacture of brick, by h. m. sptzek. price three pounds.\\n\\nbricks upon the cotton system in frick code. st. louis, dec. 9. - the st. louis brick and glass manufacturing company are working ten kilns on the cotton system. the first was finished two months ago, and the bricks are pronounced a no. 1. it has only been in operating two months, and in that time 500,000 bricks have been made.\\n\\nthe influence of the brick trade. - the annual value of the trade in bricks in the united kingdom is over 7,000,000l., while germany and france each do not half so large a business. labourers make from 3l. to 4l. a week all the year round, and even both men and women in the trade earn much better wages than in any other department of industry. london was making preparations for a great brick exhibit at the international exhibition of 1867. '"
      ]
     },
     "execution_count": 17,
     "metadata": {},
     "output_type": "execute_result"
    }
   ],
   "source": [
    "silver_instructions_between.loc[41, 'post_lm_text']"
   ]
  },
  {
   "cell_type": "code",
   "execution_count": null,
   "metadata": {},
   "outputs": [],
   "source": [
    "silver_instructions_between[['cer', 'ERP']].describe()"
   ]
  },
  {
   "cell_type": "code",
   "execution_count": 34,
   "metadata": {},
   "outputs": [
    {
     "data": {
      "text/html": [
       "<div>\n",
       "<style scoped>\n",
       "    .dataframe tbody tr th:only-of-type {\n",
       "        vertical-align: middle;\n",
       "    }\n",
       "\n",
       "    .dataframe tbody tr th {\n",
       "        vertical-align: top;\n",
       "    }\n",
       "\n",
       "    .dataframe thead th {\n",
       "        text-align: right;\n",
       "    }\n",
       "</style>\n",
       "<table border=\"1\" class=\"dataframe\">\n",
       "  <thead>\n",
       "    <tr style=\"text-align: right;\">\n",
       "      <th></th>\n",
       "      <th>cer</th>\n",
       "      <th>ERP</th>\n",
       "    </tr>\n",
       "  </thead>\n",
       "  <tbody>\n",
       "    <tr>\n",
       "      <th>count</th>\n",
       "      <td>91.000000</td>\n",
       "      <td>91.000000</td>\n",
       "    </tr>\n",
       "    <tr>\n",
       "      <th>mean</th>\n",
       "      <td>0.235390</td>\n",
       "      <td>0.446764</td>\n",
       "    </tr>\n",
       "    <tr>\n",
       "      <th>std</th>\n",
       "      <td>0.248386</td>\n",
       "      <td>0.280869</td>\n",
       "    </tr>\n",
       "    <tr>\n",
       "      <th>min</th>\n",
       "      <td>0.000000</td>\n",
       "      <td>-0.031075</td>\n",
       "    </tr>\n",
       "    <tr>\n",
       "      <th>25%</th>\n",
       "      <td>0.016640</td>\n",
       "      <td>0.192822</td>\n",
       "    </tr>\n",
       "    <tr>\n",
       "      <th>50%</th>\n",
       "      <td>0.107817</td>\n",
       "      <td>0.454183</td>\n",
       "    </tr>\n",
       "    <tr>\n",
       "      <th>75%</th>\n",
       "      <td>0.453857</td>\n",
       "      <td>0.694260</td>\n",
       "    </tr>\n",
       "    <tr>\n",
       "      <th>max</th>\n",
       "      <td>1.161290</td>\n",
       "      <td>1.000000</td>\n",
       "    </tr>\n",
       "  </tbody>\n",
       "</table>\n",
       "</div>"
      ],
      "text/plain": [
       "             cer        ERP\n",
       "count  91.000000  91.000000\n",
       "mean    0.235390   0.446764\n",
       "std     0.248386   0.280869\n",
       "min     0.000000  -0.031075\n",
       "25%     0.016640   0.192822\n",
       "50%     0.107817   0.454183\n",
       "75%     0.453857   0.694260\n",
       "max     1.161290   1.000000"
      ]
     },
     "execution_count": 34,
     "metadata": {},
     "output_type": "execute_result"
    }
   ],
   "source": [
    "silver_instructions_between = convert_opanai_jsonl_to_df('data/gpt_mini_training/result_gold_split.jsonl')\n",
    "silver_instructions_between = pre_evaluation_processing(silver_instructions_between, corrected_gold_ocr_df, post_lm_text= 'post_lm_text', gt_text = 'article_text' )\n",
    "\n",
    "silver_instructions_between = evaluate_model(df = silver_instructions_between, metric_obj = cer, gt_text = 'article_text', post_lm_text = 'post_lm_text')\n",
    "silver_instructions_between['ERP'] = (silver_instructions_between['cer_orig'] - silver_instructions_between['cer'])/silver_instructions_between['cer_orig'] \n",
    "silver_instructions_between[['cer', 'ERP']].describe()"
   ]
  },
  {
   "cell_type": "code",
   "execution_count": 109,
   "metadata": {},
   "outputs": [
    {
     "data": {
      "text/html": [
       "<div>\n",
       "<style scoped>\n",
       "    .dataframe tbody tr th:only-of-type {\n",
       "        vertical-align: middle;\n",
       "    }\n",
       "\n",
       "    .dataframe tbody tr th {\n",
       "        vertical-align: top;\n",
       "    }\n",
       "\n",
       "    .dataframe thead th {\n",
       "        text-align: right;\n",
       "    }\n",
       "</style>\n",
       "<table border=\"1\" class=\"dataframe\">\n",
       "  <thead>\n",
       "    <tr style=\"text-align: right;\">\n",
       "      <th></th>\n",
       "      <th>cer</th>\n",
       "      <th>ERP</th>\n",
       "    </tr>\n",
       "  </thead>\n",
       "  <tbody>\n",
       "    <tr>\n",
       "      <th>count</th>\n",
       "      <td>91.000000</td>\n",
       "      <td>91.000000</td>\n",
       "    </tr>\n",
       "    <tr>\n",
       "      <th>mean</th>\n",
       "      <td>0.273238</td>\n",
       "      <td>0.279623</td>\n",
       "    </tr>\n",
       "    <tr>\n",
       "      <th>std</th>\n",
       "      <td>0.302247</td>\n",
       "      <td>1.260291</td>\n",
       "    </tr>\n",
       "    <tr>\n",
       "      <th>min</th>\n",
       "      <td>0.000000</td>\n",
       "      <td>-10.545322</td>\n",
       "    </tr>\n",
       "    <tr>\n",
       "      <th>25%</th>\n",
       "      <td>0.012378</td>\n",
       "      <td>0.164798</td>\n",
       "    </tr>\n",
       "    <tr>\n",
       "      <th>50%</th>\n",
       "      <td>0.096626</td>\n",
       "      <td>0.438416</td>\n",
       "    </tr>\n",
       "    <tr>\n",
       "      <th>75%</th>\n",
       "      <td>0.501473</td>\n",
       "      <td>0.782271</td>\n",
       "    </tr>\n",
       "    <tr>\n",
       "      <th>max</th>\n",
       "      <td>1.639785</td>\n",
       "      <td>1.000000</td>\n",
       "    </tr>\n",
       "  </tbody>\n",
       "</table>\n",
       "</div>"
      ],
      "text/plain": [
       "             cer        ERP\n",
       "count  91.000000  91.000000\n",
       "mean    0.273238   0.279623\n",
       "std     0.302247   1.260291\n",
       "min     0.000000 -10.545322\n",
       "25%     0.012378   0.164798\n",
       "50%     0.096626   0.438416\n",
       "75%     0.501473   0.782271\n",
       "max     1.639785   1.000000"
      ]
     },
     "execution_count": 109,
     "metadata": {},
     "output_type": "execute_result"
    }
   ],
   "source": [
    "\n",
    "silver_instructions_between = convert_opanai_jsonl_to_df('data/gpt_mini_training/result_gold_large_split.jsonl')\n",
    "silver_instructions_between = pre_evaluation_processing(silver_instructions_between, corrected_gold_ocr_df, post_lm_text= 'post_lm_text', gt_text = 'article_text' )\n",
    "\n",
    "silver_instructions_between = evaluate_model(df = silver_instructions_between, metric_obj = cer, gt_text = 'article_text', post_lm_text = 'post_lm_text')\n",
    "silver_instructions_between['ERP'] = (silver_instructions_between['cer_orig'] - silver_instructions_between['cer'])/silver_instructions_between['cer_orig'] \n",
    "silver_instructions_between[['cer', 'ERP']].describe()"
   ]
  },
  {
   "cell_type": "code",
   "execution_count": 31,
   "metadata": {},
   "outputs": [
    {
     "data": {
      "text/plain": [
       "'dr. culverwell\\'s 19 st martin\\'sle turkish - grand baths , city rd , 3 r removed great marl from the borough tickets , is . 6 d . street twenty , 21 r.s. , saturdays at exeter street , 28 w. —advice single is on ., bath menu gratis , cornhill. dr. c\\'s : medical work , \"ourselves,\"'"
      ]
     },
     "execution_count": 31,
     "metadata": {},
     "output_type": "execute_result"
    }
   ],
   "source": [
    "silver_instructions_between.loc[55, 'post_lm_text']"
   ]
  },
  {
   "cell_type": "code",
   "execution_count": 30,
   "metadata": {},
   "outputs": [
    {
     "data": {
      "text/plain": [
       "'dr. culverwell\\'s turkish baths, removed from 19 st. martin\\'s-le-grand, city, to 3 great marlborough street. regent street, w. – single tickets, 1s. 6d.; twenty, 21s. saturdays, 1s. advice on bath gratis. dr. c\\'s. medical work, \"ourselves,\" is., mann, cornhill.'"
      ]
     },
     "execution_count": 30,
     "metadata": {},
     "output_type": "execute_result"
    }
   ],
   "source": [
    "silver_instructions_between.loc[55, 'article_text']"
   ]
  },
  {
   "cell_type": "code",
   "execution_count": 33,
   "metadata": {},
   "outputs": [
    {
     "data": {
      "text/html": [
       "<div>\n",
       "<style scoped>\n",
       "    .dataframe tbody tr th:only-of-type {\n",
       "        vertical-align: middle;\n",
       "    }\n",
       "\n",
       "    .dataframe tbody tr th {\n",
       "        vertical-align: top;\n",
       "    }\n",
       "\n",
       "    .dataframe thead th {\n",
       "        text-align: right;\n",
       "    }\n",
       "</style>\n",
       "<table border=\"1\" class=\"dataframe\">\n",
       "  <thead>\n",
       "    <tr style=\"text-align: right;\">\n",
       "      <th></th>\n",
       "      <th>index</th>\n",
       "      <th>id</th>\n",
       "      <th>post_lm_text</th>\n",
       "      <th>prompt_tokens</th>\n",
       "      <th>completion_tokens</th>\n",
       "      <th>total_tokens</th>\n",
       "      <th>article_text</th>\n",
       "      <th>cer_orig</th>\n",
       "      <th>cer</th>\n",
       "      <th>ERP</th>\n",
       "    </tr>\n",
       "  </thead>\n",
       "  <tbody>\n",
       "    <tr>\n",
       "      <th>18</th>\n",
       "      <td>18</td>\n",
       "      <td>artid_493911_periodical_ewj_issue_ewj_01031859...</td>\n",
       "      <td>to appoint a successor and associate him with ...</td>\n",
       "      <td>790</td>\n",
       "      <td>822</td>\n",
       "      <td>1612</td>\n",
       "      <td>to appoint a successor and associate him with ...</td>\n",
       "      <td>0.129397</td>\n",
       "      <td>0.852210</td>\n",
       "      <td>-5.586035</td>\n",
       "    </tr>\n",
       "    <tr>\n",
       "      <th>65</th>\n",
       "      <td>65</td>\n",
       "      <td>artid_493205_periodical_ewj_issue_ewj_01051859...</td>\n",
       "      <td>would also sadly not have deficient presented ...</td>\n",
       "      <td>362</td>\n",
       "      <td>549</td>\n",
       "      <td>911</td>\n",
       "      <td>also sadly deficient in visitors, or the neces...</td>\n",
       "      <td>0.553557</td>\n",
       "      <td>1.519215</td>\n",
       "      <td>-1.744461</td>\n",
       "    </tr>\n",
       "    <tr>\n",
       "      <th>88</th>\n",
       "      <td>88</td>\n",
       "      <td>artid_771187_periodical_pc_issue_tec_15091890_...</td>\n",
       "      <td>a  esq. and 5  months of  mr. and mrs. braddon...</td>\n",
       "      <td>1303</td>\n",
       "      <td>1625</td>\n",
       "      <td>2928</td>\n",
       "      <td>books and rumours of booksmiss braddon's new n...</td>\n",
       "      <td>0.705517</td>\n",
       "      <td>1.695172</td>\n",
       "      <td>-1.402737</td>\n",
       "    </tr>\n",
       "    <tr>\n",
       "      <th>79</th>\n",
       "      <td>79</td>\n",
       "      <td>artid_802535_periodical_t_issue_ttw_25011868_p...</td>\n",
       "      <td>ral honest irish manner . we are a-going to ha...</td>\n",
       "      <td>1297</td>\n",
       "      <td>1274</td>\n",
       "      <td>2571</td>\n",
       "      <td>rale honest irish manner. we are a-going to ha...</td>\n",
       "      <td>0.845665</td>\n",
       "      <td>1.665546</td>\n",
       "      <td>-0.969510</td>\n",
       "    </tr>\n",
       "    <tr>\n",
       "      <th>43</th>\n",
       "      <td>43</td>\n",
       "      <td>artid_490621_periodical_ewj_issue_ewj_01091858...</td>\n",
       "      <td>ject before their professional critics. the su...</td>\n",
       "      <td>884</td>\n",
       "      <td>1022</td>\n",
       "      <td>1906</td>\n",
       "      <td>before it: the difficulty seems to be in the w...</td>\n",
       "      <td>0.591636</td>\n",
       "      <td>1.091636</td>\n",
       "      <td>-0.845114</td>\n",
       "    </tr>\n",
       "    <tr>\n",
       "      <th>...</th>\n",
       "      <td>...</td>\n",
       "      <td>...</td>\n",
       "      <td>...</td>\n",
       "      <td>...</td>\n",
       "      <td>...</td>\n",
       "      <td>...</td>\n",
       "      <td>...</td>\n",
       "      <td>...</td>\n",
       "      <td>...</td>\n",
       "      <td>...</td>\n",
       "    </tr>\n",
       "    <tr>\n",
       "      <th>64</th>\n",
       "      <td>64</td>\n",
       "      <td>artid_586631_periodical_l_issue_vm2-ncseproduc...</td>\n",
       "      <td>obituary general sir richard bourke, k.c.b., h...</td>\n",
       "      <td>396</td>\n",
       "      <td>334</td>\n",
       "      <td>730</td>\n",
       "      <td>obituary. general sir richard boirke, k.c.b., ...</td>\n",
       "      <td>0.040055</td>\n",
       "      <td>0.007597</td>\n",
       "      <td>0.810345</td>\n",
       "    </tr>\n",
       "    <tr>\n",
       "      <th>81</th>\n",
       "      <td>81</td>\n",
       "      <td>artid_604837_periodical_mruc_issue_vm2-ncsepro...</td>\n",
       "      <td>portant tenets, and to which therefore they we...</td>\n",
       "      <td>396</td>\n",
       "      <td>309</td>\n",
       "      <td>705</td>\n",
       "      <td>portant light, and to which therefore they wer...</td>\n",
       "      <td>0.056818</td>\n",
       "      <td>0.010732</td>\n",
       "      <td>0.811111</td>\n",
       "    </tr>\n",
       "    <tr>\n",
       "      <th>29</th>\n",
       "      <td>29</td>\n",
       "      <td>artid_604838_periodical_mruc_issue_vm2-ncsepro...</td>\n",
       "      <td>the most part the first converts learned \"the ...</td>\n",
       "      <td>396</td>\n",
       "      <td>309</td>\n",
       "      <td>705</td>\n",
       "      <td>the most part the first “who learned the way o...</td>\n",
       "      <td>0.060013</td>\n",
       "      <td>0.010107</td>\n",
       "      <td>0.831579</td>\n",
       "    </tr>\n",
       "    <tr>\n",
       "      <th>52</th>\n",
       "      <td>52</td>\n",
       "      <td>artid_800000_periodical_t_issue_ttw_14091867_p...</td>\n",
       "      <td>we are truly sorry to have been the innocent v...</td>\n",
       "      <td>230</td>\n",
       "      <td>176</td>\n",
       "      <td>406</td>\n",
       "      <td>we are truly sorry to have been the innocent v...</td>\n",
       "      <td>0.021327</td>\n",
       "      <td>0.003555</td>\n",
       "      <td>0.833333</td>\n",
       "    </tr>\n",
       "    <tr>\n",
       "      <th>39</th>\n",
       "      <td>39</td>\n",
       "      <td>artid_640038_periodical_mruc_issue_vm2-ncsepro...</td>\n",
       "      <td>brated ode of aristotle, on virtue and the pec...</td>\n",
       "      <td>464</td>\n",
       "      <td>402</td>\n",
       "      <td>866</td>\n",
       "      <td>brated ode of aristotle, on virtue; and the pe...</td>\n",
       "      <td>0.028424</td>\n",
       "      <td>0.003618</td>\n",
       "      <td>0.872727</td>\n",
       "    </tr>\n",
       "  </tbody>\n",
       "</table>\n",
       "<p>91 rows × 10 columns</p>\n",
       "</div>"
      ],
      "text/plain": [
       "    index                                                 id  \\\n",
       "18     18  artid_493911_periodical_ewj_issue_ewj_01031859...   \n",
       "65     65  artid_493205_periodical_ewj_issue_ewj_01051859...   \n",
       "88     88  artid_771187_periodical_pc_issue_tec_15091890_...   \n",
       "79     79  artid_802535_periodical_t_issue_ttw_25011868_p...   \n",
       "43     43  artid_490621_periodical_ewj_issue_ewj_01091858...   \n",
       "..    ...                                                ...   \n",
       "64     64  artid_586631_periodical_l_issue_vm2-ncseproduc...   \n",
       "81     81  artid_604837_periodical_mruc_issue_vm2-ncsepro...   \n",
       "29     29  artid_604838_periodical_mruc_issue_vm2-ncsepro...   \n",
       "52     52  artid_800000_periodical_t_issue_ttw_14091867_p...   \n",
       "39     39  artid_640038_periodical_mruc_issue_vm2-ncsepro...   \n",
       "\n",
       "                                         post_lm_text  prompt_tokens  \\\n",
       "18  to appoint a successor and associate him with ...            790   \n",
       "65  would also sadly not have deficient presented ...            362   \n",
       "88  a  esq. and 5  months of  mr. and mrs. braddon...           1303   \n",
       "79  ral honest irish manner . we are a-going to ha...           1297   \n",
       "43  ject before their professional critics. the su...            884   \n",
       "..                                                ...            ...   \n",
       "64  obituary general sir richard bourke, k.c.b., h...            396   \n",
       "81  portant tenets, and to which therefore they we...            396   \n",
       "29  the most part the first converts learned \"the ...            396   \n",
       "52  we are truly sorry to have been the innocent v...            230   \n",
       "39  brated ode of aristotle, on virtue and the pec...            464   \n",
       "\n",
       "    completion_tokens  total_tokens  \\\n",
       "18                822          1612   \n",
       "65                549           911   \n",
       "88               1625          2928   \n",
       "79               1274          2571   \n",
       "43               1022          1906   \n",
       "..                ...           ...   \n",
       "64                334           730   \n",
       "81                309           705   \n",
       "29                309           705   \n",
       "52                176           406   \n",
       "39                402           866   \n",
       "\n",
       "                                         article_text  cer_orig       cer  \\\n",
       "18  to appoint a successor and associate him with ...  0.129397  0.852210   \n",
       "65  also sadly deficient in visitors, or the neces...  0.553557  1.519215   \n",
       "88  books and rumours of booksmiss braddon's new n...  0.705517  1.695172   \n",
       "79  rale honest irish manner. we are a-going to ha...  0.845665  1.665546   \n",
       "43  before it: the difficulty seems to be in the w...  0.591636  1.091636   \n",
       "..                                                ...       ...       ...   \n",
       "64  obituary. general sir richard boirke, k.c.b., ...  0.040055  0.007597   \n",
       "81  portant light, and to which therefore they wer...  0.056818  0.010732   \n",
       "29  the most part the first “who learned the way o...  0.060013  0.010107   \n",
       "52  we are truly sorry to have been the innocent v...  0.021327  0.003555   \n",
       "39  brated ode of aristotle, on virtue; and the pe...  0.028424  0.003618   \n",
       "\n",
       "         ERP  \n",
       "18 -5.586035  \n",
       "65 -1.744461  \n",
       "88 -1.402737  \n",
       "79 -0.969510  \n",
       "43 -0.845114  \n",
       "..       ...  \n",
       "64  0.810345  \n",
       "81  0.811111  \n",
       "29  0.831579  \n",
       "52  0.833333  \n",
       "39  0.872727  \n",
       "\n",
       "[91 rows x 10 columns]"
      ]
     },
     "execution_count": 33,
     "metadata": {},
     "output_type": "execute_result"
    }
   ],
   "source": [
    "silver_instructions_between.sort_values('ERP')"
   ]
  }
 ],
 "metadata": {
  "kernelspec": {
   "display_name": ".venv",
   "language": "python",
   "name": "python3"
  },
  "language_info": {
   "codemirror_mode": {
    "name": "ipython",
    "version": 3
   },
   "file_extension": ".py",
   "mimetype": "text/x-python",
   "name": "python",
   "nbconvert_exporter": "python",
   "pygments_lexer": "ipython3",
   "version": "3.12.3"
  }
 },
 "nbformat": 4,
 "nbformat_minor": 2
}
