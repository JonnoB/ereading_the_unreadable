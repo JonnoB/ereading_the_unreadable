{
 "cells": [
  {
   "cell_type": "code",
   "execution_count": 2,
   "metadata": {},
   "outputs": [
    {
     "name": "stderr",
     "output_type": "stream",
     "text": [
      "None of PyTorch, TensorFlow >= 2.0, or Flax have been found. Models won't be available and only tokenizers, configuration and file/data utilities can be used.\n"
     ]
    }
   ],
   "source": [
    "import pandas as pd\n",
    "import numpy as np\n",
    "import os\n",
    "import random\n",
    "import json\n",
    "import tiktoken\n",
    "from transformers import AutoTokenizer\n",
    "from huggingface_hub import login\n",
    "from evaluation_funcs import load_txt_files_to_df\n",
    "import seaborn as sns\n",
    "import matplotlib.pyplot as plt\n",
    "from datasets import load_metric\n",
    "import re\n",
    "\n",
    "from openai import OpenAI\n",
    "client = OpenAI()\n",
    "\n",
    "\n"
   ]
  },
  {
   "cell_type": "code",
   "execution_count": 4,
   "metadata": {},
   "outputs": [
    {
     "data": {
      "application/vnd.jupyter.widget-view+json": {
       "model_id": "eac663bc34744ca59a228b1f3d1276ac",
       "version_major": 2,
       "version_minor": 0
      },
      "text/plain": [
       "VBox(children=(HTML(value='<center> <img\\nsrc=https://huggingface.co/front/assets/huggingface_logo-noborder.sv…"
      ]
     },
     "metadata": {},
     "output_type": "display_data"
    }
   ],
   "source": [
    "login()"
   ]
  },
  {
   "cell_type": "code",
   "execution_count": 3,
   "metadata": {},
   "outputs": [],
   "source": [
    "def save_openai_batch_result(batch_file, jsonl_file):\n",
    "\n",
    "    \"\"\" \n",
    "    Small function to help keep the openai batch process clean. downloads the batch file and saves it as a jsonl file\n",
    "    \"\"\"\n",
    "\n",
    "    result = client.files.content(batch_file).content\n",
    "\n",
    "    with open(jsonl_file, 'wb') as file:\n",
    "        file.write(result)\n",
    "\n",
    "\n",
    "def convert_opanai_jsonl_to_df(jsonl_file):\n",
    "\n",
    "    \"\"\" \n",
    "    Loads a jsonl file returned from the openai batch process. Returns a dataframe containing only the most useful information\n",
    "    \"\"\"\n",
    "\n",
    "    results = []\n",
    "    with open(jsonl_file, 'r') as file:\n",
    "        for line in file:\n",
    "            # Parsing the JSON string into a dict and appending to the list of results\n",
    "            json_object = json.loads(line.strip())\n",
    "            necessary_data = {\n",
    "                'id': json_object['custom_id'],\n",
    "                'post_lm_text': json_object['response']['body']['choices'][0]['message']['content']\n",
    "            }\n",
    "            necessary_data.update(json_object['response']['body']['usage'])\n",
    "            results.append(necessary_data)\n",
    "    return pd.DataFrame(results)\n",
    "\n",
    "def pre_evaluation_processing(df, ground_truth_df, post_lm_text, gt_text ):\n",
    "    df['id'] = df['id'].str.replace('filename_', '')\n",
    "\n",
    "    df = df.merge(ground_truth_df.set_index('file_name'), left_on = 'id', right_index = True)\n",
    "    #df['post_lm_text2'] = df['post_lm_text'].apply(extract_first_match)\n",
    "    df[post_lm_text] = df[post_lm_text].str.replace(\"\\n\", \"\").str.lower()\n",
    "    df[gt_text] = df[gt_text].str.replace(\"\\n\", \"\").str.lower()\n",
    "    df.reset_index(inplace=True)\n",
    "\n",
    "    return df\n",
    "\n",
    "def evaluate_model(df, metric_obj, gt_text, post_lm_text):\n",
    "\n",
    "    \"\"\" \n",
    "    Uses a huggingface metric to evaluate the results\n",
    "    \"\"\"\n",
    "    \n",
    "    # Calculate CER for each pair\n",
    "    results = []\n",
    "    for index, row in df.iterrows():\n",
    "        ground_truth_text = row[gt_text]\n",
    "        response_text = row[post_lm_text]\n",
    "        result = metric_obj.compute(predictions=[response_text], references=[ground_truth_text])\n",
    "        results.append(result)\n",
    "\n",
    "    df['cer'] = results\n",
    "\n",
    "    return df\n"
   ]
  },
  {
   "cell_type": "markdown",
   "metadata": {},
   "source": [
    "# Create the silverset\n",
    "\n",
    "- set seed\n",
    "- for each file\n",
    "    - load file\n",
    "    - remove all entries greater than smaller than 100 tokens, above acceptable noise\n",
    "\n",
    "- concatenate to single data frame\n",
    "\n",
    "\n"
   ]
  },
  {
   "cell_type": "code",
   "execution_count": 3,
   "metadata": {},
   "outputs": [
    {
     "data": {
      "text/plain": [
       "['ncse_base_1.parquet',\n",
       " 'ncse_base_6.parquet',\n",
       " 'ncse_base_0.parquet',\n",
       " 'ncse_base_5.parquet',\n",
       " 'ncse_base_2.parquet',\n",
       " 'ncse_base_4.parquet',\n",
       " 'ncse_base_3.parquet']"
      ]
     },
     "execution_count": 3,
     "metadata": {},
     "output_type": "execute_result"
    }
   ],
   "source": [
    "os.listdir('./data/ncse_text_chunks')"
   ]
  },
  {
   "cell_type": "code",
   "execution_count": 2,
   "metadata": {},
   "outputs": [],
   "source": [
    "#temp_df = pd.read_parquet('./data/ncse_text_chunks2/'+'ncse_base_1.parquet')"
   ]
  },
  {
   "cell_type": "code",
   "execution_count": 3,
   "metadata": {},
   "outputs": [],
   "source": [
    "target_dir = './data/transcripts/transcription_files'\n",
    "\n",
    "files_in_directory =  set(os.listdir(target_dir))\n",
    "\n",
    "all_data_df = []\n",
    "\n",
    "for file in os.listdir('./data/ncse_text_chunks'):\n",
    "\n",
    "     temp_df = pd.read_parquet('./data/ncse_text_chunks/'+file)\n",
    "     temp_df['entire_article'] = temp_df[['continuation_from_id','continuation_to_id']].isna().sum(axis = 1)==2\n",
    "     temp_df =  temp_df.loc[temp_df['total_tokens']>100,['id', 'total_tokens', 'symbol_fract', 'entire_article','publication_id', 'file_name', 'content_html']]\n",
    "     all_data_df.append(temp_df)\n",
    "\n",
    "all_data_df = pd.concat(all_data_df)\n"
   ]
  },
  {
   "cell_type": "code",
   "execution_count": null,
   "metadata": {},
   "outputs": [],
   "source": [
    "#proper tokenization is important as llama3 has 3x the vocabulary so will produce fewer tokens for a given text than llama2"
   ]
  },
  {
   "cell_type": "code",
   "execution_count": 7,
   "metadata": {},
   "outputs": [
    {
     "name": "stderr",
     "output_type": "stream",
     "text": [
      "Special tokens have been added in the vocabulary, make sure the associated word embeddings are fine-tuned or trained.\n"
     ]
    }
   ],
   "source": [
    "tokenizer = AutoTokenizer.from_pretrained('meta-llama/Meta-Llama-3-8B')"
   ]
  },
  {
   "cell_type": "code",
   "execution_count": 30,
   "metadata": {},
   "outputs": [],
   "source": [
    "def extract_first_x_tokens(text, tokenizer, max_tokens = 1000):\n",
    "    \"\"\"\n",
    "    Extract the first 1000 tokens from a string using the hugginface tokenizer. It ensures that\n",
    "    the number of tokens in each string does not exceed the limit for a specific model or\n",
    "    finetuning budget\n",
    "\n",
    "    Parameters:\n",
    "    text (str): The input string.\n",
    "    tokenizer: The tokenizer object for the model of interest\n",
    "    max_tokens: The maximum number of tokens\n",
    "\n",
    "    Returns:\n",
    "    str: The string containing the first 1000 tokens.\n",
    "    \"\"\"\n",
    "\n",
    "    # Tokenize the input text\n",
    "    tokens = tokenizer.encode(text)\n",
    "\n",
    "    # Extract the first x tokens\n",
    "    first_1000_tokens = tokens[:max_tokens]\n",
    "\n",
    "    # Decode the tokens back to string\n",
    "    truncated_text = tokenizer.decode(first_1000_tokens)\n",
    "    #re-calc total tokens in text\n",
    "    total_tokens = len(first_1000_tokens)\n",
    "\n",
    "    return truncated_text, total_tokens\n",
    "\n",
    "random.seed(12335)\n",
    "#remove the transcribed data then sample. This is to keep the test set pure\n",
    "sampled_data = all_data_df.loc[~all_data_df['file_name'].isin(os.listdir('./data/transcripts/transcription_files')),:].sample(11000) #11000\n",
    "#reduce to a maximum token size of 1000\n",
    "sampled_data[['content_html', 'total_tokens_llama']] = sampled_data['content_html'].apply(lambda x: pd.Series(extract_first_x_tokens(x, tokenizer)))\n",
    "omni_tokenizer = tiktoken.get_encoding(\"o200k_base\")\n",
    "sampled_data[['content_html_drop', 'total_tokens_omni']] = sampled_data['content_html'].apply(lambda x: pd.Series(extract_first_x_tokens(x, omni_tokenizer, max_tokens=10000)))\n",
    "sampled_data = sampled_data.drop('content_html_drop', axis = 1)\n",
    "sampled_data.to_parquet('./data/silver_data.parquet')"
   ]
  },
  {
   "cell_type": "code",
   "execution_count": 22,
   "metadata": {},
   "outputs": [],
   "source": []
  },
  {
   "cell_type": "code",
   "execution_count": 5,
   "metadata": {},
   "outputs": [],
   "source": [
    "sampled_data = pd.read_parquet('./data/silver_data.parquet')\n"
   ]
  },
  {
   "cell_type": "code",
   "execution_count": 31,
   "metadata": {},
   "outputs": [
    {
     "data": {
      "text/html": [
       "<div>\n",
       "<style scoped>\n",
       "    .dataframe tbody tr th:only-of-type {\n",
       "        vertical-align: middle;\n",
       "    }\n",
       "\n",
       "    .dataframe tbody tr th {\n",
       "        vertical-align: top;\n",
       "    }\n",
       "\n",
       "    .dataframe thead th {\n",
       "        text-align: right;\n",
       "    }\n",
       "</style>\n",
       "<table border=\"1\" class=\"dataframe\">\n",
       "  <thead>\n",
       "    <tr style=\"text-align: right;\">\n",
       "      <th></th>\n",
       "      <th>id</th>\n",
       "      <th>total_tokens</th>\n",
       "      <th>symbol_fract</th>\n",
       "      <th>publication_id</th>\n",
       "      <th>total_tokens_llama</th>\n",
       "      <th>total_tokens_omni</th>\n",
       "      <th>ratio</th>\n",
       "    </tr>\n",
       "  </thead>\n",
       "  <tbody>\n",
       "    <tr>\n",
       "      <th>count</th>\n",
       "      <td>1.100000e+04</td>\n",
       "      <td>11000.000000</td>\n",
       "      <td>11000.000000</td>\n",
       "      <td>11000.000000</td>\n",
       "      <td>11000.000000</td>\n",
       "      <td>11000.000000</td>\n",
       "      <td>11000.000000</td>\n",
       "    </tr>\n",
       "    <tr>\n",
       "      <th>mean</th>\n",
       "      <td>7.505863e+05</td>\n",
       "      <td>915.475909</td>\n",
       "      <td>0.217735</td>\n",
       "      <td>24.261091</td>\n",
       "      <td>593.797364</td>\n",
       "      <td>588.017000</td>\n",
       "      <td>1.004150</td>\n",
       "    </tr>\n",
       "    <tr>\n",
       "      <th>std</th>\n",
       "      <td>1.945087e+05</td>\n",
       "      <td>907.276629</td>\n",
       "      <td>0.133610</td>\n",
       "      <td>3.140817</td>\n",
       "      <td>340.439513</td>\n",
       "      <td>334.197164</td>\n",
       "      <td>0.022444</td>\n",
       "    </tr>\n",
       "    <tr>\n",
       "      <th>min</th>\n",
       "      <td>4.078010e+05</td>\n",
       "      <td>101.000000</td>\n",
       "      <td>0.059829</td>\n",
       "      <td>19.000000</td>\n",
       "      <td>87.000000</td>\n",
       "      <td>73.000000</td>\n",
       "      <td>0.754491</td>\n",
       "    </tr>\n",
       "    <tr>\n",
       "      <th>25%</th>\n",
       "      <td>5.776925e+05</td>\n",
       "      <td>257.000000</td>\n",
       "      <td>0.144096</td>\n",
       "      <td>20.000000</td>\n",
       "      <td>256.000000</td>\n",
       "      <td>256.000000</td>\n",
       "      <td>0.994986</td>\n",
       "    </tr>\n",
       "    <tr>\n",
       "      <th>50%</th>\n",
       "      <td>7.570765e+05</td>\n",
       "      <td>560.000000</td>\n",
       "      <td>0.178465</td>\n",
       "      <td>26.000000</td>\n",
       "      <td>559.000000</td>\n",
       "      <td>554.000000</td>\n",
       "      <td>1.005025</td>\n",
       "    </tr>\n",
       "    <tr>\n",
       "      <th>75%</th>\n",
       "      <td>9.213248e+05</td>\n",
       "      <td>1283.250000</td>\n",
       "      <td>0.246445</td>\n",
       "      <td>27.000000</td>\n",
       "      <td>1000.000000</td>\n",
       "      <td>979.000000</td>\n",
       "      <td>1.015152</td>\n",
       "    </tr>\n",
       "    <tr>\n",
       "      <th>max</th>\n",
       "      <td>1.073158e+06</td>\n",
       "      <td>10668.000000</td>\n",
       "      <td>2.920792</td>\n",
       "      <td>27.000000</td>\n",
       "      <td>1000.000000</td>\n",
       "      <td>1000.000000</td>\n",
       "      <td>1.397260</td>\n",
       "    </tr>\n",
       "  </tbody>\n",
       "</table>\n",
       "</div>"
      ],
      "text/plain": [
       "                 id  total_tokens  symbol_fract  publication_id  \\\n",
       "count  1.100000e+04  11000.000000  11000.000000    11000.000000   \n",
       "mean   7.505863e+05    915.475909      0.217735       24.261091   \n",
       "std    1.945087e+05    907.276629      0.133610        3.140817   \n",
       "min    4.078010e+05    101.000000      0.059829       19.000000   \n",
       "25%    5.776925e+05    257.000000      0.144096       20.000000   \n",
       "50%    7.570765e+05    560.000000      0.178465       26.000000   \n",
       "75%    9.213248e+05   1283.250000      0.246445       27.000000   \n",
       "max    1.073158e+06  10668.000000      2.920792       27.000000   \n",
       "\n",
       "       total_tokens_llama  total_tokens_omni         ratio  \n",
       "count        11000.000000       11000.000000  11000.000000  \n",
       "mean           593.797364         588.017000      1.004150  \n",
       "std            340.439513         334.197164      0.022444  \n",
       "min             87.000000          73.000000      0.754491  \n",
       "25%            256.000000         256.000000      0.994986  \n",
       "50%            559.000000         554.000000      1.005025  \n",
       "75%           1000.000000         979.000000      1.015152  \n",
       "max           1000.000000        1000.000000      1.397260  "
      ]
     },
     "execution_count": 31,
     "metadata": {},
     "output_type": "execute_result"
    }
   ],
   "source": [
    "temp_df.describe()"
   ]
  },
  {
   "cell_type": "code",
   "execution_count": 32,
   "metadata": {},
   "outputs": [
    {
     "data": {
      "text/plain": [
       "<Axes: xlabel='total_tokens_llama', ylabel='Count'>"
      ]
     },
     "execution_count": 32,
     "metadata": {},
     "output_type": "execute_result"
    },
    {
     "data": {
      "image/png": "[encoded data removed]",
      "text/plain": [
       "<Figure size 640x480 with 1 Axes>"
      ]
     },
     "metadata": {},
     "output_type": "display_data"
    }
   ],
   "source": [
    "temp_df = sampled_data\n",
    "temp_df['ratio'] = sampled_data['total_tokens_llama']/sampled_data['total_tokens_omni']\n",
    "sns.histplot(data = sampled_data, x = 'total_tokens_llama')"
   ]
  },
  {
   "cell_type": "code",
   "execution_count": 27,
   "metadata": {},
   "outputs": [
    {
     "data": {
      "text/plain": [
       "count    11000.000000\n",
       "mean       593.797364\n",
       "std        340.439513\n",
       "min         87.000000\n",
       "25%        256.000000\n",
       "50%        559.000000\n",
       "75%       1000.000000\n",
       "max       1000.000000\n",
       "Name: total_tokens_llama, dtype: float64"
      ]
     },
     "execution_count": 27,
     "metadata": {},
     "output_type": "execute_result"
    }
   ],
   "source": [
    "sampled_data['total_tokens_llama'].describe()"
   ]
  },
  {
   "cell_type": "code",
   "execution_count": null,
   "metadata": {},
   "outputs": [],
   "source": [
    "for index, row in sampled_data.iterrows():\n",
    "    text = row['content_html']\n",
    "    filename = row['file_name']\n",
    "    file_path = os.path.join('./data/silver_ocr', filename)\n",
    "\n",
    "    # Write the text to the file\n",
    "    with open(file_path, 'w') as file:\n",
    "        file.write(text)\n"
   ]
  },
  {
   "cell_type": "code",
   "execution_count": 6,
   "metadata": {},
   "outputs": [],
   "source": [
    "def create_jsonl_file(df, model, system_content, max_tokens, output_file):\n",
    "    \"\"\"\n",
    "    Create a JSONL file with the specified structure for each row in the DataFrame.\n",
    "\n",
    "    Parameters:\n",
    "    df (pd.DataFrame): DataFrame containing the data.\n",
    "    model (str): The model to be used in the 'body' of the JSON.\n",
    "    system_content (str): The content for the system message.\n",
    "    max_tokens (int): The max tokens value.\n",
    "    output_file (str): The path to the output JSONL file.\n",
    "    \"\"\"\n",
    "    with open(output_file, 'w') as file:\n",
    "        for _, row in df.iterrows():\n",
    "            entry = {\n",
    "                \"custom_id\": f\"filename_{row['file_name']}\",\n",
    "                \"method\": \"POST\",\n",
    "                \"url\": \"/v1/chat/completions\",\n",
    "                \"body\": {\n",
    "                    \"model\": model,\n",
    "                    \"messages\": [\n",
    "                        {\"role\": \"system\", \"content\": system_content},\n",
    "                        {\"role\": \"user\", \"content\": row['content_html']}\n",
    "                    ],\n",
    "                    \"max_tokens\": max_tokens\n",
    "                }\n",
    "            }\n",
    "            # Write each JSON object as a separate line in the JSONL file\n",
    "            file.write(json.dumps(entry) + '\\n')\n",
    "\n",
    "\n",
    "\n",
    "# Specify the arguments\n",
    "model = 'gpt-4o'\n",
    "system_content = \"You are an expert in recovery of corrupted OCR, the below text is from an English newspaper in the 1800's, please return in plain text, with appropriate spacing and line breaks\"\n",
    "max_tokens = 2200\n",
    "output_file = './data/output.jsonl'\n",
    "\n",
    "# Call the function with the DataFrame and arguments\n",
    "create_jsonl_file(sampled_data.reset_index().loc[0:20,:], model, system_content, max_tokens, output_file)\n"
   ]
  },
  {
   "cell_type": "markdown",
   "metadata": {},
   "source": [
    "First example taken from the hansard \"Disfranchisement Of Sudbury\"\n",
    "\n",
    "https://hansard.parliament.uk/commons/1842-07-06/debates/bd9ca32b-d1b2-4337-bc00-32deed2899e7/DisfranchisementOfSudbury"
   ]
  },
  {
   "cell_type": "code",
   "execution_count": 7,
   "metadata": {},
   "outputs": [],
   "source": [
    "#silver_instructions_base = \"You are an expert in post-OCR correction of documents. Your task is to carefully examine the following text and correct any mistakes introduced by the OCR software. Do not write anything else than the corrected text.\"\n",
    "#silver_instructions_between = \"You are an expert in post-OCR correction of documents. Your task is to carefully examine the following text and correct any mistakes introduced by the OCR software. Do not write anything else than the corrected text. place the corrected text between the symbols '</corrected>'\"\n",
    "silver_instructions_historical = \"You are an expert in post-OCR correction of historical newspapers. Your task is to carefully examine the following text and correct any mistakes introduced by the OCR software. Do not write anything else than the corrected text.\"\n",
    "silver_instructions_ICL = \"\"\"You are an expert in post-OCR correction of documents. Your task is to carefully examine the following text and correct any mistakes introduced by the OCR software.Do not write anything else than the corrected text. \n",
    "As an example consider the following texts\n",
    "\n",
    "{\n",
    "  \"corrupted\": \"The populatlon of that hundrea amounteo to 24,069, ancl he bel1eved that if they ex tenclsd the borou#h, as he des1red, they woulcl secur@ an additlon to the prsent constituen€y of at least 1,000 votors.\"\n",
    "  \"recovered\": \"The population of that hundred amounted to 24,069, and he believed that if they extended the borough, as he desired, they would secure an addition to the present constituency of at least 1,000 voters.\",\n",
    "}\n",
    "\n",
    "{\n",
    "  \"corrupted\": \"Th3 park 1s a b3autiful pl@ce w1th lush gree.n l@wns, tall tre.es, an& a serene laKe wh3re v1sitors can .*-enjoy a peac3ful walk or a relax1ng boat ride...\"\n",
    "  \"recovered\": \"The park is a beautiful place with lush green lawns, tall trees, and a serene lake where visitors can enjoy a peaceful walk or a relaxing boat ride.\",\n",
    "}\n",
    "\n",
    "{\n",
    "  \"corrupted\": \"The res#aurant ser\\\\es a variet¥ of dis#es, includin fresh seafo9d, sa&ory s+eaks, and delici0us vegetarain opti0ns, al prep*red wth the finset ingrdients.\"\n",
    "  \"recovered\": \"The restaurant serves a variety of dishes, including fresh seafood, savory steaks, and delicious vegetarian options, all prepared with the finest ingredients.\",\n",
    "}\n",
    "\n",
    "You need only return the recovered text\n",
    "\n",
    "\"\"\"\n",
    "\n",
    "\n",
    "silver_instructions_longprompt = \"\"\"You are an expert in post-OCR correction of documents. Your task is to carefully examine the following text and correct any mistakes introduced by the OCR software. Pay close attention to common OCR errors such as misrecognized characters, incorrect spacing, and punctuation issues.\n",
    "\n",
    "\n",
    "To complete this task, follow these steps:\n",
    "\n",
    "1. Read through the entire text to understand the context and identify potential errors.\n",
    "2. Correct any misrecognized characters, such as:\n",
    "   - Numbers mistaken for letters (e.g., '0' for 'O', '1' for 'I', '5' for 'S')\n",
    "   - Similar-looking letters (e.g., 'rn' for 'm', 'cl' for 'd')\n",
    "   - Special characters mistaken for letters or punctuation\n",
    "3. Fix any spacing issues, ensuring proper word separation and sentence structure.\n",
    "4. Correct punctuation errors, including misplaced or missing periods, commas, and quotation marks.\n",
    "5. Ensure proper capitalization, especially at the beginning of sentences and for proper nouns.\n",
    "6. Maintain the original formatting and structure of the text as much as possible.\n",
    "\n",
    "Provide your corrected version of the text without any additional explanations or comments. Your output should contain only the corrected text, preserving the original paragraph structure and line breaks.\n",
    "\n",
    "Begin your corrected text immediately after this instruction, without any introductory phrases or explanations.\"\"\"\n",
    "\n",
    "#create_jsonl_file(sampled_data.reset_index().loc[0:20,:], model, silver_instructions_base, max_tokens, './data/silver_instructions_base.jsonl')\n",
    "#create_jsonl_file(sampled_data.reset_index().loc[0:20,:], model, silver_instructions_between, max_tokens, './data/silver_instructions_between.jsonl') using this doesn't work as the model does not reliably return the symbols correctly.\n",
    "create_jsonl_file(sampled_data.reset_index().loc[0:20,:], model, silver_instructions_historical, max_tokens, './data/test_prompt_ready_to_batch/silver_instructions_historical.jsonl')\n",
    "create_jsonl_file(sampled_data.reset_index().loc[0:20,:], model, silver_instructions_ICL, max_tokens, './data/test_prompt_ready_to_batch/silver_instructions_ICL.jsonl')"
   ]
  },
  {
   "cell_type": "code",
   "execution_count": null,
   "metadata": {},
   "outputs": [],
   "source": [
    "\n",
    "\n",
    "batch_input_file = client.files.create(\n",
    "  file=open('./data/silver_instructions_base.jsonl', \"rb\"),\n",
    "  purpose=\"batch\"\n",
    ")"
   ]
  },
  {
   "cell_type": "code",
   "execution_count": null,
   "metadata": {},
   "outputs": [
    {
     "data": {
      "text/plain": [
       "Batch(id='batch_FnoK5q5bQOAKs9GfPOdRdlpi', completion_window='24h', created_at=1720984280, endpoint='/v1/chat/completions', input_file_id='file-bNxRuQZxubqvLpqiAgPpMffe', object='batch', status='validating', cancelled_at=None, cancelling_at=None, completed_at=None, error_file_id=None, errors=None, expired_at=None, expires_at=1721070680, failed_at=None, finalizing_at=None, in_progress_at=None, metadata={'description': 'silver_instructions_base'}, output_file_id=None, request_counts=BatchRequestCounts(completed=0, failed=0, total=0))"
      ]
     },
     "execution_count": 99,
     "metadata": {},
     "output_type": "execute_result"
    }
   ],
   "source": [
    "batch_input_file_id = batch_input_file.id\n",
    "\n",
    "client.batches.create(\n",
    "    input_file_id=batch_input_file_id,\n",
    "    endpoint=\"/v1/chat/completions\",\n",
    "    completion_window=\"24h\",\n",
    "    metadata={\n",
    "      \"description\": \"silver_instructions_base\"\n",
    "    }\n",
    ")"
   ]
  },
  {
   "cell_type": "code",
   "execution_count": 14,
   "metadata": {},
   "outputs": [
    {
     "data": {
      "text/plain": [
       "[Batch(id='batch_SDus5Sr3PQiFTMVyOLDGhBd2', completion_window='24h', created_at=1721735519, endpoint='/v1/chat/completions', input_file_id='file-zgzs5sRSm2vEJ4Y33iZdJedY', object='batch', status='completed', cancelled_at=None, cancelling_at=None, completed_at=1721735669, error_file_id=None, errors=None, expired_at=None, expires_at=1721821919, failed_at=None, finalizing_at=1721735665, in_progress_at=1721735519, metadata={'description': 'silver_instructions_longprompt'}, output_file_id='file-8ANGDnRRYSCe8bQc4ZhYvl3p', request_counts=BatchRequestCounts(completed=91, failed=0, total=91)),\n",
       " Batch(id='batch_BeCCUmTFEoc4hAv08gVctYT5', completion_window='24h', created_at=1721733210, endpoint='/v1/chat/completions', input_file_id='file-s2IM3wrz0wyRbgHtIBPg2uLf', object='batch', status='completed', cancelled_at=None, cancelling_at=None, completed_at=1721733272, error_file_id=None, errors=None, expired_at=None, expires_at=1721819610, failed_at=None, finalizing_at=1721733269, in_progress_at=1721733211, metadata={'description': 'silver_instructions_ICL'}, output_file_id='file-tvdqeNY4SChR33lYkaOt1aS5', request_counts=BatchRequestCounts(completed=91, failed=0, total=91))]"
      ]
     },
     "execution_count": 14,
     "metadata": {},
     "output_type": "execute_result"
    }
   ],
   "source": [
    "batch_data = client.batches.list(limit=2)\n",
    "batch_data.data"
   ]
  },
  {
   "cell_type": "code",
   "execution_count": 10,
   "metadata": {},
   "outputs": [],
   "source": [
    "raw_transcript_oct_folder = './data/transcripts/transcription_raw_ocr'\n",
    "\n",
    "#These are referred to as \"gold\" as this clearly distinguishes the dataset from any dataframes called test or for testing things in general\n",
    "raw_gold_ocr_df = load_txt_files_to_df(raw_transcript_oct_folder)\n",
    "raw_gold_ocr_df['id'] = raw_gold_ocr_df['file_name'].str.split(\"_periodical\", expand = True)[0].str.replace(\"artid_\", \"\")\n",
    "\n",
    "enc = tiktoken.get_encoding('o200k_base')\n",
    "raw_gold_ocr_df['total_tokens'] = raw_gold_ocr_df['content_html'].apply(lambda x:len(enc.encode(x)))\n",
    "\n",
    "max_tokens = 4000\n",
    "\n",
    "\n",
    "create_jsonl_file(raw_gold_ocr_df, model, silver_instructions_historical, max_tokens, './data/test_prompt_ready_to_batch/silver_instructions_historical.jsonl')\n",
    "create_jsonl_file(raw_gold_ocr_df, model, silver_instructions_ICL, max_tokens, './data/test_prompt_ready_to_batch/silver_instructions_ICL.jsonl')\n",
    "\n",
    "create_jsonl_file(raw_gold_ocr_df, model, silver_instructions_longprompt, max_tokens, './data/test_prompt_ready_to_batch/silver_instructions_longprompt.jsonl')\n"
   ]
  },
  {
   "cell_type": "code",
   "execution_count": 11,
   "metadata": {},
   "outputs": [
    {
     "data": {
      "text/plain": [
       "Batch(id='batch_SDus5Sr3PQiFTMVyOLDGhBd2', completion_window='24h', created_at=1721735519, endpoint='/v1/chat/completions', input_file_id='file-zgzs5sRSm2vEJ4Y33iZdJedY', object='batch', status='validating', cancelled_at=None, cancelling_at=None, completed_at=None, error_file_id=None, errors=None, expired_at=None, expires_at=1721821919, failed_at=None, finalizing_at=None, in_progress_at=None, metadata={'description': 'silver_instructions_longprompt'}, output_file_id=None, request_counts=BatchRequestCounts(completed=0, failed=0, total=0))"
      ]
     },
     "execution_count": 11,
     "metadata": {},
     "output_type": "execute_result"
    }
   ],
   "source": [
    "batch_input_file = client.files.create(\n",
    "  file=open('./data/test_prompt_ready_to_batch/silver_instructions_longprompt.jsonl', \"rb\"),\n",
    "  purpose=\"batch\"\n",
    ")\n",
    "\n",
    "batch_input_file_id = batch_input_file.id\n",
    "\n",
    "client.batches.create(\n",
    "    input_file_id=batch_input_file_id,\n",
    "    endpoint=\"/v1/chat/completions\",\n",
    "    completion_window=\"24h\",\n",
    "    metadata={\n",
    "      \"description\": \"silver_instructions_longprompt\"\n",
    "    }\n",
    ")"
   ]
  },
  {
   "cell_type": "code",
   "execution_count": 3,
   "metadata": {},
   "outputs": [
    {
     "ename": "NameError",
     "evalue": "name 'client' is not defined",
     "output_type": "error",
     "traceback": [
      "\u001b[0;31m---------------------------------------------------------------------------\u001b[0m",
      "\u001b[0;31mNameError\u001b[0m                                 Traceback (most recent call last)",
      "Cell \u001b[0;32mIn[3], line 1\u001b[0m\n\u001b[0;32m----> 1\u001b[0m file_response \u001b[38;5;241m=\u001b[39m \u001b[43mclient\u001b[49m\u001b[38;5;241m.\u001b[39mfiles\u001b[38;5;241m.\u001b[39mcontent(\u001b[38;5;124m'\u001b[39m\u001b[38;5;124mfile-NHwN8bGdp9xpveBt1rX8LF2V\u001b[39m\u001b[38;5;124m'\u001b[39m)\n",
      "\u001b[0;31mNameError\u001b[0m: name 'client' is not defined"
     ]
    }
   ],
   "source": [
    "file_response = client.files.content('file-NHwN8bGdp9xpveBt1rX8LF2V')"
   ]
  },
  {
   "cell_type": "code",
   "execution_count": 8,
   "metadata": {},
   "outputs": [],
   "source": [
    "def save_batch_data(json_string, output_file):\n",
    "    \"\"\"\n",
    "    Save a string containing multiple JSON objects as a JSONL file.\n",
    "\n",
    "    Parameters:\n",
    "    json_string (str): The input string containing JSON objects.\n",
    "    output_file (str): The path to the output JSONL file.\n",
    "    \"\"\"\n",
    "    # Split the string into individual JSON objects (assuming they are newline-separated)\n",
    "    json_objects = json_string.strip().split('\\n')\n",
    "    \n",
    "    with open(output_file, 'w') as file:\n",
    "        for json_object in json_objects:\n",
    "            # Convert the string to a dictionary to ensure it is valid JSON\n",
    "            json_dict = json.loads(json_object)\n",
    "            # Write the JSON object as a single line\n",
    "            file.write(json.dumps(json_dict) + '\\n')"
   ]
  },
  {
   "cell_type": "code",
   "execution_count": null,
   "metadata": {},
   "outputs": [],
   "source": [
    "save_batch_data(file_response.text, './data/test_return.jsonl')"
   ]
  },
  {
   "cell_type": "code",
   "execution_count": 9,
   "metadata": {},
   "outputs": [],
   "source": [
    "def convert_batch_to_dataframe(json_string):\n",
    "    \"\"\"\n",
    "    Extract 'custom_id', 'assistant' 'content', and 'usage' from a JSON string and create a DataFrame.\n",
    "\n",
    "    Parameters:\n",
    "    json_string (str): The input string containing JSON objects.\n",
    "\n",
    "    Returns:\n",
    "    pd.DataFrame: DataFrame containing the extracted data.\n",
    "    \"\"\"\n",
    "    json_objects = json_string.strip().split('\\n')\n",
    "    extracted_data = []\n",
    "\n",
    "    for json_object in json_objects:\n",
    "        data = json.loads(json_object)\n",
    "        custom_id = data['custom_id']\n",
    "        assistant_content = data['response']['body']['choices'][0]['message']['content']\n",
    "        usage = data['response']['body']['usage']\n",
    "        \n",
    "        row_data = {\n",
    "            'id': custom_id,\n",
    "            'corrected_content': assistant_content\n",
    "        }\n",
    "        \n",
    "        # Add the usage dictionary to the row data\n",
    "        row_data.update(usage)\n",
    "        \n",
    "        extracted_data.append(row_data)\n",
    "\n",
    "    return pd.DataFrame(extracted_data)"
   ]
  },
  {
   "cell_type": "code",
   "execution_count": null,
   "metadata": {},
   "outputs": [
    {
     "data": {
      "text/html": [
       "<div>\n",
       "<style scoped>\n",
       "    .dataframe tbody tr th:only-of-type {\n",
       "        vertical-align: middle;\n",
       "    }\n",
       "\n",
       "    .dataframe tbody tr th {\n",
       "        vertical-align: top;\n",
       "    }\n",
       "\n",
       "    .dataframe thead th {\n",
       "        text-align: right;\n",
       "    }\n",
       "</style>\n",
       "<table border=\"1\" class=\"dataframe\">\n",
       "  <thead>\n",
       "    <tr style=\"text-align: right;\">\n",
       "      <th></th>\n",
       "      <th>id</th>\n",
       "      <th>corrected_content</th>\n",
       "      <th>prompt_tokens</th>\n",
       "      <th>completion_tokens</th>\n",
       "      <th>total_tokens</th>\n",
       "    </tr>\n",
       "  </thead>\n",
       "  <tbody>\n",
       "    <tr>\n",
       "      <th>0</th>\n",
       "      <td>request-841530</td>\n",
       "      <td>MONOMANIA. ISCB—Oh? The Queen has \"popped\" at ...</td>\n",
       "      <td>1182</td>\n",
       "      <td>1062</td>\n",
       "      <td>2244</td>\n",
       "    </tr>\n",
       "    <tr>\n",
       "      <th>1</th>\n",
       "      <td>request-751411</td>\n",
       "      <td>* The Plague and the Printing Press: being a B...</td>\n",
       "      <td>322</td>\n",
       "      <td>158</td>\n",
       "      <td>480</td>\n",
       "    </tr>\n",
       "    <tr>\n",
       "      <th>2</th>\n",
       "      <td>request-871466</td>\n",
       "      <td>He performed upon divers of the foremost, who,...</td>\n",
       "      <td>1771</td>\n",
       "      <td>1668</td>\n",
       "      <td>3439</td>\n",
       "    </tr>\n",
       "    <tr>\n",
       "      <th>3</th>\n",
       "      <td>request-494321</td>\n",
       "      <td>be having necessary to tramp for the into hous...</td>\n",
       "      <td>672</td>\n",
       "      <td>573</td>\n",
       "      <td>1245</td>\n",
       "    </tr>\n",
       "    <tr>\n",
       "      <th>4</th>\n",
       "      <td>request-495935</td>\n",
       "      <td>\"Tomorrow we are going to pillage the archbish...</td>\n",
       "      <td>822</td>\n",
       "      <td>709</td>\n",
       "      <td>1531</td>\n",
       "    </tr>\n",
       "    <tr>\n",
       "      <th>...</th>\n",
       "      <td>...</td>\n",
       "      <td>...</td>\n",
       "      <td>...</td>\n",
       "      <td>...</td>\n",
       "      <td>...</td>\n",
       "    </tr>\n",
       "    <tr>\n",
       "      <th>86</th>\n",
       "      <td>request-841528</td>\n",
       "      <td>because too much power was placed in the hands...</td>\n",
       "      <td>942</td>\n",
       "      <td>797</td>\n",
       "      <td>1739</td>\n",
       "    </tr>\n",
       "    <tr>\n",
       "      <th>87</th>\n",
       "      <td>request-766218</td>\n",
       "      <td>^ ^ ^ ^ ^ ^ ¦ ¦ ¦¦ ¦¦¦¦¦¦¦ ^ ¦¦ ¦ ¦ ^ ^ ¦ ^ ^ ...</td>\n",
       "      <td>189</td>\n",
       "      <td>117</td>\n",
       "      <td>306</td>\n",
       "    </tr>\n",
       "    <tr>\n",
       "      <th>88</th>\n",
       "      <td>request-771187</td>\n",
       "      <td>Boo &amp; Co. and in lieu of Miss Braddon's new no...</td>\n",
       "      <td>1302</td>\n",
       "      <td>653</td>\n",
       "      <td>1955</td>\n",
       "    </tr>\n",
       "    <tr>\n",
       "      <th>89</th>\n",
       "      <td>request-653700</td>\n",
       "      <td>have been designed: there may therefore be the...</td>\n",
       "      <td>562</td>\n",
       "      <td>456</td>\n",
       "      <td>1018</td>\n",
       "    </tr>\n",
       "    <tr>\n",
       "      <th>90</th>\n",
       "      <td>request-802845</td>\n",
       "      <td>FOR THE USE OF OUR YOUNG FRIENDS. (Continued.)...</td>\n",
       "      <td>408</td>\n",
       "      <td>292</td>\n",
       "      <td>700</td>\n",
       "    </tr>\n",
       "  </tbody>\n",
       "</table>\n",
       "<p>91 rows × 5 columns</p>\n",
       "</div>"
      ],
      "text/plain": [
       "                id                                  corrected_content  \\\n",
       "0   request-841530  MONOMANIA. ISCB—Oh? The Queen has \"popped\" at ...   \n",
       "1   request-751411  * The Plague and the Printing Press: being a B...   \n",
       "2   request-871466  He performed upon divers of the foremost, who,...   \n",
       "3   request-494321  be having necessary to tramp for the into hous...   \n",
       "4   request-495935  \"Tomorrow we are going to pillage the archbish...   \n",
       "..             ...                                                ...   \n",
       "86  request-841528  because too much power was placed in the hands...   \n",
       "87  request-766218  ^ ^ ^ ^ ^ ^ ¦ ¦ ¦¦ ¦¦¦¦¦¦¦ ^ ¦¦ ¦ ¦ ^ ^ ¦ ^ ^ ...   \n",
       "88  request-771187  Boo & Co. and in lieu of Miss Braddon's new no...   \n",
       "89  request-653700  have been designed: there may therefore be the...   \n",
       "90  request-802845  FOR THE USE OF OUR YOUNG FRIENDS. (Continued.)...   \n",
       "\n",
       "    prompt_tokens  completion_tokens  total_tokens  \n",
       "0            1182               1062          2244  \n",
       "1             322                158           480  \n",
       "2            1771               1668          3439  \n",
       "3             672                573          1245  \n",
       "4             822                709          1531  \n",
       "..            ...                ...           ...  \n",
       "86            942                797          1739  \n",
       "87            189                117           306  \n",
       "88           1302                653          1955  \n",
       "89            562                456          1018  \n",
       "90            408                292           700  \n",
       "\n",
       "[91 rows x 5 columns]"
      ]
     },
     "execution_count": 85,
     "metadata": {},
     "output_type": "execute_result"
    }
   ],
   "source": [
    "silver_corrected = convert_batch_to_dataframe(file_response.text)"
   ]
  },
  {
   "cell_type": "code",
   "execution_count": 19,
   "metadata": {},
   "outputs": [
    {
     "name": "stderr",
     "output_type": "stream",
     "text": [
      "/tmp/ipykernel_148369/2262283232.py:1: FutureWarning: load_metric is deprecated and will be removed in the next major version of datasets. Use 'evaluate.load' instead, from the new library 🤗 Evaluate: https://huggingface.co/docs/evaluate\n",
      "  cer = load_metric(\"cer\")\n"
     ]
    }
   ],
   "source": [
    "cer = load_metric(\"cer\")\n",
    "wer = load_metric(\"wer\")\n"
   ]
  },
  {
   "cell_type": "code",
   "execution_count": 20,
   "metadata": {},
   "outputs": [
    {
     "data": {
      "text/html": [
       "<div>\n",
       "<style scoped>\n",
       "    .dataframe tbody tr th:only-of-type {\n",
       "        vertical-align: middle;\n",
       "    }\n",
       "\n",
       "    .dataframe tbody tr th {\n",
       "        vertical-align: top;\n",
       "    }\n",
       "\n",
       "    .dataframe thead th {\n",
       "        text-align: right;\n",
       "    }\n",
       "</style>\n",
       "<table border=\"1\" class=\"dataframe\">\n",
       "  <thead>\n",
       "    <tr style=\"text-align: right;\">\n",
       "      <th></th>\n",
       "      <th>file_name</th>\n",
       "      <th>content_html</th>\n",
       "      <th>cer_orig</th>\n",
       "    </tr>\n",
       "  </thead>\n",
       "  <tbody>\n",
       "    <tr>\n",
       "      <th>0</th>\n",
       "      <td>artid_841530_periodical_ns_issue_vm2-ncseprodu...</td>\n",
       "      <td>monomania.since oxford \"popped\" at the queen, ...</td>\n",
       "      <td>0.052698</td>\n",
       "    </tr>\n",
       "    <tr>\n",
       "      <th>1</th>\n",
       "      <td>artid_751411_periodical_pc_issue_tec_01051889_...</td>\n",
       "      <td>‘the plague and the printing press: being a bi...</td>\n",
       "      <td>0.485795</td>\n",
       "    </tr>\n",
       "    <tr>\n",
       "      <th>2</th>\n",
       "      <td>artid_871466_periodical_ns_issue_ns2_02101852_...</td>\n",
       "      <td>he performed upon diverse of the foremost, who...</td>\n",
       "      <td>0.045032</td>\n",
       "    </tr>\n",
       "    <tr>\n",
       "      <th>3</th>\n",
       "      <td>artid_494321_periodical_ewj_issue_ewj_01051860...</td>\n",
       "      <td>having to tramp into some dirty court in searc...</td>\n",
       "      <td>0.152632</td>\n",
       "    </tr>\n",
       "    <tr>\n",
       "      <th>4</th>\n",
       "      <td>artid_495935_periodical_ewj_issue_ewj_01011860...</td>\n",
       "      <td>tomorrow we are going to pillage the archbisho...</td>\n",
       "      <td>0.124153</td>\n",
       "    </tr>\n",
       "    <tr>\n",
       "      <th>...</th>\n",
       "      <td>...</td>\n",
       "      <td>...</td>\n",
       "      <td>...</td>\n",
       "    </tr>\n",
       "    <tr>\n",
       "      <th>86</th>\n",
       "      <td>artid_841528_periodical_ns_issue_vm2-ncseprodu...</td>\n",
       "      <td>because too much power was placed in the hands...</td>\n",
       "      <td>0.059705</td>\n",
       "    </tr>\n",
       "    <tr>\n",
       "      <th>87</th>\n",
       "      <td>artid_766218_periodical_pc_issue_tec_01031886_...</td>\n",
       "      <td>electrotypes. messrs. sampson low, marston, &amp; ...</td>\n",
       "      <td>0.753086</td>\n",
       "    </tr>\n",
       "    <tr>\n",
       "      <th>88</th>\n",
       "      <td>artid_771187_periodical_pc_issue_tec_15091890_...</td>\n",
       "      <td>books and rumours of booksmiss braddon's new n...</td>\n",
       "      <td>0.705517</td>\n",
       "    </tr>\n",
       "    <tr>\n",
       "      <th>89</th>\n",
       "      <td>artid_653700_periodical_mruc_issue_vm2-ncsepro...</td>\n",
       "      <td>have been designed: there may therefore be the...</td>\n",
       "      <td>0.061052</td>\n",
       "    </tr>\n",
       "    <tr>\n",
       "      <th>90</th>\n",
       "      <td>artid_802845_periodical_t_issue_ttw_16051868_p...</td>\n",
       "      <td>woman's word-book.for the use of our young fri...</td>\n",
       "      <td>0.547142</td>\n",
       "    </tr>\n",
       "  </tbody>\n",
       "</table>\n",
       "<p>91 rows × 3 columns</p>\n",
       "</div>"
      ],
      "text/plain": [
       "                                            file_name  \\\n",
       "0   artid_841530_periodical_ns_issue_vm2-ncseprodu...   \n",
       "1   artid_751411_periodical_pc_issue_tec_01051889_...   \n",
       "2   artid_871466_periodical_ns_issue_ns2_02101852_...   \n",
       "3   artid_494321_periodical_ewj_issue_ewj_01051860...   \n",
       "4   artid_495935_periodical_ewj_issue_ewj_01011860...   \n",
       "..                                                ...   \n",
       "86  artid_841528_periodical_ns_issue_vm2-ncseprodu...   \n",
       "87  artid_766218_periodical_pc_issue_tec_01031886_...   \n",
       "88  artid_771187_periodical_pc_issue_tec_15091890_...   \n",
       "89  artid_653700_periodical_mruc_issue_vm2-ncsepro...   \n",
       "90  artid_802845_periodical_t_issue_ttw_16051868_p...   \n",
       "\n",
       "                                         content_html  cer_orig  \n",
       "0   monomania.since oxford \"popped\" at the queen, ...  0.052698  \n",
       "1   ‘the plague and the printing press: being a bi...  0.485795  \n",
       "2   he performed upon diverse of the foremost, who...  0.045032  \n",
       "3   having to tramp into some dirty court in searc...  0.152632  \n",
       "4   tomorrow we are going to pillage the archbisho...  0.124153  \n",
       "..                                                ...       ...  \n",
       "86  because too much power was placed in the hands...  0.059705  \n",
       "87  electrotypes. messrs. sampson low, marston, & ...  0.753086  \n",
       "88  books and rumours of booksmiss braddon's new n...  0.705517  \n",
       "89  have been designed: there may therefore be the...  0.061052  \n",
       "90  woman's word-book.for the use of our young fri...  0.547142  \n",
       "\n",
       "[91 rows x 3 columns]"
      ]
     },
     "execution_count": 20,
     "metadata": {},
     "output_type": "execute_result"
    }
   ],
   "source": [
    "corrected_transcript_oct_folder = \"./data/transcripts/transcription_files\"\n",
    "\n",
    "corrected_gold_ocr_df = load_txt_files_to_df(corrected_transcript_oct_folder)\n",
    "\n",
    "raw_ocr_df = load_txt_files_to_df(\"./data/transcripts/transcription_raw_ocr\")\n",
    "raw_ocr_df = raw_ocr_df.rename(columns={'content_html':'post_lm_text', 'file_name':'id'})\n",
    "\n",
    "corrected_gold_ocr_df = pre_evaluation_processing(raw_ocr_df, corrected_gold_ocr_df, post_lm_text= 'post_lm_text', gt_text = 'content_html' )\n",
    "corrected_gold_ocr_df = evaluate_model(df = corrected_gold_ocr_df, metric_obj = cer, gt_text = 'content_html', post_lm_text = 'post_lm_text')\n",
    "corrected_gold_ocr_df.rename(columns = {'cer':'cer_orig', 'id':'file_name'}, inplace=True)\n",
    "corrected_gold_ocr_df.drop(columns=['index', 'post_lm_text'], inplace=True)\n",
    "\n",
    "corrected_gold_ocr_df"
   ]
  },
  {
   "cell_type": "code",
   "execution_count": 62,
   "metadata": {},
   "outputs": [],
   "source": [
    "\n",
    "batch_file = 'file-NHwN8bGdp9xpveBt1rX8LF2V'\n",
    "\n",
    "jsonl_file =  \"./data/batch_job_results_furniture.jsonl\"\n"
   ]
  },
  {
   "cell_type": "code",
   "execution_count": 59,
   "metadata": {},
   "outputs": [],
   "source": []
  },
  {
   "cell_type": "code",
   "execution_count": 201,
   "metadata": {},
   "outputs": [
    {
     "data": {
      "text/plain": [
       "[Batch(id='batch_JUrnd5Vr4ULIoC9dVxZu29ve', completion_window='24h', created_at=1721732615, endpoint='/v1/chat/completions', input_file_id='file-2vSKGccZmNhYyAYIIFzjx6HL', object='batch', status='completed', cancelled_at=None, cancelling_at=None, completed_at=1721732669, error_file_id=None, errors=None, expired_at=None, expires_at=1721819015, failed_at=None, finalizing_at=1721732665, in_progress_at=1721732615, metadata={'description': 'silver_instructions_ICL'}, output_file_id='file-8EMaqLAJRHqOd8gs5SzggTG2', request_counts=BatchRequestCounts(completed=91, failed=0, total=91)),\n",
       " Batch(id='batch_dz5APpniHldq490XDCtPrQbS', completion_window='24h', created_at=1721732600, endpoint='/v1/chat/completions', input_file_id='file-7xe6NOtw0HiXXKKprCuSGwFd', object='batch', status='completed', cancelled_at=None, cancelling_at=None, completed_at=1721732667, error_file_id=None, errors=None, expired_at=None, expires_at=1721819000, failed_at=None, finalizing_at=1721732664, in_progress_at=1721732600, metadata={'description': 'silver_instructions_historical'}, output_file_id='file-8aGk8M9n5VIyQsySW7UqnnQc', request_counts=BatchRequestCounts(completed=91, failed=0, total=91))]"
      ]
     },
     "execution_count": 201,
     "metadata": {},
     "output_type": "execute_result"
    }
   ],
   "source": [
    "batch_data.data"
   ]
  },
  {
   "cell_type": "code",
   "execution_count": 15,
   "metadata": {},
   "outputs": [],
   "source": [
    "\n",
    "#save_openai_batch_result('file-8aGk8M9n5VIyQsySW7UqnnQc',  './data/test_prompt_results/silver_instructions_historical.jsonl')\n",
    "save_openai_batch_result('file-8ANGDnRRYSCe8bQc4ZhYvl3p',  './data/test_prompt_results/silver_instructions_longprompt.jsonl')"
   ]
  },
  {
   "cell_type": "code",
   "execution_count": 261,
   "metadata": {},
   "outputs": [
    {
     "data": {
      "text/html": [
       "<div>\n",
       "<style scoped>\n",
       "    .dataframe tbody tr th:only-of-type {\n",
       "        vertical-align: middle;\n",
       "    }\n",
       "\n",
       "    .dataframe tbody tr th {\n",
       "        vertical-align: top;\n",
       "    }\n",
       "\n",
       "    .dataframe thead th {\n",
       "        text-align: right;\n",
       "    }\n",
       "</style>\n",
       "<table border=\"1\" class=\"dataframe\">\n",
       "  <thead>\n",
       "    <tr style=\"text-align: right;\">\n",
       "      <th></th>\n",
       "      <th>cer</th>\n",
       "      <th>ERP</th>\n",
       "    </tr>\n",
       "  </thead>\n",
       "  <tbody>\n",
       "    <tr>\n",
       "      <th>count</th>\n",
       "      <td>91.000000</td>\n",
       "      <td>91.000000</td>\n",
       "    </tr>\n",
       "    <tr>\n",
       "      <th>mean</th>\n",
       "      <td>0.194177</td>\n",
       "      <td>0.559327</td>\n",
       "    </tr>\n",
       "    <tr>\n",
       "      <th>std</th>\n",
       "      <td>0.212007</td>\n",
       "      <td>0.272929</td>\n",
       "    </tr>\n",
       "    <tr>\n",
       "      <th>min</th>\n",
       "      <td>0.000000</td>\n",
       "      <td>-0.088000</td>\n",
       "    </tr>\n",
       "    <tr>\n",
       "      <th>25%</th>\n",
       "      <td>0.009783</td>\n",
       "      <td>0.295848</td>\n",
       "    </tr>\n",
       "    <tr>\n",
       "      <th>50%</th>\n",
       "      <td>0.102807</td>\n",
       "      <td>0.564295</td>\n",
       "    </tr>\n",
       "    <tr>\n",
       "      <th>75%</th>\n",
       "      <td>0.365254</td>\n",
       "      <td>0.818007</td>\n",
       "    </tr>\n",
       "    <tr>\n",
       "      <th>max</th>\n",
       "      <td>1.048387</td>\n",
       "      <td>1.000000</td>\n",
       "    </tr>\n",
       "  </tbody>\n",
       "</table>\n",
       "</div>"
      ],
      "text/plain": [
       "             cer        ERP\n",
       "count  91.000000  91.000000\n",
       "mean    0.194177   0.559327\n",
       "std     0.212007   0.272929\n",
       "min     0.000000  -0.088000\n",
       "25%     0.009783   0.295848\n",
       "50%     0.102807   0.564295\n",
       "75%     0.365254   0.818007\n",
       "max     1.048387   1.000000"
      ]
     },
     "execution_count": 261,
     "metadata": {},
     "output_type": "execute_result"
    }
   ],
   "source": [
    "silver_instructions_between = convert_opanai_jsonl_to_df('./data/test_prompt_results/silver_instructions_ICL.jsonl')\n",
    "silver_instructions_between = pre_evaluation_processing(silver_instructions_between, corrected_gold_ocr_df, post_lm_text= 'post_lm_text', gt_text = 'content_html' )\n",
    "\n",
    "silver_instructions_between = evaluate_model(df = silver_instructions_between, metric_obj = cer, gt_text = 'content_html', post_lm_text = 'post_lm_text')\n",
    "silver_instructions_between['ERP'] = (silver_instructions_between['cer_orig'] - silver_instructions_between['cer'])/silver_instructions_between['cer_orig'] \n",
    "silver_instructions_between[['cer', 'ERP']].describe()"
   ]
  },
  {
   "cell_type": "code",
   "execution_count": 262,
   "metadata": {},
   "outputs": [
    {
     "data": {
      "text/html": [
       "<div>\n",
       "<style scoped>\n",
       "    .dataframe tbody tr th:only-of-type {\n",
       "        vertical-align: middle;\n",
       "    }\n",
       "\n",
       "    .dataframe tbody tr th {\n",
       "        vertical-align: top;\n",
       "    }\n",
       "\n",
       "    .dataframe thead th {\n",
       "        text-align: right;\n",
       "    }\n",
       "</style>\n",
       "<table border=\"1\" class=\"dataframe\">\n",
       "  <thead>\n",
       "    <tr style=\"text-align: right;\">\n",
       "      <th></th>\n",
       "      <th>cer</th>\n",
       "      <th>ERP</th>\n",
       "    </tr>\n",
       "  </thead>\n",
       "  <tbody>\n",
       "    <tr>\n",
       "      <th>count</th>\n",
       "      <td>91.000000</td>\n",
       "      <td>91.000000</td>\n",
       "    </tr>\n",
       "    <tr>\n",
       "      <th>mean</th>\n",
       "      <td>0.179128</td>\n",
       "      <td>0.599517</td>\n",
       "    </tr>\n",
       "    <tr>\n",
       "      <th>std</th>\n",
       "      <td>0.195479</td>\n",
       "      <td>0.250826</td>\n",
       "    </tr>\n",
       "    <tr>\n",
       "      <th>min</th>\n",
       "      <td>0.000000</td>\n",
       "      <td>-0.031642</td>\n",
       "    </tr>\n",
       "    <tr>\n",
       "      <th>25%</th>\n",
       "      <td>0.009184</td>\n",
       "      <td>0.425103</td>\n",
       "    </tr>\n",
       "    <tr>\n",
       "      <th>50%</th>\n",
       "      <td>0.094840</td>\n",
       "      <td>0.617108</td>\n",
       "    </tr>\n",
       "    <tr>\n",
       "      <th>75%</th>\n",
       "      <td>0.338043</td>\n",
       "      <td>0.826114</td>\n",
       "    </tr>\n",
       "    <tr>\n",
       "      <th>max</th>\n",
       "      <td>0.758065</td>\n",
       "      <td>1.000000</td>\n",
       "    </tr>\n",
       "  </tbody>\n",
       "</table>\n",
       "</div>"
      ],
      "text/plain": [
       "             cer        ERP\n",
       "count  91.000000  91.000000\n",
       "mean    0.179128   0.599517\n",
       "std     0.195479   0.250826\n",
       "min     0.000000  -0.031642\n",
       "25%     0.009184   0.425103\n",
       "50%     0.094840   0.617108\n",
       "75%     0.338043   0.826114\n",
       "max     0.758065   1.000000"
      ]
     },
     "execution_count": 262,
     "metadata": {},
     "output_type": "execute_result"
    }
   ],
   "source": [
    "silver_instructions_between = convert_opanai_jsonl_to_df('./data/test_prompt_results/silver_instructions_historical.jsonl')\n",
    "silver_instructions_between = pre_evaluation_processing(silver_instructions_between, corrected_gold_ocr_df, post_lm_text= 'post_lm_text', gt_text = 'content_html' )\n",
    "\n",
    "silver_instructions_between = evaluate_model(df = silver_instructions_between, metric_obj = cer, gt_text = 'content_html', post_lm_text = 'post_lm_text')\n",
    "silver_instructions_between['ERP'] = (silver_instructions_between['cer_orig'] - silver_instructions_between['cer'])/silver_instructions_between['cer_orig'] \n",
    "silver_instructions_between[['cer', 'ERP']].describe()"
   ]
  },
  {
   "cell_type": "code",
   "execution_count": 21,
   "metadata": {},
   "outputs": [
    {
     "data": {
      "text/html": [
       "<div>\n",
       "<style scoped>\n",
       "    .dataframe tbody tr th:only-of-type {\n",
       "        vertical-align: middle;\n",
       "    }\n",
       "\n",
       "    .dataframe tbody tr th {\n",
       "        vertical-align: top;\n",
       "    }\n",
       "\n",
       "    .dataframe thead th {\n",
       "        text-align: right;\n",
       "    }\n",
       "</style>\n",
       "<table border=\"1\" class=\"dataframe\">\n",
       "  <thead>\n",
       "    <tr style=\"text-align: right;\">\n",
       "      <th></th>\n",
       "      <th>cer</th>\n",
       "      <th>ERP</th>\n",
       "    </tr>\n",
       "  </thead>\n",
       "  <tbody>\n",
       "    <tr>\n",
       "      <th>count</th>\n",
       "      <td>91.000000</td>\n",
       "      <td>91.000000</td>\n",
       "    </tr>\n",
       "    <tr>\n",
       "      <th>mean</th>\n",
       "      <td>0.193581</td>\n",
       "      <td>0.550641</td>\n",
       "    </tr>\n",
       "    <tr>\n",
       "      <th>std</th>\n",
       "      <td>0.212895</td>\n",
       "      <td>0.259574</td>\n",
       "    </tr>\n",
       "    <tr>\n",
       "      <th>min</th>\n",
       "      <td>0.001185</td>\n",
       "      <td>-0.088000</td>\n",
       "    </tr>\n",
       "    <tr>\n",
       "      <th>25%</th>\n",
       "      <td>0.011301</td>\n",
       "      <td>0.336447</td>\n",
       "    </tr>\n",
       "    <tr>\n",
       "      <th>50%</th>\n",
       "      <td>0.094840</td>\n",
       "      <td>0.514596</td>\n",
       "    </tr>\n",
       "    <tr>\n",
       "      <th>75%</th>\n",
       "      <td>0.367834</td>\n",
       "      <td>0.795190</td>\n",
       "    </tr>\n",
       "    <tr>\n",
       "      <th>max</th>\n",
       "      <td>1.103226</td>\n",
       "      <td>0.947368</td>\n",
       "    </tr>\n",
       "  </tbody>\n",
       "</table>\n",
       "</div>"
      ],
      "text/plain": [
       "             cer        ERP\n",
       "count  91.000000  91.000000\n",
       "mean    0.193581   0.550641\n",
       "std     0.212895   0.259574\n",
       "min     0.001185  -0.088000\n",
       "25%     0.011301   0.336447\n",
       "50%     0.094840   0.514596\n",
       "75%     0.367834   0.795190\n",
       "max     1.103226   0.947368"
      ]
     },
     "execution_count": 21,
     "metadata": {},
     "output_type": "execute_result"
    }
   ],
   "source": [
    "silver_instructions_between = convert_opanai_jsonl_to_df('./data/test_prompt_results/silver_instructions_longprompt.jsonl')\n",
    "silver_instructions_between = pre_evaluation_processing(silver_instructions_between, corrected_gold_ocr_df, post_lm_text= 'post_lm_text', gt_text = 'content_html' )\n",
    "\n",
    "silver_instructions_between = evaluate_model(df = silver_instructions_between, metric_obj = cer, gt_text = 'content_html', post_lm_text = 'post_lm_text')\n",
    "silver_instructions_between['ERP'] = (silver_instructions_between['cer_orig'] - silver_instructions_between['cer'])/silver_instructions_between['cer_orig'] \n",
    "silver_instructions_between[['cer', 'ERP']].describe()"
   ]
  },
  {
   "cell_type": "markdown",
   "metadata": {},
   "source": [
    "# Create training dataset from SMH from trove\n",
    "\n"
   ]
  },
  {
   "cell_type": "code",
   "execution_count": null,
   "metadata": {},
   "outputs": [],
   "source": []
  }
 ],
 "metadata": {
  "kernelspec": {
   "display_name": ".venv",
   "language": "python",
   "name": "python3"
  },
  "language_info": {
   "codemirror_mode": {
    "name": "ipython",
    "version": 3
   },
   "file_extension": ".py",
   "mimetype": "text/x-python",
   "name": "python",
   "nbconvert_exporter": "python",
   "pygments_lexer": "ipython3",
   "version": "3.12.3"
  }
 },
 "nbformat": 4,
 "nbformat_minor": 2
}
